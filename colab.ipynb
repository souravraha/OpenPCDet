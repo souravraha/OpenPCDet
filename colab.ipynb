{
  "nbformat": 4,
  "nbformat_minor": 0,
  "metadata": {
    "colab": {
      "name": "Git_repos.ipynb",
      "provenance": [],
      "include_colab_link": true
    },
    "kernelspec": {
      "display_name": "Python 3",
      "name": "python3"
    },
    "language_info": {
      "name": "python"
    },
    "gpuClass": "standard"
  },
  "cells": [
    {
      "cell_type": "markdown",
      "metadata": {
        "id": "view-in-github",
        "colab_type": "text"
      },
      "source": [
        "<a href=\"https://colab.research.google.com/github/souravraha/OpenPCDet/blob/dry_run/colab.ipynb\" target=\"_parent\"><img src=\"https://colab.research.google.com/assets/colab-badge.svg\" alt=\"Open In Colab\"/></a>"
      ]
    },
    {
      "cell_type": "markdown",
      "source": [
        "## OpenPCDet"
      ],
      "metadata": {
        "id": "6C0WfYnk1U_Y"
      }
    },
    {
      "cell_type": "markdown",
      "source": [
        "### Install packages"
      ],
      "metadata": {
        "id": "u8JcEg5Am56r"
      }
    },
    {
      "cell_type": "code",
      "source": [
        "!nvcc --version\n",
        "!pip install spconv-cu111 open3d pillow==8.2.0\n",
        "\n",
        "import os\n",
        "os.kill(os.getpid(), 9)"
      ],
      "metadata": {
        "id": "7peNMIJFegts"
      },
      "execution_count": null,
      "outputs": []
    },
    {
      "cell_type": "code",
      "source": [
        "pwd"
      ],
      "metadata": {
        "id": "MdJDxSwfnvnR"
      },
      "execution_count": null,
      "outputs": []
    },
    {
      "cell_type": "markdown",
      "source": [
        "### Download resources"
      ],
      "metadata": {
        "id": "-nyo3vM0mx85"
      }
    },
    {
      "cell_type": "code",
      "source": [
        "from torchvision import datasets, utils\n",
        "import os"
      ],
      "metadata": {
        "id": "q_mkHKOgyKm7"
      },
      "execution_count": null,
      "outputs": []
    },
    {
      "cell_type": "code",
      "source": [
        "class my_Kitti(datasets.Kitti):\n",
        "    resources = datasets.Kitti.resources + ['data_object_velodyne.zip', 'data_object_calib.zip']\n",
        "    laser_dir_name = 'velodyne'\n",
        "    calib_dir_name = 'calib'\n",
        "    \n",
        "    def _check_exists(self) -> bool:\n",
        "        folders = [self.laser_dir_name, self.calib_dir_name]\n",
        "        return super()._check_exists() and all(os.path.isdir(os.path.join(self._raw_folder, self._location, fname)) for fname in folders)"
      ],
      "metadata": {
        "id": "ySKO4Ct6zQfi"
      },
      "execution_count": null,
      "outputs": []
    },
    {
      "cell_type": "code",
      "source": [
        "my_kitti('./', False, download=True)"
      ],
      "metadata": {
        "id": "evD481hu8PCQ"
      },
      "execution_count": null,
      "outputs": []
    },
    {
      "cell_type": "markdown",
      "source": [
        "### Git import"
      ],
      "metadata": {
        "id": "nKcDSfjznKID"
      }
    },
    {
      "cell_type": "code",
      "metadata": {
        "id": "CilkAW8b_Ywb",
        "collapsed": true
      },
      "source": [
        "!git clone https://github.com/souravraha/OpenPCDet.git\n",
        "%cd OpenPCDet/"
      ],
      "execution_count": null,
      "outputs": []
    },
    {
      "cell_type": "code",
      "source": [
        "# !git remote add origin https://github.com/souravraha/OpenPCDet.git\n",
        "!git remote add upstream https://github.com/open-mmlab/OpenPCDet.git\n",
        "!git remote -v"
      ],
      "metadata": {
        "id": "71DEk6u32b5u",
        "collapsed": true
      },
      "execution_count": null,
      "outputs": []
    },
    {
      "cell_type": "code",
      "source": [
        "!git pull upstream master\n",
        "!git checkout -b dry_run\n",
        "!git branch"
      ],
      "metadata": {
        "id": "Iu7KcF9S2-Qj",
        "collapsed": true
      },
      "execution_count": null,
      "outputs": []
    },
    {
      "cell_type": "code",
      "source": [
        "\n",
        "%run -i setup.py develop"
      ],
      "metadata": {
        "id": "1bCNdpX_9mNU",
        "collapsed": true
      },
      "execution_count": null,
      "outputs": []
    },
    {
      "cell_type": "code",
      "source": [
        "# !gdown 1lIOq4Hxr0W3qsX83ilQv0nk1Cls6KAr-\n",
        "\n",
        "from torchvision import datasets\n",
        "_ = datasets.Kitti('./', train=False, download=True)\n",
        "# !rm ./Kitti/raw/data_object_*\n",
        "# !mv ./Kitti/raw/* data/kitti/\n",
        "# !rm -rf ./Kitti\n",
        "# %run -i demo.py --cfg_file tools/cfgs/kitti_models/pv_rcnn.yaml --ckpt pv_rcnn_8369.pth --data_path data/kitti"
      ],
      "metadata": {
        "id": "y-_r1ubWAy1p"
      },
      "execution_count": null,
      "outputs": []
    },
    {
      "cell_type": "code",
      "source": [
        "!git config --global user.email \"souravahar@gmail.com\"\n",
        "!git config --global user.name \"Sourav Raha\"\n",
        "!git add -A\n",
        "!git commit -m \"downloaded ckpt and partial data\"\n",
        "!git push origin dry_run"
      ],
      "metadata": {
        "id": "bidV56YHwS9u",
        "collapsed": true
      },
      "execution_count": null,
      "outputs": []
    },
    {
      "cell_type": "code",
      "source": [],
      "metadata": {
        "id": "nE_sWiiT6bQ4"
      },
      "execution_count": null,
      "outputs": []
    },
    {
      "cell_type": "code",
      "source": [],
      "metadata": {
        "id": "iBcuD-uq6tuF"
      },
      "execution_count": null,
      "outputs": []
    }
  ]
}