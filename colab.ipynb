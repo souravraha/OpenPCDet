{
  "nbformat": 4,
  "nbformat_minor": 0,
  "metadata": {
    "colab": {
      "name": "Git_repos.ipynb",
      "provenance": [],
      "private_outputs": true,
      "include_colab_link": true
    },
    "kernelspec": {
      "display_name": "Python 3",
      "name": "python3"
    },
    "language_info": {
      "name": "python"
    },
    "gpuClass": "standard",
    "accelerator": "GPU"
  },
  "cells": [
    {
      "cell_type": "markdown",
      "metadata": {
        "id": "view-in-github",
        "colab_type": "text"
      },
      "source": [
        "<a href=\"https://colab.research.google.com/github/souravraha/OpenPCDet/blob/dry_run/colab.ipynb\" target=\"_parent\"><img src=\"https://colab.research.google.com/assets/colab-badge.svg\" alt=\"Open In Colab\"/></a>"
      ]
    },
    {
      "cell_type": "markdown",
      "source": [
        "### Display outputs"
      ],
      "metadata": {
        "id": "KfRekpVupdUr"
      }
    },
    {
      "cell_type": "code",
      "source": [
        "from IPython.display import HTML, display\n",
        "\n",
        "def set_css():\n",
        "    display(HTML('''<style>pre{white-space: pre-wrap;}</style>'''))\n",
        "    \n",
        "get_ipython().events.register('pre_run_cell', set_css)"
      ],
      "metadata": {
        "id": "3HUyWTgeMnw1"
      },
      "execution_count": null,
      "outputs": []
    },
    {
      "cell_type": "markdown",
      "source": [
        "### Install packages"
      ],
      "metadata": {
        "id": "u8JcEg5Am56r"
      }
    },
    {
      "cell_type": "code",
      "source": [
        "!lspci | grep -i nvidia"
      ],
      "metadata": {
        "id": "KZz2cRfP6Dw7"
      },
      "execution_count": null,
      "outputs": []
    },
    {
      "cell_type": "code",
      "source": [
        "!uname -m && cat /etc/*release"
      ],
      "metadata": {
        "id": "njBLQDhW6JY4"
      },
      "execution_count": null,
      "outputs": []
    },
    {
      "cell_type": "code",
      "source": [
        "!uname -r"
      ],
      "metadata": {
        "id": "W6JRywoc6Sag"
      },
      "execution_count": null,
      "outputs": []
    },
    {
      "cell_type": "code",
      "source": [
        "!nvidia-smi"
      ],
      "metadata": {
        "id": "KpkZhBd95t6C"
      },
      "execution_count": null,
      "outputs": []
    },
    {
      "cell_type": "code",
      "source": [
        "!nvcc --version"
      ],
      "metadata": {
        "id": "7peNMIJFegts"
      },
      "execution_count": null,
      "outputs": []
    },
    {
      "cell_type": "code",
      "source": [
        "!g++ --version"
      ],
      "metadata": {
        "id": "-mvzFEfy6i5N"
      },
      "execution_count": null,
      "outputs": []
    },
    {
      "cell_type": "code",
      "source": [
        "!gcc --version"
      ],
      "metadata": {
        "id": "561h43S86nWV"
      },
      "execution_count": null,
      "outputs": []
    },
    {
      "cell_type": "code",
      "source": [
        "!cmake --version"
      ],
      "metadata": {
        "id": "2Welt1Ss6yuy"
      },
      "execution_count": null,
      "outputs": []
    },
    {
      "cell_type": "code",
      "source": [
        "%conda install pyqt qtpy"
      ],
      "metadata": {
        "id": "h9Pe1rPb7gqZ"
      },
      "execution_count": null,
      "outputs": []
    },
    {
      "cell_type": "markdown",
      "source": [
        "### Git import"
      ],
      "metadata": {
        "id": "nKcDSfjznKID"
      }
    },
    {
      "cell_type": "code",
      "metadata": {
        "id": "CilkAW8b_Ywb",
        "collapsed": true
      },
      "source": [
        "# !rm -rf ../OpenPCDet/\n",
        "!git config --global user.email \"souravraha@ufl.edu\"\n",
        "!git config --global user.name \"Sourav Raha\"\n",
        "# !git clone https://github.com/souravraha/OpenPCDet.git\n",
        "# %cd OpenPCDet/"
      ],
      "execution_count": null,
      "outputs": []
    },
    {
      "cell_type": "code",
      "source": [
        "# !git remote add origin https://github.com/souravraha/OpenPCDet.git\n",
        "# !git remote add upstream https://github.com/open-mmlab/OpenPCDet.git\n",
        "!git remote -v"
      ],
      "metadata": {
        "id": "71DEk6u32b5u",
        "collapsed": true
      },
      "execution_count": null,
      "outputs": []
    },
    {
      "cell_type": "code",
      "source": [
        "# !git pull upstream master\n",
        "# !git checkout -b dry_run\n",
        "!git branch"
      ],
      "metadata": {
        "id": "Iu7KcF9S2-Qj",
        "collapsed": true
      },
      "execution_count": null,
      "outputs": []
    },
    {
      "cell_type": "markdown",
      "source": [
        "### Installation"
      ],
      "metadata": {
        "id": "dDhofOvrNZal"
      }
    },
    {
      "cell_type": "code",
      "source": [
        "%conda env list"
      ],
      "metadata": {
        "id": "QkNt4sFrPtsf"
      },
      "execution_count": null,
      "outputs": []
    },
    {
      "cell_type": "code",
      "source": [
        "%conda install pytorch torchvision torchaudio cudatoolkit=10.2 -c pytorch"
      ],
      "metadata": {
        "id": "VqKdLPNRODw1"
      },
      "execution_count": null,
      "outputs": []
    },
    {
      "cell_type": "code",
      "source": [
        "import torch\n",
        "print(torch.cuda.is_available())\n",
        "print(torch.cuda.get_arch_list())"
      ],
      "metadata": {
        "id": "x-zH3WsJSkJQ"
      },
      "execution_count": null,
      "outputs": []
    },
    {
      "cell_type": "code",
      "source": [
        "%run -p setup.py develop"
      ],
      "metadata": {
        "id": "1bCNdpX_9mNU",
        "collapsed": true
      },
      "execution_count": null,
      "outputs": []
    },
    {
      "cell_type": "code",
      "source": [
        "%run -m pcdet.datasets.kitti.kitti_dataset create_kitti_infos tools/cfgs/dataset_configs/kitti_dataset.yaml"
      ],
      "metadata": {
        "id": "Pj9LCQ0Yr9PK"
      },
      "execution_count": null,
      "outputs": []
    },
    {
      "cell_type": "code",
      "source": [
        "%pip install mayavi"
      ],
      "metadata": {
        "id": "mhGCaqOYwuPL"
      },
      "execution_count": null,
      "outputs": []
    },
    {
      "cell_type": "code",
      "source": [
        "%cd OpenPCDet/tools/"
      ],
      "metadata": {
        "id": "YsJeFvb3w7at"
      },
      "execution_count": null,
      "outputs": []
    },
    {
      "cell_type": "code",
      "source": [
        "%run -i demo.py --cfg_file cfgs/kitti_models/pv_rcnn.yaml --ckpt /DATA/souraviai/my_Kitti/pv_rcnn_8369.pth --data_path ../data/kitti/training/velodyne/000000.bin"
      ],
      "metadata": {
        "id": "xfB5lbt9xBrU"
      },
      "execution_count": null,
      "outputs": []
    },
    {
      "cell_type": "markdown",
      "source": [
        "### Download/Extract resources"
      ],
      "metadata": {
        "id": "-nyo3vM0mx85"
      }
    },
    {
      "cell_type": "code",
      "source": [
        "from torchvision.datasets import Kitti\n",
        "import os\n",
        "# from torchvision.datasets.utils import download_and_extract_archive, download_url, extract_archive"
      ],
      "metadata": {
        "id": "q_mkHKOgyKm7"
      },
      "execution_count": null,
      "outputs": []
    },
    {
      "cell_type": "code",
      "source": [
        "class my_Kitti(Kitti):\n",
        "\n",
        "    resources = Kitti.resources + ['data_object_velodyne.zip', 'data_object_calib.zip']\n",
        "    laser_dir_name = 'velodyne'\n",
        "    calib_dir_name = 'calib'\n",
        "    \n",
        "    def _check_exists(self) -> bool:\n",
        "        if super()._check_exists():\n",
        "            folders = [self.laser_dir_name, self.calib_dir_name]\n",
        "            return all(os.path.isdir(os.path.join(self._raw_folder, self._location, fname)) for fname in folders)\n",
        "\n",
        "        else:\n",
        "            return False\n",
        "\n",
        "    # def download(self) -> None:\n",
        "    #     \"\"\"Download the KITTI data if it doesn't exist already.\"\"\"\n",
        "\n",
        "    #     if self._check_exists():\n",
        "    #         return\n",
        "\n",
        "    #     os.makedirs(self._raw_folder, exist_ok=True)\n",
        "\n",
        "    #     # download files\n",
        "    #     # https://github.com/pytorch/vision/blob/main/torchvision/datasets/utils.py\n",
        "    #     for fname in self.resources:\n",
        "    #         # download_url(f\"{self.data_url}{fname}\", \n",
        "    #         #              '/content/drive/MyDrive/ml',\n",
        "    #         #              fname)\n",
        "    #         # extract_root = self._raw_folder\n",
        "    #         # archive = os.path.join('/content/drive/MyDrive/ml', fname)\n",
        "    #         # print(f\"Extracting {archive} to {extract_root}\")\n",
        "    #         # try:\n",
        "    #         #     extract_archive(archive, extract_root, True)\n",
        "    #         # except Exception as f:\n",
        "    #         #     print(f)\n",
        "\n",
        "    #         download_and_extract_archive(\n",
        "    #             url=f\"{self.data_url}{fname}\",\n",
        "    #             # This downloads the zip files\n",
        "    #             # download_root='/content/drive/MyDrive/ml',\n",
        "    #             download_root=self._raw_folder,\n",
        "    #             # This extracts to the desired location\n",
        "    #             # extract_root=self._raw_folder,\n",
        "    #             filename=fname,\n",
        "    #             # This deletes the downloaded zip files\n",
        "    #             # Can't download and extract in the same session\n",
        "    #             remove_finished=True,\n",
        "    #         )     "
      ],
      "metadata": {
        "id": "ySKO4Ct6zQfi"
      },
      "execution_count": null,
      "outputs": []
    },
    {
      "cell_type": "code",
      "source": [
        "_ = my_Kitti('./data/kitti', False, download=True)"
      ],
      "metadata": {
        "id": "evD481hu8PCQ"
      },
      "execution_count": null,
      "outputs": []
    },
    {
      "cell_type": "code",
      "source": [
        "rm -rf ../drive/MyDrive/ml/my_Kitti"
      ],
      "metadata": {
        "id": "rSaL25FASxGy"
      },
      "execution_count": null,
      "outputs": []
    },
    {
      "cell_type": "code",
      "source": [
        "!git add -A\n",
        "!git config --global user.name \"souravraha\"\n",
        "!git commit -m \"could not run final demo\"\n",
        "!git push origin dry_run"
      ],
      "metadata": {
        "id": "bidV56YHwS9u",
        "collapsed": true
      },
      "execution_count": null,
      "outputs": []
    }
  ]
}