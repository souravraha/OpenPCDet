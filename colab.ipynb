{
  "nbformat": 4,
  "nbformat_minor": 0,
  "metadata": {
    "colab": {
      "name": "Git_repos.ipynb",
      "provenance": [],
      "include_colab_link": true
    },
    "kernelspec": {
      "display_name": "Python 3",
      "name": "python3"
    },
    "language_info": {
      "name": "python"
    },
    "gpuClass": "standard",
    "accelerator": "GPU"
  },
  "cells": [
    {
      "cell_type": "markdown",
      "metadata": {
        "id": "view-in-github",
        "colab_type": "text"
      },
      "source": [
        "<a href=\"https://colab.research.google.com/github/souravraha/OpenPCDet/blob/dry_run/colab.ipynb\" target=\"_parent\"><img src=\"https://colab.research.google.com/assets/colab-badge.svg\" alt=\"Open In Colab\"/></a>"
      ]
    },
    {
      "cell_type": "markdown",
      "source": [
        "### Display outputs"
      ],
      "metadata": {
        "id": "KfRekpVupdUr"
      }
    },
    {
      "cell_type": "code",
      "source": [
        "from IPython.display import HTML, display\n",
        "\n",
        "def set_css():\n",
        "    display(HTML('''<style>pre{white-space: pre-wrap;}</style>'''))\n",
        "    \n",
        "get_ipython().events.register('pre_run_cell', set_css)"
      ],
      "metadata": {
        "id": "3HUyWTgeMnw1"
      },
      "execution_count": 1,
      "outputs": []
    },
    {
      "cell_type": "markdown",
      "source": [
        "### GPU configs"
      ],
      "metadata": {
        "id": "u8JcEg5Am56r"
      }
    },
    {
      "cell_type": "code",
      "source": [
        "!lspci | grep -i nvidia"
      ],
      "metadata": {
        "id": "KZz2cRfP6Dw7",
        "outputId": "808d8d05-535a-4cc7-f5c2-df57b54d7a38",
        "colab": {
          "base_uri": "https://localhost:8080/",
          "height": 88
        }
      },
      "execution_count": 2,
      "outputs": [
        {
          "output_type": "display_data",
          "data": {
            "text/plain": [
              "<IPython.core.display.HTML object>"
            ],
            "text/html": [
              "<style>pre{white-space: pre-wrap;}</style>"
            ]
          },
          "metadata": {}
        },
        {
          "output_type": "stream",
          "name": "stdout",
          "text": [
            "31:00.0 VGA compatible controller: NVIDIA Corporation Device 2231 (rev a1)\r\n",
            "31:00.1 Audio device: NVIDIA Corporation Device 1aef (rev a1)\r\n",
            "ca:00.0 VGA compatible controller: NVIDIA Corporation Device 2231 (rev a1)\r\n",
            "ca:00.1 Audio device: NVIDIA Corporation Device 1aef (rev a1)\r\n"
          ]
        }
      ]
    },
    {
      "cell_type": "code",
      "source": [
        "!nvidia-smi"
      ],
      "metadata": {
        "id": "KpkZhBd95t6C",
        "outputId": "06ee8083-5451-448e-93c0-bc5ab5cf906b",
        "colab": {
          "base_uri": "https://localhost:8080/",
          "height": 601
        }
      },
      "execution_count": 5,
      "outputs": [
        {
          "output_type": "display_data",
          "data": {
            "text/plain": [
              "<IPython.core.display.HTML object>"
            ],
            "text/html": [
              "<style>pre{white-space: pre-wrap;}</style>"
            ]
          },
          "metadata": {}
        },
        {
          "output_type": "stream",
          "name": "stdout",
          "text": [
            "Fri Sep 30 00:03:30 2022       \r\n",
            "+-----------------------------------------------------------------------------+\r\n",
            "| NVIDIA-SMI 515.65.01    Driver Version: 515.65.01    CUDA Version: 11.7     |\r\n",
            "|-------------------------------+----------------------+----------------------+\r\n",
            "| GPU  Name        Persistence-M| Bus-Id        Disp.A | Volatile Uncorr. ECC |\r\n",
            "| Fan  Temp  Perf  Pwr:Usage/Cap|         Memory-Usage | GPU-Util  Compute M. |\r\n",
            "|                               |                      |               MIG M. |\r\n",
            "|===============================+======================+======================|\n",
            "|   0  NVIDIA RTX A5000    Off  | 00000000:31:00.0 Off |                  Off |\n",
            "| 52%   75C    P2   190W / 230W |   7761MiB / 24564MiB |     94%      Default |\n",
            "|                               |                      |                  N/A |\n",
            "+-------------------------------+----------------------+----------------------+\n",
            "|   1  NVIDIA RTX A5000    Off  | 00000000:CA:00.0 Off |                  Off |\n",
            "| 49%   74C    P2   199W / 230W |  17071MiB / 24564MiB |     99%      Default |\n",
            "|                               |                      |                  N/A |\n",
            "+-------------------------------+----------------------+----------------------+\n",
            "                                                                               \n",
            "+-----------------------------------------------------------------------------+\n",
            "| Processes:                                                                  |\n",
            "|  GPU   GI   CI        PID   Type   Process name                  GPU Memory |\n",
            "|        ID   ID                                                   Usage      |\n",
            "|=============================================================================|\n",
            "|    0   N/A  N/A      1478      G   /usr/lib/xorg/Xorg                  4MiB |\n",
            "|    0   N/A  N/A      2182      G   /usr/lib/xorg/Xorg                  4MiB |\n",
            "|    0   N/A  N/A     16174      C   python                           3945MiB |\n",
            "|    0   N/A  N/A     16508      C   python                           3501MiB |\n",
            "|    0   N/A  N/A     16714      C   python                            199MiB |\n",
            "|    0   N/A  N/A     16917      C   python                            199MiB |\n",
            "|    1   N/A  N/A      1478      G   /usr/lib/xorg/Xorg                  4MiB |\n",
            "|    1   N/A  N/A      2182      G   /usr/lib/xorg/Xorg                  4MiB |\n",
            "|    1   N/A  N/A     16714      C   python                           8613MiB |\n",
            "|    1   N/A  N/A     16917      C   python                           8445MiB |\n",
            "+-----------------------------------------------------------------------------+\n"
          ]
        }
      ]
    },
    {
      "cell_type": "code",
      "source": [
        "!nvidia-smi topo --matrix"
      ],
      "metadata": {
        "colab": {
          "base_uri": "https://localhost:8080/",
          "height": 247
        },
        "id": "ElHi0H79VUu1",
        "outputId": "f612bf18-a314-4b37-8152-e263fa5591e3"
      },
      "execution_count": 6,
      "outputs": [
        {
          "output_type": "display_data",
          "data": {
            "text/plain": [
              "<IPython.core.display.HTML object>"
            ],
            "text/html": [
              "<style>pre{white-space: pre-wrap;}</style>"
            ]
          },
          "metadata": {}
        },
        {
          "output_type": "stream",
          "name": "stdout",
          "text": [
            "\t\u001b[4mGPU0\tGPU1\tCPU Affinity\tNUMA Affinity\u001b[0m\n",
            "GPU0\t X \tSYS\t0-11,24-35\t0\n",
            "GPU1\tSYS\t X \t12-23,36-47\t1\n",
            "\n",
            "Legend:\n",
            "\n",
            "  X    = Self\n",
            "  SYS  = Connection traversing PCIe as well as the SMP interconnect between NUMA nodes (e.g., QPI/UPI)\n",
            "  NODE = Connection traversing PCIe as well as the interconnect between PCIe Host Bridges within a NUMA node\n",
            "  PHB  = Connection traversing PCIe as well as a PCIe Host Bridge (typically the CPU)\n",
            "  PXB  = Connection traversing multiple PCIe bridges (without traversing the PCIe Host Bridge)\n",
            "  PIX  = Connection traversing at most a single PCIe bridge\n",
            "  NV#  = Connection traversing a bonded set of # NVLinks\n"
          ]
        }
      ]
    },
    {
      "cell_type": "code",
      "source": [
        "!nvcc --version"
      ],
      "metadata": {
        "id": "7peNMIJFegts",
        "outputId": "e6cfe0ff-1984-42d8-8b42-ea2f636635c3",
        "colab": {
          "base_uri": "https://localhost:8080/",
          "height": 106
        }
      },
      "execution_count": 7,
      "outputs": [
        {
          "output_type": "display_data",
          "data": {
            "text/plain": [
              "<IPython.core.display.HTML object>"
            ],
            "text/html": [
              "<style>pre{white-space: pre-wrap;}</style>"
            ]
          },
          "metadata": {}
        },
        {
          "output_type": "stream",
          "name": "stdout",
          "text": [
            "nvcc: NVIDIA (R) Cuda compiler driver\r\n",
            "Copyright (c) 2005-2022 NVIDIA Corporation\r\n",
            "Built on Wed_Jun__8_16:49:14_PDT_2022\r\n",
            "Cuda compilation tools, release 11.7, V11.7.99\r\n",
            "Build cuda_11.7.r11.7/compiler.31442593_0\r\n"
          ]
        }
      ]
    },
    {
      "cell_type": "code",
      "source": [
        "# This is CUDA_HOME\n",
        "%ls /usr/local/cuda-11.7/"
      ],
      "metadata": {
        "id": "L3R8nCLCqPm0",
        "outputId": "d0b78ca2-7701-4033-8792-27431a9e2933",
        "colab": {
          "base_uri": "https://localhost:8080/",
          "height": 106
        }
      },
      "execution_count": 11,
      "outputs": [
        {
          "output_type": "display_data",
          "data": {
            "text/plain": [
              "<IPython.core.display.HTML object>"
            ],
            "text/html": [
              "<style>pre{white-space: pre-wrap;}</style>"
            ]
          },
          "metadata": {}
        },
        {
          "output_type": "stream",
          "name": "stdout",
          "text": [
            "\u001b[0m\u001b[01;34mbin\u001b[0m/                \u001b[01;34mgds\u001b[0m/       \u001b[01;34mnsight-compute-2022.2.1\u001b[0m/  README    version.json\r\n",
            "\u001b[01;34mcompute-sanitizer\u001b[0m/  \u001b[01;34mgds-11.7\u001b[0m/  \u001b[01;34mnsightee_plugins\u001b[0m/         \u001b[01;34mshare\u001b[0m/\r\n",
            "DOCS                \u001b[01;36minclude\u001b[0m@   \u001b[01;34mnsight-systems-2022.1.3\u001b[0m/  \u001b[01;34msrc\u001b[0m/\r\n",
            "EULA.txt            \u001b[01;36mlib64\u001b[0m@     \u001b[01;34mnvml\u001b[0m/                     \u001b[01;34mtargets\u001b[0m/\r\n",
            "\u001b[01;34mextras\u001b[0m/             \u001b[01;34mlibnvvp\u001b[0m/   \u001b[01;34mnvvm\u001b[0m/                     \u001b[01;34mtools\u001b[0m/\r\n"
          ]
        }
      ]
    },
    {
      "cell_type": "markdown",
      "source": [
        "### Other specs"
      ],
      "metadata": {
        "id": "8LXVfTHDiV6X"
      }
    },
    {
      "cell_type": "code",
      "source": [
        "!uname -r"
      ],
      "metadata": {
        "id": "W6JRywoc6Sag",
        "outputId": "e575e73c-d101-4361-9116-839d67f66cea",
        "colab": {
          "base_uri": "https://localhost:8080/",
          "height": 35
        }
      },
      "execution_count": 4,
      "outputs": [
        {
          "output_type": "display_data",
          "data": {
            "text/plain": [
              "<IPython.core.display.HTML object>"
            ],
            "text/html": [
              "<style>pre{white-space: pre-wrap;}</style>"
            ]
          },
          "metadata": {}
        },
        {
          "output_type": "stream",
          "name": "stdout",
          "text": [
            "5.13.0-30-generic\r\n"
          ]
        }
      ]
    },
    {
      "cell_type": "code",
      "source": [
        "!uname -m && cat /etc/*release"
      ],
      "metadata": {
        "id": "njBLQDhW6JY4",
        "outputId": "c7adeb66-6b1b-49f0-9a6d-b76be90ddd1e",
        "colab": {
          "base_uri": "https://localhost:8080/",
          "height": 318
        }
      },
      "execution_count": 3,
      "outputs": [
        {
          "output_type": "display_data",
          "data": {
            "text/plain": [
              "<IPython.core.display.HTML object>"
            ],
            "text/html": [
              "<style>pre{white-space: pre-wrap;}</style>"
            ]
          },
          "metadata": {}
        },
        {
          "output_type": "stream",
          "name": "stdout",
          "text": [
            "x86_64\r\n",
            "DISTRIB_ID=Ubuntu\r\n",
            "DISTRIB_RELEASE=20.04\r\n",
            "DISTRIB_CODENAME=focal\r\n",
            "DISTRIB_DESCRIPTION=\"Ubuntu 20.04.1 LTS\"\r\n",
            "NAME=\"Ubuntu\"\r\n",
            "VERSION=\"20.04.1 LTS (Focal Fossa)\"\r\n",
            "ID=ubuntu\r\n",
            "ID_LIKE=debian\r\n",
            "PRETTY_NAME=\"Ubuntu 20.04.1 LTS\"\r\n",
            "VERSION_ID=\"20.04\"\r\n",
            "HOME_URL=\"https://www.ubuntu.com/\"\r\n",
            "SUPPORT_URL=\"https://help.ubuntu.com/\"\r\n",
            "BUG_REPORT_URL=\"https://bugs.launchpad.net/ubuntu/\"\r\n",
            "PRIVACY_POLICY_URL=\"https://www.ubuntu.com/legal/terms-and-policies/privacy-policy\"\r\n",
            "VERSION_CODENAME=focal\r\n",
            "UBUNTU_CODENAME=focal\r\n"
          ]
        }
      ]
    },
    {
      "cell_type": "code",
      "source": [
        "!g++ --version"
      ],
      "metadata": {
        "id": "-mvzFEfy6i5N",
        "outputId": "62fe5b24-19bd-4434-b5c4-e699c06e6faa",
        "colab": {
          "base_uri": "https://localhost:8080/",
          "height": 106
        }
      },
      "execution_count": 8,
      "outputs": [
        {
          "output_type": "display_data",
          "data": {
            "text/plain": [
              "<IPython.core.display.HTML object>"
            ],
            "text/html": [
              "<style>pre{white-space: pre-wrap;}</style>"
            ]
          },
          "metadata": {}
        },
        {
          "output_type": "stream",
          "name": "stdout",
          "text": [
            "g++ (Ubuntu 9.4.0-1ubuntu1~20.04.1) 9.4.0\r\n",
            "Copyright (C) 2019 Free Software Foundation, Inc.\r\n",
            "This is free software; see the source for copying conditions.  There is NO\r\n",
            "warranty; not even for MERCHANTABILITY or FITNESS FOR A PARTICULAR PURPOSE.\r\n",
            "\r\n"
          ]
        }
      ]
    },
    {
      "cell_type": "code",
      "source": [
        "!gcc --version"
      ],
      "metadata": {
        "id": "561h43S86nWV",
        "outputId": "bf209a26-3e8d-4e4f-c513-e6af00032b71",
        "colab": {
          "base_uri": "https://localhost:8080/",
          "height": 106
        }
      },
      "execution_count": 9,
      "outputs": [
        {
          "output_type": "display_data",
          "data": {
            "text/plain": [
              "<IPython.core.display.HTML object>"
            ],
            "text/html": [
              "<style>pre{white-space: pre-wrap;}</style>"
            ]
          },
          "metadata": {}
        },
        {
          "output_type": "stream",
          "name": "stdout",
          "text": [
            "gcc (Ubuntu 9.4.0-1ubuntu1~20.04.1) 9.4.0\r\n",
            "Copyright (C) 2019 Free Software Foundation, Inc.\r\n",
            "This is free software; see the source for copying conditions.  There is NO\r\n",
            "warranty; not even for MERCHANTABILITY or FITNESS FOR A PARTICULAR PURPOSE.\r\n",
            "\r\n"
          ]
        }
      ]
    },
    {
      "cell_type": "code",
      "source": [
        "!cmake --version"
      ],
      "metadata": {
        "id": "2Welt1Ss6yuy",
        "outputId": "924a890b-7577-47fd-ad50-b2f7b984f786",
        "colab": {
          "base_uri": "https://localhost:8080/",
          "height": 70
        }
      },
      "execution_count": 10,
      "outputs": [
        {
          "output_type": "display_data",
          "data": {
            "text/plain": [
              "<IPython.core.display.HTML object>"
            ],
            "text/html": [
              "<style>pre{white-space: pre-wrap;}</style>"
            ]
          },
          "metadata": {}
        },
        {
          "output_type": "stream",
          "name": "stdout",
          "text": [
            "cmake version 3.24.1\r\n",
            "\r\n",
            "CMake suite maintained and supported by Kitware (kitware.com/cmake).\r\n"
          ]
        }
      ]
    },
    {
      "cell_type": "markdown",
      "source": [
        "### Installation of prerequisites"
      ],
      "metadata": {
        "id": "egebJwpnoIiT"
      }
    },
    {
      "cell_type": "code",
      "source": [
        "%conda list"
      ],
      "metadata": {
        "id": "vWTN5uV-q5lD",
        "outputId": "b057ad0e-206d-44e8-cccc-f2e18c702501",
        "colab": {
          "base_uri": "https://localhost:8080/",
          "height": 212
        }
      },
      "execution_count": 24,
      "outputs": [
        {
          "output_type": "display_data",
          "data": {
            "text/plain": [
              "<IPython.core.display.HTML object>"
            ],
            "text/html": [
              "<style>pre{white-space: pre-wrap;}</style>"
            ]
          },
          "metadata": {}
        },
        {
          "output_type": "stream",
          "name": "stdout",
          "text": [
            "# packages in environment at /home/souraviai/miniconda3/envs/mayavi:\r\n",
            "#\r\n",
            "# Name                    Version                   Build  Channel\r\n",
            "_libgcc_mutex             0.1                        main  \r\n",
            "_openmp_mutex             5.1                       1_gnu  \r\n",
            "ca-certificates           2022.07.19           h06a4308_0  \r\n",
            "libgcc-ng                 11.2.0               h1234567_1  \r\n",
            "libgomp                   11.2.0               h1234567_1  \r\n",
            "openssl                   1.1.1q               h7f8727e_0  \r\n",
            "\n",
            "Note: you may need to restart the kernel to use updated packages.\n"
          ]
        }
      ]
    },
    {
      "cell_type": "code",
      "source": [
        "%conda install python mayavi pytorch torchvision torchaudio cudatoolkit=11.6 -c pytorch -c conda-forge\n",
        "%pip install spconv-cu117"
      ],
      "metadata": {
        "id": "LZlhhnKarxa8",
        "outputId": "f36bd668-7d96-4a2c-d7db-86c462652703",
        "colab": {
          "base_uri": "https://localhost:8080/",
          "height": 141
        }
      },
      "execution_count": 25,
      "outputs": [
        {
          "output_type": "display_data",
          "data": {
            "text/plain": [
              "<IPython.core.display.HTML object>"
            ],
            "text/html": [
              "<style>pre{white-space: pre-wrap;}</style>"
            ]
          },
          "metadata": {}
        },
        {
          "output_type": "stream",
          "name": "stdout",
          "text": [
            "Collecting package metadata (current_repodata.json): - \b\b\\ \b\b| \b\b/ \b\b- \b\b\\ \b\b| \b\b/ \b\b- \b\b\\ \b\b| \b\b/ \b\b- \b\b\\ \b\b| \b\b/ \b\b- \b\b\\ \b\b| \b\b/ \b\b- \b\b\\ \b\b| \b\b/ \b\b- \b\b\\ \b\b| \b\b/ \b\b- \b\b\\ \b\b| \b\b/ \b\b- \b\b\\ \b\b| \b\b/ \b\b- \b\b\\ \b\b| \b\b/ \b\b- \b\b\\ \b\b| \b\b/ \b\b- \b\b\\ \b\b| \b\b/ \b\b- \b\b\\ \b\b| \b\b/ \b\b- \b\b\\ \b\b| \b\b/ \b\b- \b\b\\ \b\b| \b\b/ \b\b- \b\b\\ \b\b| \b\b/ \b\b- \b\b\\ \b\b| \b\b/ \b\b- \b\b\\ \b\b| \b\b/ \b\b- \b\b\\ \b\b| \b\b/ \b\b- \b\b\\ \b\b| \b\b/ \b\b- \b\b\\ \b\b| \b\b/ \b\b- \b\b\\ \b\b| \b\b/ \b\b- \b\b\\ \b\b| \b\b/ \b\b- \b\b\\ \b\b| \b\b/ \b\b- \b\b\\ \b\b| \b\b/ \b\b- \b\b\\ \b\b| \b\b/ \b\b- \b\b\\ \b\b| \b\b/ \b\b- \b\b\\ \b\b| \b\b/ \b\b- \b\b\\ \b\b| \b\b/ \b\b- \b\b\\ \b\bdone\n",
            "Solving environment: / \b\bfailed with initial frozen solve. Retrying with flexible solve.\n",
            "Collecting package metadata (repodata.json): \\ \b\b| \b\b/ \b\b- \b\b\\ \b\b| \b\b/ \b\b- \b\b\\ \b\b| \b\b/ \b\b- \b\b\\ \b\b| \b\b/ \b\b- \b\b\\ \b\b| \b\b/ \b\b- \b\b\\ \b\b| \b\b/ \b\b- \b\b\\ \b\b| \b\b/ \b\b- \b\b\\ \b\b| \b\b/ \b\b- \b\b\\ \b\b| \b\b/ \b\b- \b\b\\ \b\b| \b\b/ \b\b- \b\b\\ \b\b| \b\b/ \b\b- \b\b\\ \b\b| \b\b/ \b\b- \b\b\\ \b\b| \b\b/ \b\b- \b\b\\ \b\b| \b\b/ \b\b- \b\b\\ \b\b| \b\b/ \b\b- \b\b\\ \b\b| \b\b/ \b\b- \b\b\\ \b\b| \b\b/ \b\b- \b\b\\ \b\b| \b\b/ \b\b- \b\b\\ \b\b| \b\b/ \b\b- \b\b\\ \b\b| \b\b/ \b\b- \b\b\\ \b\b| \b\b/ \b\b- \b\b\\ \b\b| \b\b/ \b\b- \b\b\\ \b\b| \b\b/ \b\b- \b\b\\ \b\b| \b\b/ \b\b- \b\b\\ \b\b| \b\b/ \b\b- \b\b\\ \b\b| \b\b/ \b\b- \b\b\\ \b\b| \b\b/ \b\b- \b\b\\ \b\b| \b\b/ \b\b- \b\b\\ \b\b| \b\b/ \b\b- \b\b\\ \b\b| \b\b/ \b\b- \b\b\\ \b\b| \b\b/ \b\b- \b\b\\ \b\b| \b\b/ \b\b- \b\b\\ \b\b| \b\b/ \b\b- \b\b\\ \b\b| \b\b/ \b\b- \b\b\\ \b\b| \b\b/ \b\b- \b\b\\ \b\b| \b\b/ \b\b- \b\b\\ \b\b| \b\b/ \b\b- \b\b\\ \b\b| \b\b/ \b\b- \b\b\\ \b\b| \b\b/ \b\b- \b\b\\ \b\b| \b\b/ \b\b- \b\b\\ \b\b| \b\b/ \b\b- \b\b\\ \b\b| \b\b/ \b\b- \b\b\\ \b\b| \b\b/ \b\b- \b\b\\ \b\b| \b\b/ \b\b- \b\b\\ \b\b| \b\b/ \b\b- \b\b\\ \b\b| \b\b/ \b\b- \b\b\\ \b\b| \b\b/ \b\b- \b\b\\ \b\b| \b\b/ \b\b- \b\b\\ \b\b| \b\b/ \b\b- \b\b\\ \b\b| \b\b/ \b\b- \b\b\\ \b\b| \b\b/ \b\b- \b\b\\ \b\b| \b\b/ \b\b- \b\b\\ \b\b| \b\b/ \b\b- \b\b\\ \b\b| \b\b/ \b\b- \b\b\\ \b\b| \b\b/ \b\b- \b\b\\ \b\b| \b\b/ \b\b- \b\b\\ \b\b| \b\b/ \b\b- \b\b\\ \b\b| \b\b/ \b\b- \b\b\\ \b\b| \b\b/ \b\b- \b\b\\ \b\b| \b\b/ \b\b- \b\b\\ \b\b| \b\b/ \b\b- \b\b\\ \b\b| \b\b/ \b\b- \b\b\\ \b\b| \b\b/ \b\b- \b\b\\ \b\b| \b\b/ \b\b- \b\b\\ \b\b| \b\b/ \b\b- \b\b\\ \b\b| \b\b/ \b\b- \b\b\\ \b\b| \b\b/ \b\b- \b\b\\ \b\b| \b\b/ \b\b- \b\b\\ \b\b| \b\b/ \b\b- \b\b\\ \b\b| \b\b/ \b\b- \b\b\\ \b\b| \b\b/ \b\b- \b\b\\ \b\b| \b\b/ \b\b- \b\b\\ \b\b| \b\b/ \b\b- \b\b\\ \b\b| \b\b/ \b\b- \b\b\\ \b\b| \b\b/ \b\b- \b\b\\ \b\b| \b\b/ \b\b- \b\b\\ \b\b| \b\b/ \b\b- \b\b\\ \b\b| \b\b/ \b\b- \b\b\\ \b\b| \b\b/ \b\b- \b\b\\ \b\b| \b\b/ \b\b- \b\b\\ \b\b| \b\b/ \b\b- \b\b\\ \b\b| \b\b/ \b\b- \b\b\\ \b\b| \b\b/ \b\b- \b\b\\ \b\b| \b\b/ \b\b- \b\b\\ \b\b| \b\b/ \b\b- \b\b\\ \b\b| \b\b/ \b\b- \b\b\\ \b\b| \b\b/ \b\b- \b\b\\ \b\b| \b\b/ \b\b- \b\b\\ \b\b| \b\b/ \b\b- \b\b\\ \b\b| \b\b/ \b\b- \b\b\\ \b\b| \b\b/ \b\b- \b\b\\ \b\b| \b\b/ \b\b- \b\b\\ \b\b| \b\b/ \b\b- \b\b\\ \b\b| \b\b/ \b\b- \b\b\\ \b\b| \b\b/ \b\b- \b\b\\ \b\b| \b\b/ \b\b- \b\b\\ \b\b| \b\b/ \b\b- \b\b\\ \b\b| \b\b/ \b\b- \b\b\\ \b\b| \b\b/ \b\b- \b\b\\ \b\b| \b\b/ \b\b- \b\b\\ \b\b| \b\b/ \b\b- \b\b\\ \b\b| \b\b/ \b\b- \b\b\\ \b\b| \b\b/ \b\b- \b\b\\ \b\b| \b\b/ \b\b- \b\b\\ \b\b| \b\b/ \b\b- \b\b\\ \b\b| \b\b/ \b\b- \b\b\\ \b\b| \b\b/ \b\b- \b\b\\ \b\b| \b\b/ \b\b- \b\b\\ \b\b| \b\b/ \b\b- \b\b\\ \b\b| \b\b/ \b\b- \b\b\\ \b\b| \b\b/ \b\b- \b\b\\ \b\b| \b\b/ \b\b- \b\b\\ \b\b| \b\b/ \b\b- \b\b\\ \b\b| \b\b/ \b\b- \b\b\\ \b\b| \b\b/ \b\b- \b\b\\ \b\b| \b\b/ \b\b- \b\b\\ \b\b| \b\b/ \b\b- \b\b\\ \b\b| \b\b/ \b\b- \b\b\\ \b\b| \b\b/ \b\b- \b\b\\ \b\b| \b\b/ \b\b- \b\b\\ \b\b| \b\b/ \b\b- \b\b\\ \b\b| \b\b/ \b\b- \b\b\\ \b\b| \b\b/ \b\b- \b\b\\ \b\b| \b\b/ \b\b- \b\b\\ \b\b| \b\b/ \b\b- \b\b\\ \b\b| \b\b/ \b\b- \b\b\\ \b\b| \b\b/ \b\b- \b\b\\ \b\b| \b\b/ \b\b- \b\b\\ \b\b| \b\b/ \b\b- \b\b\\ \b\b| \b\b/ \b\b- \b\b\\ \b\b| \b\b/ \b\b- \b\b\\ \b\b| \b\b/ \b\b- \b\bdone\n",
            "Solving environment: | \b\b/ \b\b- \b\b\\ \b\b| \b\b/ \b\b- \b\b\\ \b\b| \b\b/ \b\b- \b\b\\ \b\b| \b\b/ \b\b- \b\b\\ \b\b| \b\b/ \b\b- \b\b\\ \b\b| \b\b/ \b\b- \b\b\\ \b\b| \b\b/ \b\b- \b\b\\ \b\b| \b\b/ \b\b- \b\b\\ \b\b| \b\b/ \b\b- \b\b\\ \b\b| \b\b/ \b\b- \b\b\\ \b\b| \b\b/ \b\b- \b\b\\ \b\b| \b\b/ \b\b- \b\b\\ \b\b| \b\b/ \b\b- \b\b\\ \b\b| \b\b/ \b\b- \b\b\\ \b\b| \b\b/ \b\b- \b\b\\ \b\b| \b\b/ \b\b- \b\b\\ \b\b| \b\b/ \b\b- \b\b\\ \b\b| \b\b/ \b\b- \b\b\\ \b\b| \b\b/ \b\b- \b\b\\ \b\b| \b\b/ \b\b- \b\b\\ \b\b| \b\b/ \b\b- \b\b\\ \b\b| \b\b/ \b\b- \b\b\\ \b\b| \b\b/ \b\b- \b\b\\ \b\b| \b\b/ \b\b- \b\b\\ \b\b| \b\b/ \b\b- \b\b\\ \b\b| \b\b/ \b\b- \b\b\\ \b\b| \b\b/ \b\b- \b\b\\ \b\b| \b\b/ \b\b- \b\b\\ \b\b| \b\b/ \b\b- \b\b\\ \b\b| \b\b/ \b\b- \b\b\\ \b\b| \b\b/ \b\b- \b\b\\ \b\b| \b\b/ \b\b- \b\b\\ \b\b| \b\b/ \b\b- \b\b\\ \b\b| \b\b/ \b\b- \b\b\\ \b\b| \b\b/ \b\b- \b\b\\ \b\b| \b\b/ \b\b- \b\b\\ \b\b| \b\b/ \b\b- \b\b\\ \b\b| \b\b/ \b\b- \b\b\\ \b\b| \b\b/ \b\b- \b\b\\ \b\b| \b\b/ \b\b- \b\b\\ \b\b| \b\b/ \b\b- \b\b\\ \b\b| \b\b/ \b\b- \b\b\\ \b\b| \b\b/ \b\b- \b\b\\ \b\b| \b\b/ \b\b- \b\b\\ \b\b| \b\b/ \b\b- \b\b\\ \b\b| \b\b/ \b\b- \b\b\\ \b\b| \b\b/ \b\b- \b\b\\ \b\b| \b\b/ \b\b- \b\b\\ \b\b| \b\b/ \b\b- \b\b\\ \b\b| \b\b/ \b\b- \b\b\\ \b\b| \b\b/ \b\b- \b\b\\ \b\b| \b\b/ \b\b- \b\b\\ \b\b| \b\b/ \b\b- \b\b\\ \b\b| \b\b/ \b\b- \b\b\\ \b\b| \b\b/ \b\b- \b\b\\ \b\b| \b\b/ \b\b- \b\b\\ \b\b| \b\b/ \b\b- \b\b\\ \b\b| \b\b/ \b\b- \b\b\\ \b\b| \b\b/ \b\b- \b\b\\ \b\b| \b\b/ \b\b- \b\b\\ \b\b| \b\b/ \b\b- \b\b\\ \b\b| \b\b/ \b\b- \b\b\\ \b\b| \b\b/ \b\b- \b\b\\ \b\b| \b\b/ \b\b- \b\b\\ \b\b| \b\b/ \b\b- \b\b\\ \b\b| \b\b/ \b\b- \b\b\\ \b\b| \b\b/ \b\b- \b\b\\ \b\b| \b\b/ \b\b- \b\b\\ \b\b| \b\b/ \b\b- \b\b\\ \b\b| \b\b/ \b\b- \b\b\\ \b\b| \b\b/ \b\b- \b\b\\ \b\b| \b\b/ \b\b- \b\b\\ \b\b| \b\b/ \b\b- \b\b\\ \b\b| \b\b/ \b\b- \b\b\\ \b\b| \b\b/ \b\b- \b\b\\ \b\b| \b\b/ \b\b- \b\b\\ \b\b| \b\b/ \b\b- \b\b\\ \b\b| \b\b/ \b\b- \b\b\\ \b\b| \b\b/ \b\b- \b\b\\ \b\b| \b\b/ \b\b- \b\b\\ \b\b| \b\b/ \b\b- \b\b\\ \b\b| \b\b/ \b\b- \b\b\\ \b\b| \b\b/ \b\b- \b\b\\ \b\b| \b\b/ \b\b- \b\b\\ \b\b| \b\b/ \b\b- \b\b\\ \b\b| \b\b/ \b\b- \b\b\\ \b\b| \b\b/ \b\b- \b\b\\ \b\b| \b\b/ \b\b- \b\b\\ \b\b| \b\b/ \b\b- \b\b\\ \b\b| \b\b/ \b\b- \b\b\\ \b\b| \b\b/ \b\b- \b\b\\ \b\b| \b\b/ \b\b- \b\b\\ \b\b| \b\b/ \b\b- \b\b\\ \b\b| \b\b/ \b\b- \b\b\\ \b\b| \b\b/ \b\b- \b\b\\ \b\b| \b\b/ \b\b- \b\b\\ \b\b| \b\b/ \b\b- \b\b\\ \b\b| \b\b/ \b\b- \b\b\\ \b\b| \b\b/ \b\b- \b\b\\ \b\b| \b\b/ \b\b- \b\b\\ \b\b| \b\b/ \b\b- \b\b\\ \b\b| \b\b/ \b\b- \b\b\\ \b\b| \b\b/ \b\b- \b\b\\ \b\b| \b\b/ \b\b- \b\b\\ \b\b| \b\b/ \b\b- \b\b\\ \b\b| \b\b/ \b\b- \b\b\\ \b\b| \b\b/ \b\b- \b\b\\ \b\b| \b\b/ \b\b- \b\b\\ \b\b| \b\b/ \b\b- \b\b\\ \b\b| \b\b/ \b\b- \b\b\\ \b\b| \b\b/ \b\b- \b\b\\ \b\b| \b\b/ \b\b- \b\b\\ \b\b| \b\b/ \b\b- \b\b\\ \b\b| \b\b/ \b\b- \b\b\\ \b\b| \b\b/ \b\b- \b\b\\ \b\b| \b\b/ \b\b- \b\b\\ \b\b| \b\b/ \b\b- \b\b\\ \b\b| \b\b/ \b\b- \b\b\\ \b\b| \b\b/ \b\b- \b\b\\ \b\b| \b\b/ \b\b- \b\b\\ \b\b| \b\b/ \b\b- \b\b\\ \b\b| \b\b/ \b\b- \b\b\\ \b\b| \b\b/ \b\b- \b\b\\ \b\b| \b\b/ \b\b- \b\b\\ \b\b| \b\b/ \b\b- \b\b\\ \b\b| \b\b/ \b\b- \b\b\\ \b\b| \b\b/ \b\b- \b\b\\ \b\b| \b\b/ \b\b- \b\b\\ \b\b| \b\b/ \b\b- \b\b\\ \b\b| \b\b/ \b\b- \b\b\\ \b\b| \b\b/ \b\b- \b\b\\ \b\b| \b\b/ \b\b- \b\b\\ \b\b| \b\b/ \b\b- \b\b\\ \b\b| \b\b/ \b\b- \b\b\\ \b\b| \b\b/ \b\b- \b\b\\ \b\b| \b\b/ \b\b- \b\b\\ \b\b| \b\b/ \b\b- \b\b\\ \b\b| \b\b/ \b\b- \b\b\\ \b\b| \b\b/ \b\b- \b\b\\ \b\b| \b\b/ \b\b- \b\b\\ \b\b| \b\b/ \b\b- \b\b\\ \b\b| \b\b/ \b\b- \b\b\\ \b\b| \b\b/ \b\b- \b\b\\ \b\b| \b\b/ \b\b- \b\b\\ \b\b| \b\b/ \b\b- \b\b\\ \b\b| \b\b/ \b\b- \b\b\\ \b\b| \b\b/ \b\b- \b\b\\ \b\b| \b\b/ \b\b- \b\b\\ \b\b| \b\b/ \b\b- \b\b\\ \b\b| \b\b/ \b\b- \b\b\\ \b\b| \b\b/ \b\b- \b\b\\ \b\b| \b\b/ \b\b- \b\b\\ \b\b| \b\b/ \b\b- \b\b\\ \b\b| \b\b/ \b\b- \b\b\\ \b\b| \b\b/ \b\b- \b\b\\ \b\b| \b\b/ \b\b- \b\b\\ \b\b| \b\b/ \b\b- \b\b\\ \b\b| \b\b/ \b\b- \b\b\\ \b\b| \b\b/ \b\b- \b\b\\ \b\b| \b\b/ \b\b- \b\b\\ \b\b| \b\b/ \b\b- \b\b\\ \b\b| \b\b/ \b\b- \b\b\\ \b\b| \b\b/ \b\b- \b\b\\ \b\b| \b\b/ \b\b- \b\b\\ \b\b| \b\b/ \b\b- \b\b\\ \b\b| \b\b/ \b\b- \b\b\\ \b\b| \b\b/ \b\b- \b\b\\ \b\b| \b\b/ \b\b- \b\b\\ \b\b| \b\b/ \b\b- \b\b\\ \b\b| \b\b/ \b\b- \b\b\\ \b\b| \b\b/ \b\b- \b\b\\ \b\b| \b\b/ \b\b- \b\b\\ \b\b| \b\b/ \b\b- \b\b\\ \b\b| \b\b/ \b\b- \b\b\\ \b\b| \b\b/ \b\b- \b\b\\ \b\b| \b\b/ \b\b- \b\b\\ \b\b| \b\b/ \b\b- \b\b\\ \b\b| \b\b/ \b\b- \b\b\\ \b\b| \b\b/ \b\b- \b\b\\ \b\b| \b\b/ \b\b- \b\b\\ \b\b| \b\b/ \b\b- \b\b\\ \b\b| \b\b/ \b\b- \b\b\\ \b\b| \b\b/ \b\b- \b\b\\ \b\b| \b\b/ \b\b- \b\b\\ \b\b| \b\b/ \b\b- \b\b\\ \b\b| \b\b/ \b\b- \b\b\\ \b\b| \b\b/ \b\b- \b\b\\ \b\b| \b\b/ \b\b- \b\b\\ \b\b| \b\b/ \b\b- \b\b\\ \b\b| \b\b/ \b\b- \b\b\\ \b\b| \b\b/ \b\b- \b\b\\ \b\b| \b\b/ \b\b- \b\b\\ \b\b| \b\b/ \b\b- \b\b\\ \b\b| \b\b/ \b\b- \b\b\\ \b\b| \b\b/ \b\b- \b\b\\ \b\b| \b\b/ \b\b- \b\b\\ \b\b| \b\b/ \b\b- \b\b\\ \b\b| \b\b/ \b\b- \b\b\\ \b\b| \b\b/ \b\b- \b\b\\ \b\b| \b\b/ \b\b- \b\b\\ \b\b| \b\b/ \b\b- \b\b\\ \b\b| \b\b/ \b\b- \b\b\\ \b\b| \b\b/ \b\b- \b\b\\ \b\b| \b\b/ \b\b- \b\b\\ \b\b| \b\b/ \b\b- \b\b\\ \b\b| \b\b/ \b\b- \b\b\\ \b\b| \b\b/ \b\b- \b\b\\ \b\b| \b\b/ \b\b- \b\b\\ \b\b| \b\b/ \b\b- \b\b\\ \b\b| \b\b/ \b\b- \b\b\\ \b\b| \b\b/ \b\b- \b\b\\ \b\b| \b\b/ \b\b- \b\b\\ \b\b| \b\b/ \b\b- \b\b\\ \b\b| \b\b/ \b\b- \b\b\\ \b\b| \b\b/ \b\b- \b\b\\ \b\b| \b\b/ \b\b- \b\b\\ \b\b| \b\b/ \b\b- \b\b\\ \b\b| \b\b/ \b\b- \b\b\\ \b\b| \b\b/ \b\b- \b\b\\ \b\b| \b\b/ \b\b- \b\b\\ \b\b| \b\b/ \b\b- \b\b\\ \b\b| \b\b/ \b\b- \b\b\\ \b\b| \b\b/ \b\b- \b\b\\ \b\b| \b\b/ \b\b- \b\b\\ \b\b| \b\b/ \b\b- \b\b\\ \b\b| \b\b/ \b\b- \b\b\\ \b\b| \b\b/ \b\b- \b\b\\ \b\b| \b\b/ \b\b- \b\b\\ \b\b| \b\b/ \b\b- \b\b\\ \b\b| \b\b/ \b\b- \b\b\\ \b\b| \b\b/ \b\b- \b\b\\ \b\b| \b\b/ \b\b- \b\b\\ \b\b| \b\b/ \b\b- \b\b\\ \b\b| \b\b/ \b\b- \b\b\\ \b\b| \b\b/ \b\b- \b\b\\ \b\b| \b\b/ \b\b- \b\b\\ \b\b| \b\b/ \b\b- \b\b\\ \b\b| \b\b/ \b\b- \b\b\\ \b\b| \b\b/ \b\b- \b\b\\ \b\b| \b\b/ \b\b- \b\b\\ \b\b| \b\b/ \b\b- \b\b\\ \b\b| \b\b/ \b\b- \b\b\\ \b\b| \b\b/ \b\b- \b\b\\ \b\b| \b\b/ \b\b- \b\b\\ \b\b| \b\b/ \b\b- \b\b\\ \b\b| \b\b/ \b\b- \b\b\\ \b\b| \b\b/ \b\b- \b\b\\ \b\b| \b\b/ \b\b- \b\b\\ \b\b| \b\b/ \b\b- \b\b\\ \b\b| \b\b/ \b\b- \b\b\\ \b\b| \b\b/ \b\b- \b\b\\ \b\b| \b\b/ \b\b- \b\b\\ \b\b| \b\b/ \b\b- \b\b\\ \b\b| \b\b/ \b\b- \b\b\\ \b\b| \b\b/ \b\b- \b\b\\ \b\b| \b\b/ \b\b- \b\b\\ \b\b| \b\b/ \b\b- \b\b\\ \b\b| \b\b/ \b\b- \b\b\\ \b\b| \b\b/ \b\b- \b\b\\ \b\b| \b\b/ \b\b- \b\b\\ \b\b| \b\b/ \b\b- \b\b\\ \b\b| \b\b/ \b\b- \b\b\\ \b\b| \b\b/ \b\b- \b\b\\ \b\b| \b\b/ \b\b- \b\b\\ \b\b| \b\b/ \b\b- \b\b\\ \b\b| \b\b/ \b\b- \b\b\\ \b\b| \b\b/ \b\b- \b\b\\ \b\b| \b\b/ \b\b- \b\b\\ \b\b| \b\b/ \b\b- \b\b\\ \b\b| \b\b/ \b\b- \b\b\\ \b\b| \b\b/ \b\b- \b\b\\ \b\b| \b\b/ \b\b- \b\b\\ \b\b| \b\b/ \b\b- \b\b\\ \b\b| \b\b/ \b\b- \b\b\\ \b\b| \b\b/ \b\b- \b\b\\ \b\b| \b\b/ \b\b- \b\b\\ \b\b| \b\b/ \b\b- \b\b\\ \b\b| \b\b/ \b\b- \b\b\\ \b\b| \b\b/ \b\b- \b\b\\ \b\b| \b\b/ \b\b- \b\b\\ \b\b| \b\b/ \b\b- \b\b\\ \b\b| \b\b/ \b\b- \b\b\\ \b\b| \b\b/ \b\b- \b\b\\ \b\b| \b\b/ \b\b- \b\b\\ \b\b| \b\b/ \b\b- \b\b\\ \b\b| \b\b/ \b\b- \b\b\\ \b\b| \b\b/ \b\b- \b\b\\ \b\b| \b\b/ \b\b- \b\b\\ \b\b| \b\b/ \b\b- \b\b\\ \b\b| \b\b/ \b\b- \b\b\\ \b\b| \b\b/ \b\b- \b\b\\ \b\b| \b\b/ \b\b- \b\b\\ \b\b| \b\b/ \b\b- \b\b\\ \b\b| \b\b/ \b\b- \b\b\\ \b\b| \b\b/ \b\b- \b\b\\ \b\b| \b\b/ \b\b- \b\b\\ \b\b| \b\b/ \b\b- \b\b\\ \b\b| \b\b/ \b\b- \b\b\\ \b\b| \b\b/ \b\b- \b\b\\ \b\b| \b\b/ \b\b- \b\b\\ \b\b| \b\b/ \b\b- \b\b\\ \b\b| \b\b/ \b\b- \b\b\\ \b\b| \b\b/ \b\b- \b\b\\ \b\b| \b\b/ \b\b- \b\b\\ \b\b| \b\b/ \b\b- \b\b\\ \b\b| \b\b/ \b\b- \b\b\\ \b\b| \b\b/ \b\b- \b\b\\ \b\b| \b\b/ \b\b- \b\b\\ \b\b| \b\b/ \b\b- \b\b\\ \b\b| \b\b/ \b\b- \b\b\\ \b\b| \b\b/ \b\b- \b\b\\ \b\b| \b\b/ \b\b- \b\b\\ \b\b| \b\b/ \b\b- \b\b\\ \b\b| \b\b/ \b\b- \b\b\\ \b\b| \b\b/ \b\b- \b\b\\ \b\b| \b\b/ \b\b- \b\b\\ \b\b| \b\b/ \b\b- \b\b\\ \b\b| \b\b/ \b\b- \b\b\\ \b\b| \b\b/ \b\b- \b\b\\ \b\b| \b\b/ \b\b- \b\b\\ \b\b| \b\b/ \b\b- \b\b\\ \b\b| \b\b/ \b\b- \b\b\\ \b\b| \b\b/ \b\b- \b\b\\ \b\b| \b\b/ \b\b- \b\b\\ \b\b| \b\b/ \b\b- \b\b\\ \b\b| \b\b/ \b\b- \b\b\\ \b\b| \b\b/ \b\b- \b\b\\ \b\b| \b\b/ \b\b- \b\b\\ \b\b| \b\b/ \b\b- \b\b\\ \b\b| \b\b/ \b\b- \b\b\\ \b\b| \b\b/ \b\b- \b\b\\ \b\b| \b\b/ \b\b- \b\b\\ \b\b| \b\b/ \b\b- \b\b\\ \b\b| \b\b/ \b\b- \b\b\\ \b\b| \b\b/ \b\b- \b\b\\ \b\b| \b\b/ \b\b- \b\b\\ \b\b| \b\b/ \b\b- \b\b\\ \b\b| \b\b/ \b\b- \b\b\\ \b\b| \b\b/ \b\b- \b\b\\ \b\b| \b\b/ \b\b- \b\b\\ \b\b| \b\b/ \b\b- \b\b\\ \b\b| \b\b/ \b\b- \b\b\\ \b\b| \b\b/ \b\b- \b\b\\ \b\b| \b\b/ \b\b- \b\b\\ \b\b| \b\b/ \b\b- \b\b\\ \b\b| \b\b/ \b\b- \b\b\\ \b\b| \b\b/ \b\b- \b\b\\ \b\b| \b\b/ \b\b- \b\b\\ \b\b| \b\b/ \b\b- \b\b\\ \b\b| \b\b/ \b\b- \b\b\\ \b\b| \b\b/ \b\b- \b\b\\ \b\b| \b\b/ \b\b- \b\b\\ \b\b| \b\b/ \b\b- \b\b\\ \b\b| \b\b/ \b\b- \b\b\\ \b\b| \b\b/ \b\b- \b\b\\ \b\b| \b\b/ \b\b- \b\b\\ \b\b| \b\b/ \b\b- \b\b\\ \b\b| \b\b/ \b\b- \b\b\\ \b\b| \b\b/ \b\b- \b\b\\ \b\b| \b\b/ \b\b- \b\b\\ \b\b| \b\b/ \b\b- \b\b\\ \b\b| \b\b/ \b\b- \b\b\\ \b\b| \b\b/ \b\b- \b\b\\ \b\b| \b\b/ \b\b- \b\b\\ \b\b| \b\b/ \b\b- \b\b\\ \b\b| \b\b/ \b\b- \b\b\\ \b\b| \b\b/ \b\b- \b\b\\ \b\b| \b\b/ \b\b- \b\b\\ \b\b| \b\b/ \b\b- \b\b\\ \b\b| \b\b/ \b\b- \b\b\\ \b\b| \b\b/ \b\b- \b\b\\ \b\b| \b\b/ \b\b- \b\b\\ \b\b| \b\b/ \b\b- \b\b\\ \b\b| \b\b/ \b\b- \b\b\\ \b\b| \b\b/ \b\b- \b\b\\ \b\b| \b\b/ \b\b- \b\b\\ \b\b| \b\b/ \b\b- \b\b\\ \b\b| \b\b/ \b\b- \b\b\\ \b\b| \b\b/ \b\b- \b\b\\ \b\b| \b\b/ \b\b- \b\b\\ \b\b| \b\b/ \b\b- \b\b\\ \b\b| \b\b/ \b\b- \b\b\\ \b\b| \b\b/ \b\b- \b\b\\ \b\b| \b\b/ \b\b- \b\b\\ \b\b| \b\b/ \b\b- \b\b\\ \b\b| \b\b/ \b\b- \b\b\\ \b\b| \b\b/ \b\b- \b\b\\ \b\b| \b\b/ \b\b- \b\b\\ \b\b| \b\b/ \b\b- \b\b\\ \b\b| \b\b/ \b\b- \b\b\\ \b\b| \b\b/ \b\b- \b\b\\ \b\b| \b\b/ \b\b- \b\b\\ \b\b| \b\b/ \b\b- \b\b\\ \b\b| \b\b/ \b\b- \b\b\\ \b\b| \b\b/ \b\b- \b\b\\ \b\b| \b\b/ \b\b- \b\b\\ \b\b| \b\b/ \b\b- \b\b\\ \b\b| \b\b/ \b\b- \b\b\\ \b\b| \b\b/ \b\b- \b\b\\ \b\b| \b\b/ \b\b- \b\b\\ \b\b| \b\b/ \b\b- \b\b\\ \b\b| \b\b/ \b\b- \b\b\\ \b\b| \b\b/ \b\b- \b\b\\ \b\b| \b\b/ \b\b- \b\b\\ \b\b| \b\b/ \b\b- \b\b\\ \b\b| \b\b/ \b\b- \b\b\\ \b\b| \b\b/ \b\b- \b\b\\ \b\b| \b\b/ \b\b- \b\b\\ \b\b| \b\b/ \b\b- \b\b\\ \b\b| \b\b/ \b\b- \b\b\\ \b\b| \b\b/ \b\b- \b\b\\ \b\b| \b\b/ \b\b- \b\b\\ \b\b| \b\b/ \b\b- \b\b\\ \b\b| \b\b/ \b\b- \b\b\\ \b\b| \b\b/ \b\b- \b\b\\ \b\b| \b\b/ \b\b- \b\b\\ \b\b| \b\b/ \b\b- \b\b\\ \b\b| \b\b/ \b\b- \b\b\\ \b\b| \b\b/ \b\b- \b\b\\ \b\b| \b\b/ \b\b- \b\b\\ \b\b| \b\b/ \b\b- \b\b\\ \b\b| \b\b/ \b\b- \b\b\\ \b\b| \b\b/ \b\b- \b\b\\ \b\b| \b\b/ \b\b- \b\b\\ \b\b| \b\b/ \b\b- \b\b\\ \b\b| \b\b/ \b\b- \b\b\\ \b\b| \b\b/ \b\b- \b\b\\ \b\b| \b\b/ \b\b- \b\b\\ \b\b| \b\b/ \b\b- \b\b\\ \b\b| \b\b/ \b\b- \b\b\\ \b\b| \b\b/ \b\b- \b\b\\ \b\b| \b\b/ \b\b- \b\b\\ \b\b| \b\b/ \b\b- \b\b\\ \b\b| \b\b/ \b\b- \b\b\\ \b\b| \b\b/ \b\b- \b\b\\ \b\b| \b\b/ \b\b- \b\b\\ \b\b| \b\b/ \b\b- \b\b\\ \b\b| \b\b/ \b\b- \b\b\\ \b\b| \b\b/ \b\b- \b\b\\ \b\b| \b\b/ \b\b- \b\b\\ \b\b| \b\b/ \b\b- \b\b\\ \b\b| \b\b/ \b\b- \b\b\\ \b\b| \b\b/ \b\b- \b\b\\ \b\b| \b\b/ \b\b- \b\b\\ \b\b| \b\b/ \b\b- \b\b\\ \b\b| \b\b/ \b\b- \b\b\\ \b\b| \b\b/ \b\b- \b\b\\ \b\b| \b\b/ \b\b- \b\b\\ \b\b| \b\b/ \b\b- \b\b\\ \b\b| \b\b/ \b\b- \b\b\\ \b\b| \b\b/ \b\b- \b\b\\ \b\b| \b\b/ \b\b- \b\b\\ \b\b| \b\b/ \b\b- \b\b\\ \b\b| \b\b/ \b\b- \b\b\\ \b\b| \b\b/ \b\b- \b\b\\ \b\b| \b\b/ \b\b- \b\b\\ \b\b| \b\b/ \b\b- \b\b\\ \b\b| \b\b/ \b\b- \b\b\\ \b\b| \b\b/ \b\b- \b\b\\ \b\b| \b\b/ \b\b- \b\b\\ \b\b| \b\b/ \b\b- \b\b\\ \b\b| \b\b/ \b\b- \b\b\\ \b\b| \b\b/ \b\b- \b\b\\ \b\b| \b\b/ \b\b- \b\b\\ \b\b| \b\b/ \b\b- \b\b\\ \b\b| \b\b/ \b\b- \b\b\\ \b\b| \b\b/ \b\b- \b\b\\ \b\b| \b\b/ \b\b- \b\b\\ \b\b| \b\b/ \b\b- \b\b\\ \b\b| \b\b/ \b\b- \b\b\\ \b\b| \b\b/ \b\b- \b\b\\ \b\b| \b\b/ \b\b- \b\b\\ \b\b| \b\b/ \b\b- \b\b\\ \b\b| \b\b/ \b\b- \b\b\\ \b\b| \b\b/ \b\b- \b\b\\ \b\b| \b\b/ \b\b- \b\b\\ \b\b| \b\b/ \b\b- \b\b\\ \b\b| \b\b/ \b\b- \b\b\\ \b\b| \b\b/ \b\b- \b\b\\ \b\b| \b\b/ \b\b- \b\b\\ \b\b| \b\b/ \b\b- \b\b\\ \b\b| \b\b/ \b\b- \b\b\\ \b\b| \b\b/ \b\b- \b\b\\ \b\b| \b\b/ \b\b- \b\b\\ \b\b| \b\b/ \b\b- \b\b\\ \b\b| \b\b/ \b\b- \b\b\\ \b\b| \b\b/ \b\b- \b\b\\ \b\b| \b\b/ \b\b- \b\b\\ \b\b| \b\b/ \b\b- \b\b\\ \b\b| \b\b/ \b\b- \b\b\\ \b\b| \b\b/ \b\b- \b\b\\ \b\b| \b\b/ \b\b- \b\b\\ \b\b| \b\b/ \b\b- \b\b\\ \b\b| \b\b/ \b\b- \b\b\\ \b\b| \b\b/ \b\b- \b\b\\ \b\b| \b\b/ \b\b- \b\b\\ \b\b| \b\b/ \b\b- \b\b\\ \b\b| \b\b/ \b\b- \b\b\\ \b\b| \b\b/ \b\b- \b\b\\ \b\b| \b\b/ \b\b- \b\b\\ \b\b| \b\b/ \b\b- \b\b\\ \b\b| \b\b/ \b\b- \b\b\\ \b\b| \b\b/ \b\b- \b\b\\ \b\b| \b\b/ \b\b- \b\b\\ \b\b| \b\b/ \b\b- \b\b\\ \b\b| \b\b/ \b\b- \b\b\\ \b\b| \b\b/ \b\b- \b\b\\ \b\b| \b\b/ \b\b- \b\b\\ \b\b| \b\b/ \b\b- \b\b\\ \b\b| \b\b/ \b\b- \b\b\\ \b\b| \b\b/ \b\b- \b\b\\ \b\b| \b\b/ \b\b- \b\b\\ \b\b| \b\b/ \b\b- \b\b\\ \b\b| \b\b/ \b\b- \b\b\\ \b\b| \b\b/ \b\b- \b\b\\ \b\b| \b\b/ \b\b- \b\b\\ \b\b| \b\b/ \b\b- \b\b\\ \b\b| \b\b/ \b\b- \b\b\\ \b\b| \b\b/ \b\b- \b\b\\ \b\b| \b\b/ \b\b- \b\b\\ \b\b| \b\b/ \b\b- \b\b\\ \b\b| \b\b/ \b\b- \b\b\\ \b\b| \b\b/ \b\b- \b\b\\ \b\b| \b\b/ \b\b- \b\b\\ \b\b| \b\b/ \b\b- \b\b\\ \b\b| \b\b/ \b\b- \b\b\\ \b\b| \b\b/ \b\b- \b\b\\ \b\b| \b\b/ \b\b- \b\b\\ \b\b| \b\b/ \b\b- \b\b\\ \b\b| \b\b/ \b\b- \b\b\\ \b\b| \b\b/ \b\b- \b\b\\ \b\b| \b\b/ \b\b- \b\b\\ \b\b| \b\b/ \b\b- \b\b\\ \b\b| \b\b/ \b\b- \b\b\\ \b\b| \b\b/ \b\b- \b\b\\ \b\b| \b\b/ \b\b- \b\b\\ \b\b| \b\b/ \b\b- \b\b\\ \b\b| \b\b/ \b\b- \b\b\\ \b\b| \b\b/ \b\b- \b\b\\ \b\b| \b\b/ \b\b- \b\b\\ \b\b| \b\b/ \b\b- \b\b\\ \b\b| \b\b/ \b\b- \b\b\\ \b\b| \b\b/ \b\b- \b\b\\ \b\b| \b\b/ \b\b- \b\b\\ \b\b| \b\b/ \b\b- \b\b\\ \b\b| \b\b/ \b\b- \b\b\\ \b\b| \b\b/ \b\b- \b\b\\ \b\b| \b\b/ \b\b- \b\b\\ \b\b| \b\b/ \b\b- \b\b\\ \b\b| \b\b/ \b\b- \b\b\\ \b\b| \b\b/ \b\b- \b\b\\ \b\b| \b\b/ \b\b- \b\b\\ \b\b| \b\b/ \b\b- \b\b\\ \b\b| \b\b/ \b\b- \b\b\\ \b\b| \b\b/ \b\b- \b\b\\ \b\b| \b\b/ \b\b- \b\b\\ \b\b| \b\b/ \b\b- \b\b\\ \b\b| \b\b/ \b\b- \b\b\\ \b\b| \b\b/ \b\b- \b\b\\ \b\b| \b\b/ \b\b- \b\b\\ \b\b| \b\b/ \b\b- \b\b\\ \b\b| \b\b/ \b\b- \b\b\\ \b\b| \b\b/ \b\b- \b\b\\ \b\b| \b\b/ \b\b- \b\b\\ \b\b| \b\b/ \b\b- \b\b\\ \b\b| \b\b/ \b\b- \b\b\\ \b\b| \b\b/ \b\b- \b\b\\ \b\b| \b\b/ \b\b- \b\b\\ \b\b| \b\b/ \b\b- \b\b\\ \b\b| \b\b/ \b\b- \b\b\\ \b\b| \b\b/ \b\b- \b\b\\ \b\b| \b\b/ \b\b- \b\b\\ \b\b| \b\b/ \b\b- \b\b\\ \b\b| \b\b/ \b\b- \b\b\\ \b\b| \b\b/ \b\b- \b\b\\ \b\b| \b\b/ \b\b- \b\b\\ \b\b| \b\b/ \b\b- \b\b\\ \b\b| \b\b/ \b\b- \b\b\\ \b\b| \b\b/ \b\b- \b\b\\ \b\b| \b\b/ \b\b- \b\b\\ \b\b| \b\b/ \b\b- \b\b\\ \b\b| \b\b/ \b\b- \b\b\\ \b\b| \b\b/ \b\b- \b\b\\ \b\b| \b\b/ \b\b- \b\b\\ \b\b| \b\b/ \b\b- \b\b\\ \b\b| \b\b/ \b\b- \b\b\\ \b\b| \b\b/ \b\b- \b\b\\ \b\b| \b\b/ \b\b- \b\b\\ \b\b| \b\b/ \b\b- \b\b\\ \b\b| \b\b/ \b\b- \b\b\\ \b\b| \b\b/ \b\b- \b\b\\ \b\b| \b\b/ \b\b- \b\b\\ \b\b| \b\b/ \b\b- \b\b\\ \b\b| \b\b/ \b\b- \b\b\\ \b\b| \b\b/ \b\b- \b\b\\ \b\b| \b\b/ \b\b- \b\b\\ \b\b| \b\b/ \b\b- \b\b\\ \b\b| \b\b/ \b\b- \b\b\\ \b\b| \b\b/ \b\b- \b\b\\ \b\b| \b\b/ \b\b- \b\b\\ \b\b| \b\b/ \b\b- \b\b\\ \b\b| \b\b/ \b\b- \b\b\\ \b\b| \b\b/ \b\b- \b\b\\ \b\b| \b\b/ \b\b- \b\b\\ \b\b| \b\b/ \b\b- \b\b\\ \b\b| \b\b/ \b\b- \b\b\\ \b\b| \b\b/ \b\b- \b\b\\ \b\b| \b\b/ \b\b- \b\b\\ \b\b| \b\b/ \b\b- \b\b\\ \b\b| \b\b/ \b\b- \b\b\\ \b\b| \b\b/ \b\b- \b\b\\ \b\b| \b\b/ \b\b- \b\b\\ \b\b| \b\b/ \b\b- \b\b\\ \b\b| \b\b/ \b\b- \b\b\\ \b\b| \b\b/ \b\b- \b\b\\ \b\b| \b\b/ \b\b- \b\b\\ \b\b| \b\b/ \b\b- \b\b\\ \b\b| \b\b/ \b\b- \b\b\\ \b\b| \b\b/ \b\b- \b\b\\ \b\b| \b\b/ \b\b- \b\b\\ \b\b| \b\b/ \b\b- \b\b\\ \b\b| \b\b/ \b\b- \b\b\\ \b\b| \b\b/ \b\b- \b\b\\ \b\b| \b\b/ \b\b- \b\b\\ \b\b| \b\b/ \b\b- \b\b\\ \b\b| \b\b/ \b\b- \b\b\\ \b\b| \b\b/ \b\b- \b\b\\ \b\b| \b\b/ \b\b- \b\b\\ \b\b| \b\b/ \b\b- \b\b\\ \b\b| \b\b/ \b\b- \b\b\\ \b\b| \b\b/ \b\b- \b\b\\ \b\b| \b\b/ \b\b- \b\b\\ \b\b| \b\b/ \b\b- \b\b\\ \b\b| \b\b/ \b\b- \b\b\\ \b\b| \b\b/ \b\b- \b\b\\ \b\b| \b\b/ \b\b- \b\b\\ \b\b| \b\b/ \b\b- \b\b\\ \b\b| \b\b/ \b\b- \b\b\\ \b\b| \b\b/ \b\b- \b\b\\ \b\b| \b\b/ \b\b- \b\b\\ \b\b| \b\b/ \b\b- \b\b\\ \b\b| \b\b/ \b\b- \b\b\\ \b\b| \b\b/ \b\b- \b\b\\ \b\b| \b\b/ \b\b- \b\b\\ \b\b| \b\b/ \b\b- \b\b\\ \b\b| \b\b/ \b\b- \b\b\\ \b\b| \b\b/ \b\b- \b\b\\ \b\b| \b\b/ \b\b- \b\b\\ \b\b| \b\b/ \b\b- \b\b\\ \b\b| \b\b/ \b\b- \b\b\\ \b\b| \b\b/ \b\b- \b\b\\ \b\b| \b\b/ \b\b- \b\b\\ \b\b| \b\b/ \b\b- \b\b\\ \b\b| \b\b/ \b\b- \b\b\\ \b\b| \b\b/ \b\b- \b\b\\ \b\b| \b\b/ \b\b- \b\b\\ \b\b| \b\b/ \b\b- \b\b\\ \b\b| \b\b/ \b\b- \b\b\\ \b\b| \b\b/ \b\b- \b\b\\ \b\b| \b\b/ \b\b- \b\b\\ \b\b| \b\b/ \b\b- \b\b\\ \b\b| \b\b/ \b\b- \b\b\\ \b\b| \b\b/ \b\b- \b\b\\ \b\b| \b\b/ \b\b- \b\b\\ \b\b| \b\b/ \b\b- \b\b\\ \b\b| \b\b/ \b\b- \b\b\\ \b\b| \b\b/ \b\b- \b\b\\ \b\b| \b\b/ \b\b- \b\b\\ \b\b| \b\b/ \b\b- \b\b\\ \b\b| \b\b/ \b\b- \b\b\\ \b\b| \b\b/ \b\b- \b\b\\ \b\b| \b\b/ \b\b- \b\b\\ \b\b| \b\b/ \b\b- \b\b\\ \b\b| \b\b/ \b\b- \b\b\\ \b\b| \b\b/ \b\b- \b\b\\ \b\b| \b\b/ \b\b- \b\b\\ \b\b| \b\b/ \b\b- \b\b\\ \b\b| \b\b/ \b\b- \b\b\\ \b\b| \b\b/ \b\b- \b\b\\ \b\b| \b\b/ \b\b- \b\b\\ \b\b| \b\b/ \b\b- \b\b\\ \b\b| \b\b/ \b\b- \b\b\\ \b\b| \b\b/ \b\b- \b\b\\ \b\b| \b\b/ \b\b- \b\b\\ \b\b| \b\b/ \b\b- \b\b\\ \b\b| \b\b/ \b\b- \b\b\\ \b\b| \b\b/ \b\b- \b\b\\ \b\b| \b\b/ \b\b- \b\b\\ \b\b| \b\b/ \b\b- \b\b\\ \b\b| \b\b/ \b\b- \b\b\\ \b\b| \b\b/ \b\b- \b\b\\ \b\b| \b\b/ \b\b- \b\b\\ \b\b| \b\b/ \b\b- \b\b\\ \b\b| \b\b/ \b\b- \b\b\\ \b\b| \b\b/ \b\b- \b\b\\ \b\b| \b\b/ \b\b- \b\b\\ \b\b| \b\b/ \b\b- \b\b\\ \b\b| \b\b/ \b\b- \b\b\\ \b\b| \b\b/ \b\b- \b\b\\ \b\b| \b\b/ \b\b- \b\b\\ \b\b| \b\b/ \b\b- \b\b\\ \b\b| \b\b/ \b\b- \b\b\\ \b\b| \b\b/ \b\b- \b\b\\ \b\b| \b\b/ \b\b- \b\b\\ \b\b| \b\b/ \b\b- \b\b\\ \b\b| \b\b/ \b\b- \b\b\\ \b\b| \b\b/ \b\b- \b\b\\ \b\b| \b\b/ \b\b- \b\b\\ \b\b| \b\b/ \b\b- \b\b\\ \b\b| \b\b/ \b\b- \b\b\\ \b\b| \b\b/ \b\b- \b\b\\ \b\b| \b\b/ \b\b- \b\b\\ \b\b| \b\b/ \b\b- \b\b\\ \b\b| \b\b/ \b\b- \b\b\\ \b\b| \b\b/ \b\b- \b\b\\ \b\b| \b\b/ \b\b- \b\b\\ \b\b| \b\b/ \b\b- \b\b\\ \b\b| \b\b/ \b\b- \b\b\\ \b\b| \b\b/ \b\b- \b\b\\ \b\b| \b\b/ \b\b- \b\b\\ \b\b| \b\b/ \b\b- \b\b\\ \b\b| \b\b/ \b\b- \b\b\\ \b\b| \b\b/ \b\b- \b\b\\ \b\b| \b\b/ \b\b- \b\b\\ \b\b| \b\b/ \b\b- \b\b\\ \b\b| \b\b/ \b\b- \b\b\\ \b\b| \b\b/ \b\b- \b\b\\ \b\b| \b\b/ \b\b- \b\b\\ \b\b| \b\b/ \b\b- \b\b\\ \b\b| \b\b/ \b\b- \b\b\\ \b\b| \b\b/ \b\b- \b\b\\ \b\b| \b\b/ \b\b- \b\b\\ \b\b| \b\b/ \b\b- \b\b\\ \b\b| \b\b/ \b\b- \b\b\\ \b\b| \b\b/ \b\b- \b\b\\ \b\b| \b\b/ \b\b- \b\b\\ \b\b| \b\b/ \b\b- \b\b\\ \b\b| \b\b/ \b\b- \b\b\\ \b\b| \b\b/ \b\b- \b\b\\ \b\b| \b\b/ \b\b- \b\b\\ \b\b| \b\b/ \b\b- \b\b\\ \b\b| \b\b/ \b\b- \b\b\\ \b\b| \b\b/ \b\b- \b\b\\ \b\b| \b\b/ \b\b- \b\b\\ \b\b| \b\b/ \b\b- \b\b\\ \b\b| \b\b/ \b\b- \b\b\\ \b\b| \b\b/ \b\b- \b\b\\ \b\b| \b\b/ \b\b- \b\b\\ \b\b| \b\b/ \b\b- \b\b\\ \b\b| \b\b/ \b\b- \b\b\\ \b\b| \b\b/ \b\b- \b\b\\ \b\b| \b\b/ \b\b- \b\b\\ \b\b| \b\b/ \b\b- \b\b\\ \b\b| \b\b/ \b\b- \b\b\\ \b\b| \b\b/ \b\b- \b\b\\ \b\b| \b\b/ \b\b- \b\b\\ \b\b| \b\b/ \b\b- \b\b\\ \b\b| \b\b/ \b\b- \b\b\\ \b\b| \b\b/ \b\b- \b\b\\ \b\b| \b\b/ \b\b- \b\b\\ \b\b| \b\b/ \b\b- \b\b\\ \b\b| \b\b/ \b\b- \b\b\\ \b\b| \b\b/ \b\b- \b\b\\ \b\b| \b\b/ \b\b- \b\b\\ \b\b| \b\b/ \b\b- \b\b\\ \b\b| \b\b/ \b\b- \b\b\\ \b\b| \b\b/ \b\b- \b\b\\ \b\b| \b\b/ \b\b- \b\b\\ \b\b| \b\b/ \b\b- \b\b\\ \b\b| \b\b/ \b\b- \b\b\\ \b\b| \b\b/ \b\b- \b\b\\ \b\b| \b\b/ \b\b- \b\b\\ \b\b| \b\b/ \b\b- \b\b\\ \b\b| \b\b/ \b\b- \b\b\\ \b\b| \b\b/ \b\b- \b\b\\ \b\b| \b\b/ \b\b- \b\b\\ \b\b| \b\b/ \b\b- \b\b\\ \b\b| \b\b/ \b\b- \b\b\\ \b\b| \b\b/ \b\b- \b\b\\ \b\b| \b\b/ \b\b- \b\b\\ \b\b| \b\b/ \b\b- \b\b\\ \b\b| \b\b/ \b\b- \b\b\\ \b\b| \b\b/ \b\b- \b\b\\ \b\b| \b\b/ \b\b- \b\b\\ \b\b| \b\b/ \b\b- \b\b\\ \b\b| \b\b/ \b\b- \b\b\\ \b\b| \b\b/ \b\b- \b\b\\ \b\b| \b\b/ \b\b- \b\b\\ \b\b| \b\b/ \b\b- \b\b\\ \b\b| \b\b/ \b\b- \b\b\\ \b\b| \b\b/ \b\b- \b\b\\ \b\b| \b\b/ \b\b- \b\b\\ \b\b| \b\b/ \b\b- \b\b\\ \b\b| \b\b/ \b\b- \b\b\\ \b\b| \b\b/ \b\b- \b\b\\ \b\b| \b\b/ \b\b- \b\b\\ \b\b| \b\b/ \b\b- \b\b\\ \b\b| \b\b/ \b\b- \b\b\\ \b\b| \b\b/ \b\b- \b\b\\ \b\b| \b\b/ \b\b- \b\b\\ \b\b| \b\b/ \b\b- \b\b\\ \b\b| \b\b/ \b\b- \b\b\\ \b\b| \b\b/ \b\b- \b\b\\ \b\b| \b\b/ \b\b- \b\b\\ \b\b| \b\b/ \b\b- \b\b\\ \b\b| \b\b/ \b\b- \b\b\\ \b\b| \b\b/ \b\b- \b\b\\ \b\b| \b\b/ \b\b- \b\b\\ \b\b| \b\b/ \b\b- \b\b\\ \b\b| \b\b/ \b\b- \b\b\\ \b\b| \b\b/ \b\b- \b\b\\ \b\b| \b\b/ \b\b- \b\b\\ \b\b| \b\b/ \b\b- \b\b\\ \b\b| \b\b/ \b\b- \b\b\\ \b\b| \b\b/ \b\b- \b\b\\ \b\b| \b\b/ \b\b- \b\b\\ \b\b| \b\b/ \b\b- \b\b\\ \b\b| \b\b/ \b\b- \b\b\\ \b\b| \b\b/ \b\b- \b\b\\ \b\b| \b\b/ \b\b- \b\b\\ \b\b| \b\b/ \b\b- \b\b\\ \b\b| \b\b/ \b\b- \b\b\\ \b\b| \b\b/ \b\b- \b\b\\ \b\b| \b\b/ \b\b- \b\b\\ \b\b| \b\b/ \b\b- \b\b\\ \b\b| \b\b/ \b\b- \b\b\\ \b\b| \b\b/ \b\b- \b\b\\ \b\b| \b\b/ \b\b- \b\b\\ \b\b| \b\b/ \b\b- \b\b\\ \b\b| \b\b/ \b\b- \b\b\\ \b\b| \b\b/ \b\b- \b\b\\ \b\b| \b\b/ \b\b- \b\b\\ \b\b| \b\b/ \b\b- \b\b\\ \b\b| \b\b/ \b\b- \b\b\\ \b\b| \b\b/ \b\b- \b\b\\ \b\b| \b\b/ \b\b- \b\b\\ \b\b| \b\b/ \b\b- \b\b\\ \b\b| \b\b/ \b\b- \b\b\\ \b\b| \b\b/ \b\b- \b\b\\ \b\b| \b\b/ \b\b- \b\b\\ \b\b| \b\b/ \b\b- \b\b\\ \b\b| \b\b/ \b\b- \b\b\\ \b\b| \b\b/ \b\b- \b\b\\ \b\b| \b\b/ \b\b- \b\b\\ \b\b| \b\b/ \b\b- \b\b\\ \b\b| \b\b/ \b\b- \b\b\\ \b\b| \b\b/ \b\b- \b\b\\ \b\b| \b\b/ \b\b- \b\b\\ \b\b| \b\b/ \b\b- \b\b\\ \b\b| \b\b/ \b\b- \b\b\\ \b\b| \b\b/ \b\b- \b\b\\ \b\b| \b\b/ \b\b- \b\b\\ \b\b| \b\b/ \b\b- \b\b\\ \b\b| \b\b/ \b\b- \b\b\\ \b\b| \b\b/ \b\b- \b\b\\ \b\b| \b\b/ \b\b- \b\b\\ \b\b| \b\b/ \b\b- \b\b\\ \b\b| \b\b/ \b\b- \b\b\\ \b\b| \b\b/ \b\b- \b\b\\ \b\b| \b\b/ \b\b- \b\b\\ \b\b| \b\b/ \b\b- \b\b\\ \b\b| \b\b/ \b\b- \b\b\\ \b\b| \b\b/ \b\b- \b\b\\ \b\b| \b\b/ \b\b- \b\b\\ \b\b| \b\b/ \b\b- \b\b\\ \b\b| \b\b/ \b\b- \b\b\\ \b\b| \b\b/ \b\b- \b\b\\ \b\b| \b\b/ \b\b- \b\b\\ \b\b| \b\b/ \b\b- \b\b\\ \b\b| \b\b/ \b\b- \b\b\\ \b\b| \b\b/ \b\b- \b\b\\ \b\b| \b\b/ \b\b- \b\b\\ \b\b| \b\b/ \b\b- \b\b\\ \b\b| \b\b/ \b\b- \b\b\\ \b\b| \b\b/ \b\b- \b\b\\ \b\b| \b\b/ \b\b- \b\b\\ \b\b| \b\b/ \b\b- \b\b\\ \b\b| \b\b/ \b\b- \b\b\\ \b\b| \b\b/ \b\b- \b\b\\ \b\b| \b\b/ \b\b- \b\b\\ \b\b| \b\b/ \b\b- \b\b\\ \b\b| \b\b/ \b\b- \b\b\\ \b\b| \b\b/ \b\b- \b\b\\ \b\b| \b\b/ \b\b- \b\b\\ \b\b| \b\b/ \b\b- \b\b\\ \b\b| \b\b/ \b\b- \b\b\\ \b\b| \b\b/ \b\b- \b\b\\ \b\b| \b\b/ \b\b- \b\b\\ \b\b| \b\b/ \b\b- \b\b\\ \b\b| \b\b/ \b\b- \b\b\\ \b\b| \b\b/ \b\b- \b\b\\ \b\b| \b\b/ \b\b- \b\b\\ \b\b| \b\b/ \b\b- \b\b\\ \b\b| \b\b/ \b\b- \b\b\\ \b\b| \b\b/ \b\b- \b\b\\ \b\b| \b\b/ \b\b- \b\b\\ \b\b| \b\b/ \b\b- \b\b\\ \b\b| \b\b/ \b\b- \b\b\\ \b\b| \b\b/ \b\b- \b\b\\ \b\b| \b\b/ \b\b- \b\b\\ \b\b| \b\b/ \b\b- \b\b\\ \b\b| \b\b/ \b\b- \b\b\\ \b\b| \b\b/ \b\b- \b\b\\ \b\b| \b\b/ \b\b- \b\b\\ \b\b| \b\b/ \b\b- \b\b\\ \b\b| \b\b/ \b\b- \b\b\\ \b\b| \b\b/ \b\b- \b\b\\ \b\b| \b\b/ \b\b- \b\b\\ \b\b| \b\b/ \b\b- \b\b\\ \b\b| \b\b/ \b\b- \b\b\\ \b\b| \b\b/ \b\b- \b\b\\ \b\b| \b\b/ \b\b- \b\b\\ \b\b| \b\b/ \b\b- \b\b\\ \b\b| \b\b/ \b\b- \b\b\\ \b\b| \b\b/ \b\b- \b\b\\ \b\b| \b\b/ \b\b- \b\b\\ \b\b| \b\b/ \b\b- \b\b\\ \b\b| \b\b/ \b\b- \b\b\\ \b\b| \b\b/ \b\b- \b\b\\ \b\b| \b\b/ \b\b- \b\b\\ \b\b| \b\b/ \b\b- \b\b\\ \b\b| \b\b/ \b\b- \b\b\\ \b\b| \b\b/ \b\b- \b\b\\ \b\b| \b\b/ \b\b- \b\b\\ \b\b| \b\b/ \b\b- \b\b\\ \b\b| \b\b/ \b\b- \b\b\\ \b\b| \b\b/ \b\b- \b\b\\ \b\b| \b\b/ \b\b- \b\b\\ \b\b| \b\b/ \b\b- \b\b\\ \b\b| \b\b/ \b\b- \b\b\\ \b\b| \b\b/ \b\b- \b\b\\ \b\b| \b\b/ \b\b- \b\b\\ \b\b| \b\b/ \b\b- \b\b\\ \b\b| \b\b/ \b\b- \b\b\\ \b\b| \b\b/ \b\b- \b\b\\ \b\b| \b\b/ \b\b- \b\b\\ \b\b| \b\b/ \b\b- \b\b\\ \b\b| \b\b/ \b\b- \b\b\\ \b\b| \b\b/ \b\b- \b\b\\ \b\b| \b\b/ \b\b- \b\b\\ \b\b| \b\b/ \b\b- \b\b\\ \b\b| \b\b/ \b\b- \b\b\\ \b\b| \b\b/ \b\b- \b\b\\ \b\b| \b\b/ \b\b- \b\b\\ \b\b| \b\b/ \b\b- \b\b\\ \b\b| \b\b/ \b\b- \b\b\\ \b\b| \b\b/ \b\b- \b\b\\ \b\b| \b\b/ \b\b- \b\b\\ \b\b| \b\b/ \b\b- \b\b\\ \b\b| \b\b/ \b\b- \b\b\\ \b\b| \b\b/ \b\b- \b\b\\ \b\b| \b\b/ \b\b- \b\b\\ \b\b| \b\b/ \b\b- \b\b\\ \b\b| \b\b/ \b\b- \b\b\\ \b\b| \b\b/ \b\b- \b\b\\ \b\b| \b\b/ \b\b- \b\b\\ \b\b| \b\b/ \b\b- \b\b\\ \b\b| \b\b/ \b\b- \b\b\\ \b\b| \b\b/ \b\b- \b\b\\ \b\b| \b\b/ \b\b- \b\b\\ \b\b| \b\b/ \b\b- \b\b\\ \b\b| \b\b/ \b\b- \b\b\\ \b\b| \b\b/ \b\b- \b\b\\ \b\b| \b\b/ \b\b- \b\b\\ \b\b| \b\b/ \b\b- \b\b\\ \b\b| \b\b/ \b\b- \b\b\\ \b\b| \b\b/ \b\b- \b\b\\ \b\b| \b\b/ \b\b- \b\b\\ \b\b| \b\b/ \b\b- \b\b\\ \b\b| \b\b/ \b\b- \b\b\\ \b\b| \b\b/ \b\b- \b\b\\ \b\b| \b\b/ \b\b- \b\b\\ \b\b| \b\b/ \b\b- \b\b\\ \b\b| \b\b/ \b\b- \b\b\\ \b\b| \b\b/ \b\b- \b\b\\ \b\b| \b\b/ \b\b- \b\b\\ \b\b| \b\b/ \b\b- \b\b\\ \b\b| \b\b/ \b\b- \b\b\\ \b\b| \b\b/ \b\b- \b\b\\ \b\b| \b\b/ \b\b- \b\b\\ \b\b| \b\b/ \b\b- \b\b\\ \b\b| \b\b/ \b\b- \b\b\\ \b\b| \b\b/ \b\b- \b\b\\ \b\b| \b\b/ \b\b- \b\b\\ \b\b| \b\b/ \b\b- \b\b\\ \b\b| \b\b/ \b\b- \b\b\\ \b\b| \b\b/ \b\b- \b\b\\ \b\b| \b\b/ \b\b- \b\b\\ \b\b| \b\b/ \b\b- \b\b\\ \b\b| \b\b/ \b\b- \b\b\\ \b\b| \b\b/ \b\b- \b\b\\ \b\b| \b\b/ \b\b- \b\b\\ \b\b| \b\b/ \b\b- \b\b\\ \b\b| \b\b/ \b\b- \b\b\\ \b\b| \b\b/ \b\b- \b\b\\ \b\b| \b\b/ \b\b- \b\b\\ \b\b| \b\b/ \b\b- \b\b\\ \b\b| \b\b/ \b\b- \b\b\\ \b\b| \b\b/ \b\b- \b\b\\ \b\b| \b\b/ \b\b- \b\b\\ \b\b| \b\b/ \b\b- \b\b\\ \b\b| \b\b/ \b\b- \b\b\\ \b\b| \b\b/ \b\b- \b\b\\ \b\b| \b\b/ \b\b- \b\b\\ \b\b| \b\b/ \b\b- \b\b\\ \b\b| \b\b/ \b\b- \b\b\\ \b\b| \b\b/ \b\b- \b\b\\ \b\b| \b\b/ \b\b- \b\b\\ \b\b| \b\b/ \b\b- \b\b\\ \b\b| \b\b/ \b\b- \b\b\\ \b\b| \b\b/ \b\b- \b\b\\ \b\b| \b\b/ \b\b- \b\b\\ \b\b| \b\b/ \b\b- \b\b\\ \b\b| \b\b/ \b\b- \b\b\\ \b\b| \b\b/ \b\b- \b\b\\ \b\b| \b\b/ \b\b- \b\b\\ \b\b| \b\b/ \b\b- \b\b\\ \b\b| \b\b/ \b\b- \b\b\\ \b\b| \b\b/ \b\b- \b\b\\ \b\b| \b\b/ \b\b- \b\b\\ \b\b| \b\b/ \b\b- \b\b\\ \b\b| \b\b/ \b\b- \b\b\\ \b\b| \b\b/ \b\b- \b\b\\ \b\b| \b\b/ \b\b- \b\b\\ \b\b| \b\b/ \b\b- \b\b\\ \b\b| \b\b/ \b\b- \b\b\\ \b\b| \b\b/ \b\b- \b\b\\ \b\b| \b\b/ \b\b- \b\b\\ \b\b| \b\b/ \b\b- \b\b\\ \b\b| \b\b/ \b\b- ^C\n",
            "\b\b\\ \b\b| \n",
            "Note: you may need to restart the kernel to use updated packages.\n",
            "/bin/bash: /home/souraviai/miniconda3/envs/mayavi/bin/python3.9: No such file or directory\n",
            "Note: you may need to restart the kernel to use updated packages.\n"
          ]
        }
      ]
    },
    {
      "cell_type": "code",
      "source": [
        "import torch\n",
        "print(torch.cuda.is_available())\n",
        "print(torch.cuda.get_arch_list())"
      ],
      "metadata": {
        "id": "h9Pe1rPb7gqZ"
      },
      "execution_count": null,
      "outputs": []
    },
    {
      "cell_type": "markdown",
      "source": [
        "### Git import"
      ],
      "metadata": {
        "id": "nKcDSfjznKID"
      }
    },
    {
      "cell_type": "code",
      "metadata": {
        "id": "CilkAW8b_Ywb",
        "outputId": "4c8824d6-7444-488e-e41d-ee618c02d6fd",
        "colab": {
          "base_uri": "https://localhost:8080/",
          "height": 176
        }
      },
      "source": [
        "%cd /DATA/souraviai/\n",
        "!git config --global user.email \"souravraha@ufl.edu\"\n",
        "!git config --global user.name \"Sourav Raha\"\n",
        "!git clone https://github.com/souravraha/OpenPCDet.git\n",
        "%cd OpenPCDet/"
      ],
      "execution_count": null,
      "outputs": [
        {
          "output_type": "display_data",
          "data": {
            "text/plain": [
              "<IPython.core.display.HTML object>"
            ],
            "text/html": [
              "<style>pre{white-space: pre-wrap;}</style>"
            ]
          },
          "metadata": {}
        },
        {
          "output_type": "stream",
          "name": "stdout",
          "text": [
            "/DATA/souraviai\n",
            "Cloning into 'OpenPCDet'...\n",
            "remote: Enumerating objects: 3051, done.\u001b[K\n",
            "remote: Counting objects: 100% (16/16), done.\u001b[K\n",
            "remote: Compressing objects: 100% (8/8), done.\u001b[K\n",
            "remote: Total 3051 (delta 9), reused 14 (delta 8), pack-reused 3035\u001b[K\n",
            "Receiving objects: 100% (3051/3051), 2.70 MiB | 2.06 MiB/s, done.\n",
            "Resolving deltas: 100% (1906/1906), done.\n",
            "/DATA/souraviai/OpenPCDet\n"
          ]
        }
      ]
    },
    {
      "cell_type": "code",
      "source": [
        "# !git remote add origin https://github.com/souravraha/OpenPCDet.git\n",
        "!git remote add upstream https://github.com/open-mmlab/OpenPCDet.git\n",
        "!git remote -v"
      ],
      "metadata": {
        "id": "71DEk6u32b5u",
        "outputId": "a1c6bdb6-7746-4d6b-b7ba-b6dbd82fc9f8",
        "colab": {
          "base_uri": "https://localhost:8080/",
          "height": 88
        }
      },
      "execution_count": null,
      "outputs": [
        {
          "output_type": "display_data",
          "data": {
            "text/plain": [
              "<IPython.core.display.HTML object>"
            ],
            "text/html": [
              "<style>pre{white-space: pre-wrap;}</style>"
            ]
          },
          "metadata": {}
        },
        {
          "output_type": "stream",
          "name": "stdout",
          "text": [
            "origin\thttps://github.com/souravraha/OpenPCDet.git (fetch)\r\n",
            "origin\thttps://github.com/souravraha/OpenPCDet.git (push)\r\n",
            "upstream\thttps://github.com/open-mmlab/OpenPCDet.git (fetch)\r\n",
            "upstream\thttps://github.com/open-mmlab/OpenPCDet.git (push)\r\n"
          ]
        }
      ]
    },
    {
      "cell_type": "code",
      "source": [
        "!git pull upstream master\n",
        "!git checkout -b dry_run\n",
        "!git branch"
      ],
      "metadata": {
        "id": "Iu7KcF9S2-Qj",
        "outputId": "dcdbb27f-014c-49b7-ef97-1367b53dce7f",
        "colab": {
          "base_uri": "https://localhost:8080/",
          "height": 371
        }
      },
      "execution_count": null,
      "outputs": [
        {
          "output_type": "display_data",
          "data": {
            "text/plain": [
              "<IPython.core.display.HTML object>"
            ],
            "text/html": [
              "<style>pre{white-space: pre-wrap;}</style>"
            ]
          },
          "metadata": {}
        },
        {
          "output_type": "stream",
          "name": "stdout",
          "text": [
            "From https://github.com/open-mmlab/OpenPCDet\r\n",
            " * branch            master     -> FETCH_HEAD\r\n",
            "error: Your local changes to the following files would be overwritten by merge:\r\n",
            "  .gitignore README.md docs/GETTING_STARTED.md docs/changelog.md docs/guidelines_of_approaches/mppnet.md pcdet/datasets/augmentor/augmentor_utils.py pcdet/datasets/augmentor/data_augmentor.py pcdet/datasets/augmentor/database_sampler.py pcdet/datasets/dataset.py pcdet/datasets/processor/data_processor.py pcdet/datasets/processor/point_feature_encoder.py pcdet/datasets/waymo/waymo_dataset.py pcdet/datasets/waymo/waymo_eval.py pcdet/datasets/waymo/waymo_utils.py pcdet/models/backbones_2d/__init__.py pcdet/models/backbones_2d/base_bev_backbone.py pcdet/models/backbones_3d/__init__.py pcdet/models/backbones_3d/spconv_backbone_2d.py pcdet/models/backbones_3d/vfe/__init__.py pcdet/models/backbones_3d/vfe/dynamic_pillar_vfe.py pcdet/models/detectors/__init__.py pcdet/models/detectors/detector3d_template.py pcdet/models/detectors/mppnet.py pcdet/models/detectors/mppnet_e2e.py pcdet/models/detectors/pillarnet.py pcdet/models/model_utils/mppnet_utils.py pcdet/models/roi_heads/__init__.py pcdet/models/roi_heads/mppnet_head.py pcdet/models/roi_heads/mppnet_memory_bank_e2e.py pcdet/models/roi_heads/target_assigner/proposal_target_layer.py pcdet/utils/box_utils.py setup.py tools/cfgs/dataset_configs/waymo_dataset.yaml tools/cfgs/dataset_configs/waymo_dataset_multiframe.yaml tools/cfgs/kitti_models/pillarnet.yaml tools/cfgs/kitti_models/pointpillar_newaugs.yaml tools/cfgs/nuscenes_models/cbgs_pillar0075_res2d_centerpoint.yaml tools/cfgs/nuscenes_models/cbgs_voxel0075_res3d_centerpoint.yaml tools/cfgs/waymo_models/centerpoint_4frames.yaml tools/cfgs/waymo_models/mppnet_16frames.yaml tools/cfgs/waymo_models/mppnet_4frames.yaml tools/cfgs/waymo_models/mppnet_e2e_memorybank_inference.yaml tools/cfgs/waymo_models/pillarnet.yaml tools/cfgs/waymo_models/pv_rcnn_plusplus_resnet_2frames.yaml tools/eval_utils/eval_utils.py tools/process_tools/create_integrated_database.py tools/test.py tools/train.py tools/train_utils/train_utils.py\n",
            "fatal: A branch named 'dry_run' already exists.\n",
            "* \u001b[32mdry_run\u001b[m\n",
            "  master\u001b[m\n"
          ]
        }
      ]
    },
    {
      "cell_type": "code",
      "source": [
        "!git add -A\n",
        "!git config --global user.name \"souravraha\"\n",
        "!git commit -m \"could not run final demo\"\n",
        "!git push origin dry_run"
      ],
      "metadata": {
        "id": "bidV56YHwS9u",
        "collapsed": true
      },
      "execution_count": null,
      "outputs": []
    },
    {
      "cell_type": "markdown",
      "source": [
        "### Installation of spconv"
      ],
      "metadata": {
        "id": "dDhofOvrNZal"
      }
    },
    {
      "cell_type": "code",
      "source": [
        "%pip install spconv-cu117"
      ],
      "metadata": {
        "id": "UGx_V8MHk7pY",
        "outputId": "7534b9ca-42b5-4518-a07a-8f074effaaa1",
        "colab": {
          "base_uri": "https://localhost:8080/",
          "height": 513
        }
      },
      "execution_count": 15,
      "outputs": [
        {
          "output_type": "display_data",
          "data": {
            "text/plain": [
              "<IPython.core.display.HTML object>"
            ],
            "text/html": [
              "<style>pre{white-space: pre-wrap;}</style>"
            ]
          },
          "metadata": {}
        },
        {
          "output_type": "stream",
          "name": "stdout",
          "text": [
            "Collecting spconv-cu117\n",
            "  Downloading spconv_cu117-2.2.3-cp39-cp39-manylinux_2_17_x86_64.manylinux2014_x86_64.whl (67.6 MB)\n",
            "\u001b[2K     \u001b[90m━━━━━━━━━━━━━━━━━━━━━━━━━━━━━━━━━━━━━━━━\u001b[0m \u001b[32m67.6/67.6 MB\u001b[0m \u001b[31m4.5 MB/s\u001b[0m eta \u001b[36m0:00:00\u001b[0m\n",
            "\u001b[?25hRequirement already satisfied: pybind11>=2.6.0 in ./miniconda3/envs/mayavi/lib/python3.9/site-packages (from spconv-cu117) (2.10.0)\n",
            "Requirement already satisfied: fire in ./miniconda3/envs/mayavi/lib/python3.9/site-packages (from spconv-cu117) (0.4.0)\n",
            "Requirement already satisfied: ccimport>=0.4.0 in ./miniconda3/envs/mayavi/lib/python3.9/site-packages (from spconv-cu117) (0.4.1)\n",
            "Requirement already satisfied: numpy in ./miniconda3/envs/mayavi/lib/python3.9/site-packages (from spconv-cu117) (1.23.1)\n",
            "Collecting cumm-cu117>=0.3.4\n",
            "  Downloading cumm_cu117-0.3.4-cp39-cp39-manylinux_2_17_x86_64.manylinux2014_x86_64.whl (23.3 MB)\n",
            "\u001b[2K     \u001b[90m━━━━━━━━━━━━━━━━━━━━━━━━━━━━━━━━━━━━━━━━\u001b[0m \u001b[32m23.3/23.3 MB\u001b[0m \u001b[31m4.9 MB/s\u001b[0m eta \u001b[36m0:00:00\u001b[0m\n",
            "\u001b[?25hRequirement already satisfied: pccm>=0.4.0 in ./miniconda3/envs/mayavi/lib/python3.9/site-packages (from spconv-cu117) (0.4.2)\n",
            "Requirement already satisfied: ninja in ./miniconda3/envs/mayavi/lib/python3.9/site-packages (from ccimport>=0.4.0->spconv-cu117) (1.10.2.4)\n",
            "Requirement already satisfied: requests in ./miniconda3/envs/mayavi/lib/python3.9/site-packages (from ccimport>=0.4.0->spconv-cu117) (2.28.1)\n",
            "Requirement already satisfied: portalocker>=2.3.2 in ./miniconda3/envs/mayavi/lib/python3.9/site-packages (from pccm>=0.4.0->spconv-cu117) (2.5.1)\n",
            "Requirement already satisfied: lark>=1.0.0 in ./miniconda3/envs/mayavi/lib/python3.9/site-packages (from pccm>=0.4.0->spconv-cu117) (1.1.2)\n",
            "Requirement already satisfied: termcolor in ./miniconda3/envs/mayavi/lib/python3.9/site-packages (from fire->spconv-cu117) (2.0.1)\n",
            "Requirement already satisfied: six in ./miniconda3/envs/mayavi/lib/python3.9/site-packages (from fire->spconv-cu117) (1.16.0)\n",
            "Requirement already satisfied: urllib3<1.27,>=1.21.1 in ./miniconda3/envs/mayavi/lib/python3.9/site-packages (from requests->ccimport>=0.4.0->spconv-cu117) (1.26.11)\n",
            "Requirement already satisfied: charset-normalizer<3,>=2 in ./miniconda3/envs/mayavi/lib/python3.9/site-packages (from requests->ccimport>=0.4.0->spconv-cu117) (2.1.1)\n",
            "Requirement already satisfied: certifi>=2017.4.17 in ./miniconda3/envs/mayavi/lib/python3.9/site-packages (from requests->ccimport>=0.4.0->spconv-cu117) (2022.9.24)\n",
            "Requirement already satisfied: idna<4,>=2.5 in ./miniconda3/envs/mayavi/lib/python3.9/site-packages (from requests->ccimport>=0.4.0->spconv-cu117) (3.4)\n",
            "Installing collected packages: cumm-cu117, spconv-cu117\n",
            "Successfully installed cumm-cu117-0.3.4 spconv-cu117-2.2.3\n",
            "Note: you may need to restart the kernel to use updated packages.\n"
          ]
        }
      ]
    },
    {
      "cell_type": "code",
      "source": [
        "%run -p setup.py develop"
      ],
      "metadata": {
        "id": "1bCNdpX_9mNU",
        "collapsed": true,
        "outputId": "e023a7e7-e47b-435f-a121-0940be34aa8a",
        "colab": {
          "base_uri": "https://localhost:8080/",
          "height": 1000
        }
      },
      "execution_count": 20,
      "outputs": [
        {
          "output_type": "display_data",
          "data": {
            "text/plain": [
              "<IPython.core.display.HTML object>"
            ],
            "text/html": [
              "<style>pre{white-space: pre-wrap;}</style>"
            ]
          },
          "metadata": {}
        },
        {
          "output_type": "stream",
          "name": "stdout",
          "text": [
            "running develop\n"
          ]
        },
        {
          "output_type": "stream",
          "name": "stderr",
          "text": [
            "/home/souraviai/miniconda3/envs/mayavi/lib/python3.9/site-packages/setuptools/command/easy_install.py:144: EasyInstallDeprecationWarning: easy_install command is deprecated. Use build and pip and other standards-based tools.\n",
            "  warnings.warn(\n",
            "/home/souraviai/miniconda3/envs/mayavi/lib/python3.9/site-packages/setuptools/command/install.py:34: SetuptoolsDeprecationWarning: setup.py install is deprecated. Use build and pip and other standards-based tools.\n",
            "  warnings.warn(\n"
          ]
        },
        {
          "output_type": "stream",
          "name": "stdout",
          "text": [
            "running egg_info\n",
            "writing pcdet.egg-info/PKG-INFO\n",
            "writing dependency_links to pcdet.egg-info/dependency_links.txt\n",
            "writing requirements to pcdet.egg-info/requires.txt\n",
            "writing top-level names to pcdet.egg-info/top_level.txt\n",
            "reading manifest file 'pcdet.egg-info/SOURCES.txt'\n",
            "adding license file 'LICENSE'\n",
            "writing manifest file 'pcdet.egg-info/SOURCES.txt'\n",
            "running build_ext\n",
            "building 'pcdet.ops.iou3d_nms.iou3d_nms_cuda' extension\n",
            "Emitting ninja build file /DATA/souraviai/OpenPCDet/build/temp.linux-x86_64-cpython-39/build.ninja...\n",
            "Compiling objects...\n",
            "Allowing ninja to set a default number of workers... (overridable by setting the environment variable MAX_JOBS=N)\n"
          ]
        },
        {
          "output_type": "stream",
          "name": "stderr",
          "text": [
            "/home/souraviai/miniconda3/envs/mayavi/lib/python3.9/site-packages/torch/utils/cpp_extension.py:813: UserWarning: The detected CUDA version (11.7) has a minor version mismatch with the version that was used to compile PyTorch (11.6). Most likely this shouldn't be a problem.\n",
            "  warnings.warn(CUDA_MISMATCH_WARN.format(cuda_str_version, torch.version.cuda))\n",
            "/home/souraviai/miniconda3/envs/mayavi/lib/python3.9/site-packages/torch/utils/cpp_extension.py:820: UserWarning: There are no g++ version bounds defined for CUDA version 11.7\n",
            "  warnings.warn(f'There are no {compiler_name} version bounds defined for CUDA version {cuda_str_version}')\n"
          ]
        },
        {
          "output_type": "stream",
          "name": "stdout",
          "text": [
            "ninja: no work to do.\n",
            "g++ -pthread -B /home/souraviai/miniconda3/envs/mayavi/compiler_compat -shared -Wl,--allow-shlib-undefined -Wl,-rpath,/home/souraviai/miniconda3/envs/mayavi/lib -Wl,-rpath-link,/home/souraviai/miniconda3/envs/mayavi/lib -L/home/souraviai/miniconda3/envs/mayavi/lib -Wl,--allow-shlib-undefined -Wl,-rpath,/home/souraviai/miniconda3/envs/mayavi/lib -Wl,-rpath-link,/home/souraviai/miniconda3/envs/mayavi/lib -L/home/souraviai/miniconda3/envs/mayavi/lib /DATA/souraviai/OpenPCDet/build/temp.linux-x86_64-cpython-39/pcdet/ops/iou3d_nms/src/iou3d_cpu.o /DATA/souraviai/OpenPCDet/build/temp.linux-x86_64-cpython-39/pcdet/ops/iou3d_nms/src/iou3d_nms.o /DATA/souraviai/OpenPCDet/build/temp.linux-x86_64-cpython-39/pcdet/ops/iou3d_nms/src/iou3d_nms_api.o /DATA/souraviai/OpenPCDet/build/temp.linux-x86_64-cpython-39/pcdet/ops/iou3d_nms/src/iou3d_nms_kernel.o -L/home/souraviai/miniconda3/envs/mayavi/lib/python3.9/site-packages/torch/lib -L/usr/local/cuda-11.7/lib64 -lc10 -ltorch -ltorch_cpu -ltorch_python -lcudart -lc10_cuda -ltorch_cuda_cu -ltorch_cuda_cpp -o build/lib.linux-x86_64-cpython-39/pcdet/ops/iou3d_nms/iou3d_nms_cuda.cpython-39-x86_64-linux-gnu.so\n",
            "building 'pcdet.ops.roiaware_pool3d.roiaware_pool3d_cuda' extension\n",
            "Emitting ninja build file /DATA/souraviai/OpenPCDet/build/temp.linux-x86_64-cpython-39/build.ninja...\n",
            "Compiling objects...\n",
            "Allowing ninja to set a default number of workers... (overridable by setting the environment variable MAX_JOBS=N)\n",
            "ninja: no work to do.\n",
            "g++ -pthread -B /home/souraviai/miniconda3/envs/mayavi/compiler_compat -shared -Wl,--allow-shlib-undefined -Wl,-rpath,/home/souraviai/miniconda3/envs/mayavi/lib -Wl,-rpath-link,/home/souraviai/miniconda3/envs/mayavi/lib -L/home/souraviai/miniconda3/envs/mayavi/lib -Wl,--allow-shlib-undefined -Wl,-rpath,/home/souraviai/miniconda3/envs/mayavi/lib -Wl,-rpath-link,/home/souraviai/miniconda3/envs/mayavi/lib -L/home/souraviai/miniconda3/envs/mayavi/lib /DATA/souraviai/OpenPCDet/build/temp.linux-x86_64-cpython-39/pcdet/ops/roiaware_pool3d/src/roiaware_pool3d.o /DATA/souraviai/OpenPCDet/build/temp.linux-x86_64-cpython-39/pcdet/ops/roiaware_pool3d/src/roiaware_pool3d_kernel.o -L/home/souraviai/miniconda3/envs/mayavi/lib/python3.9/site-packages/torch/lib -L/usr/local/cuda-11.7/lib64 -lc10 -ltorch -ltorch_cpu -ltorch_python -lcudart -lc10_cuda -ltorch_cuda_cu -ltorch_cuda_cpp -o build/lib.linux-x86_64-cpython-39/pcdet/ops/roiaware_pool3d/roiaware_pool3d_cuda.cpython-39-x86_64-linux-gnu.so\n",
            "building 'pcdet.ops.roipoint_pool3d.roipoint_pool3d_cuda' extension\n",
            "Emitting ninja build file /DATA/souraviai/OpenPCDet/build/temp.linux-x86_64-cpython-39/build.ninja...\n",
            "Compiling objects...\n",
            "Allowing ninja to set a default number of workers... (overridable by setting the environment variable MAX_JOBS=N)\n",
            "ninja: no work to do.\n",
            "g++ -pthread -B /home/souraviai/miniconda3/envs/mayavi/compiler_compat -shared -Wl,--allow-shlib-undefined -Wl,-rpath,/home/souraviai/miniconda3/envs/mayavi/lib -Wl,-rpath-link,/home/souraviai/miniconda3/envs/mayavi/lib -L/home/souraviai/miniconda3/envs/mayavi/lib -Wl,--allow-shlib-undefined -Wl,-rpath,/home/souraviai/miniconda3/envs/mayavi/lib -Wl,-rpath-link,/home/souraviai/miniconda3/envs/mayavi/lib -L/home/souraviai/miniconda3/envs/mayavi/lib /DATA/souraviai/OpenPCDet/build/temp.linux-x86_64-cpython-39/pcdet/ops/roipoint_pool3d/src/roipoint_pool3d.o /DATA/souraviai/OpenPCDet/build/temp.linux-x86_64-cpython-39/pcdet/ops/roipoint_pool3d/src/roipoint_pool3d_kernel.o -L/home/souraviai/miniconda3/envs/mayavi/lib/python3.9/site-packages/torch/lib -L/usr/local/cuda-11.7/lib64 -lc10 -ltorch -ltorch_cpu -ltorch_python -lcudart -lc10_cuda -ltorch_cuda_cu -ltorch_cuda_cpp -o build/lib.linux-x86_64-cpython-39/pcdet/ops/roipoint_pool3d/roipoint_pool3d_cuda.cpython-39-x86_64-linux-gnu.so\n",
            "building 'pcdet.ops.pointnet2.pointnet2_stack.pointnet2_stack_cuda' extension\n",
            "Emitting ninja build file /DATA/souraviai/OpenPCDet/build/temp.linux-x86_64-cpython-39/build.ninja...\n",
            "Compiling objects...\n",
            "Allowing ninja to set a default number of workers... (overridable by setting the environment variable MAX_JOBS=N)\n",
            "ninja: no work to do.\n",
            "g++ -pthread -B /home/souraviai/miniconda3/envs/mayavi/compiler_compat -shared -Wl,--allow-shlib-undefined -Wl,-rpath,/home/souraviai/miniconda3/envs/mayavi/lib -Wl,-rpath-link,/home/souraviai/miniconda3/envs/mayavi/lib -L/home/souraviai/miniconda3/envs/mayavi/lib -Wl,--allow-shlib-undefined -Wl,-rpath,/home/souraviai/miniconda3/envs/mayavi/lib -Wl,-rpath-link,/home/souraviai/miniconda3/envs/mayavi/lib -L/home/souraviai/miniconda3/envs/mayavi/lib /DATA/souraviai/OpenPCDet/build/temp.linux-x86_64-cpython-39/pcdet/ops/pointnet2/pointnet2_stack/src/ball_query.o /DATA/souraviai/OpenPCDet/build/temp.linux-x86_64-cpython-39/pcdet/ops/pointnet2/pointnet2_stack/src/ball_query_gpu.o /DATA/souraviai/OpenPCDet/build/temp.linux-x86_64-cpython-39/pcdet/ops/pointnet2/pointnet2_stack/src/group_points.o /DATA/souraviai/OpenPCDet/build/temp.linux-x86_64-cpython-39/pcdet/ops/pointnet2/pointnet2_stack/src/group_points_gpu.o /DATA/souraviai/OpenPCDet/build/temp.linux-x86_64-cpython-39/pcdet/ops/pointnet2/pointnet2_stack/src/interpolate.o /DATA/souraviai/OpenPCDet/build/temp.linux-x86_64-cpython-39/pcdet/ops/pointnet2/pointnet2_stack/src/interpolate_gpu.o /DATA/souraviai/OpenPCDet/build/temp.linux-x86_64-cpython-39/pcdet/ops/pointnet2/pointnet2_stack/src/pointnet2_api.o /DATA/souraviai/OpenPCDet/build/temp.linux-x86_64-cpython-39/pcdet/ops/pointnet2/pointnet2_stack/src/sampling.o /DATA/souraviai/OpenPCDet/build/temp.linux-x86_64-cpython-39/pcdet/ops/pointnet2/pointnet2_stack/src/sampling_gpu.o /DATA/souraviai/OpenPCDet/build/temp.linux-x86_64-cpython-39/pcdet/ops/pointnet2/pointnet2_stack/src/vector_pool.o /DATA/souraviai/OpenPCDet/build/temp.linux-x86_64-cpython-39/pcdet/ops/pointnet2/pointnet2_stack/src/vector_pool_gpu.o /DATA/souraviai/OpenPCDet/build/temp.linux-x86_64-cpython-39/pcdet/ops/pointnet2/pointnet2_stack/src/voxel_query.o /DATA/souraviai/OpenPCDet/build/temp.linux-x86_64-cpython-39/pcdet/ops/pointnet2/pointnet2_stack/src/voxel_query_gpu.o -L/home/souraviai/miniconda3/envs/mayavi/lib/python3.9/site-packages/torch/lib -L/usr/local/cuda-11.7/lib64 -lc10 -ltorch -ltorch_cpu -ltorch_python -lcudart -lc10_cuda -ltorch_cuda_cu -ltorch_cuda_cpp -o build/lib.linux-x86_64-cpython-39/pcdet/ops/pointnet2/pointnet2_stack/pointnet2_stack_cuda.cpython-39-x86_64-linux-gnu.so\n",
            "building 'pcdet.ops.pointnet2.pointnet2_batch.pointnet2_batch_cuda' extension\n",
            "Emitting ninja build file /DATA/souraviai/OpenPCDet/build/temp.linux-x86_64-cpython-39/build.ninja...\n",
            "Compiling objects...\n",
            "Allowing ninja to set a default number of workers... (overridable by setting the environment variable MAX_JOBS=N)\n",
            "ninja: no work to do.\n",
            "g++ -pthread -B /home/souraviai/miniconda3/envs/mayavi/compiler_compat -shared -Wl,--allow-shlib-undefined -Wl,-rpath,/home/souraviai/miniconda3/envs/mayavi/lib -Wl,-rpath-link,/home/souraviai/miniconda3/envs/mayavi/lib -L/home/souraviai/miniconda3/envs/mayavi/lib -Wl,--allow-shlib-undefined -Wl,-rpath,/home/souraviai/miniconda3/envs/mayavi/lib -Wl,-rpath-link,/home/souraviai/miniconda3/envs/mayavi/lib -L/home/souraviai/miniconda3/envs/mayavi/lib /DATA/souraviai/OpenPCDet/build/temp.linux-x86_64-cpython-39/pcdet/ops/pointnet2/pointnet2_batch/src/ball_query.o /DATA/souraviai/OpenPCDet/build/temp.linux-x86_64-cpython-39/pcdet/ops/pointnet2/pointnet2_batch/src/ball_query_gpu.o /DATA/souraviai/OpenPCDet/build/temp.linux-x86_64-cpython-39/pcdet/ops/pointnet2/pointnet2_batch/src/group_points.o /DATA/souraviai/OpenPCDet/build/temp.linux-x86_64-cpython-39/pcdet/ops/pointnet2/pointnet2_batch/src/group_points_gpu.o /DATA/souraviai/OpenPCDet/build/temp.linux-x86_64-cpython-39/pcdet/ops/pointnet2/pointnet2_batch/src/interpolate.o /DATA/souraviai/OpenPCDet/build/temp.linux-x86_64-cpython-39/pcdet/ops/pointnet2/pointnet2_batch/src/interpolate_gpu.o /DATA/souraviai/OpenPCDet/build/temp.linux-x86_64-cpython-39/pcdet/ops/pointnet2/pointnet2_batch/src/pointnet2_api.o /DATA/souraviai/OpenPCDet/build/temp.linux-x86_64-cpython-39/pcdet/ops/pointnet2/pointnet2_batch/src/sampling.o /DATA/souraviai/OpenPCDet/build/temp.linux-x86_64-cpython-39/pcdet/ops/pointnet2/pointnet2_batch/src/sampling_gpu.o -L/home/souraviai/miniconda3/envs/mayavi/lib/python3.9/site-packages/torch/lib -L/usr/local/cuda-11.7/lib64 -lc10 -ltorch -ltorch_cpu -ltorch_python -lcudart -lc10_cuda -ltorch_cuda_cu -ltorch_cuda_cpp -o build/lib.linux-x86_64-cpython-39/pcdet/ops/pointnet2/pointnet2_batch/pointnet2_batch_cuda.cpython-39-x86_64-linux-gnu.so\n",
            "copying build/lib.linux-x86_64-cpython-39/pcdet/ops/iou3d_nms/iou3d_nms_cuda.cpython-39-x86_64-linux-gnu.so -> pcdet/ops/iou3d_nms\n",
            "copying build/lib.linux-x86_64-cpython-39/pcdet/ops/roiaware_pool3d/roiaware_pool3d_cuda.cpython-39-x86_64-linux-gnu.so -> pcdet/ops/roiaware_pool3d\n",
            "copying build/lib.linux-x86_64-cpython-39/pcdet/ops/roipoint_pool3d/roipoint_pool3d_cuda.cpython-39-x86_64-linux-gnu.so -> pcdet/ops/roipoint_pool3d\n",
            "copying build/lib.linux-x86_64-cpython-39/pcdet/ops/pointnet2/pointnet2_stack/pointnet2_stack_cuda.cpython-39-x86_64-linux-gnu.so -> pcdet/ops/pointnet2/pointnet2_stack\n",
            "copying build/lib.linux-x86_64-cpython-39/pcdet/ops/pointnet2/pointnet2_batch/pointnet2_batch_cuda.cpython-39-x86_64-linux-gnu.so -> pcdet/ops/pointnet2/pointnet2_batch\n",
            "Creating /home/souraviai/miniconda3/envs/mayavi/lib/python3.9/site-packages/pcdet.egg-link (link to .)\n",
            "pcdet 0.6.0+762e598 is already the active version in easy-install.pth\n",
            "\n",
            "Installed /DATA/souraviai/OpenPCDet\n",
            "Processing dependencies for pcdet==0.6.0+762e598\n",
            "Searching for SharedArray==3.2.1\n",
            "Best match: SharedArray 3.2.1\n",
            "Processing SharedArray-3.2.1-py3.9-linux-x86_64.egg\n",
            "SharedArray 3.2.1 is already the active version in easy-install.pth\n",
            "\n",
            "Using /home/souraviai/miniconda3/envs/mayavi/lib/python3.9/site-packages/SharedArray-3.2.1-py3.9-linux-x86_64.egg\n",
            "Searching for tqdm==4.64.1\n",
            "Best match: tqdm 4.64.1\n",
            "Processing tqdm-4.64.1-py3.9.egg\n",
            "tqdm 4.64.1 is already the active version in easy-install.pth\n",
            "Installing tqdm script to /home/souraviai/miniconda3/envs/mayavi/bin\n",
            "\n",
            "Using /home/souraviai/miniconda3/envs/mayavi/lib/python3.9/site-packages/tqdm-4.64.1-py3.9.egg\n",
            "Searching for scikit-image==0.19.3\n",
            "Best match: scikit-image 0.19.3\n",
            "Processing scikit_image-0.19.3-py3.9-linux-x86_64.egg\n",
            "scikit-image 0.19.3 is already the active version in easy-install.pth\n",
            "Installing skivi script to /home/souraviai/miniconda3/envs/mayavi/bin\n",
            "\n",
            "Using /home/souraviai/miniconda3/envs/mayavi/lib/python3.9/site-packages/scikit_image-0.19.3-py3.9-linux-x86_64.egg\n",
            "Searching for PyYAML==6.0\n",
            "Best match: PyYAML 6.0\n",
            "Processing PyYAML-6.0-py3.9-linux-x86_64.egg\n",
            "PyYAML 6.0 is already the active version in easy-install.pth\n",
            "\n",
            "Using /home/souraviai/miniconda3/envs/mayavi/lib/python3.9/site-packages/PyYAML-6.0-py3.9-linux-x86_64.egg\n",
            "Searching for easydict==1.10\n",
            "Best match: easydict 1.10\n",
            "Processing easydict-1.10-py3.9.egg\n",
            "easydict 1.10 is already the active version in easy-install.pth\n",
            "\n",
            "Using /home/souraviai/miniconda3/envs/mayavi/lib/python3.9/site-packages/easydict-1.10-py3.9.egg\n",
            "Searching for tensorboardX==2.5.1\n",
            "Best match: tensorboardX 2.5.1\n",
            "Processing tensorboardX-2.5.1-py3.9.egg\n",
            "tensorboardX 2.5.1 is already the active version in easy-install.pth\n",
            "\n",
            "Using /home/souraviai/miniconda3/envs/mayavi/lib/python3.9/site-packages/tensorboardX-2.5.1-py3.9.egg\n",
            "Searching for numba==0.56.2\n",
            "Best match: numba 0.56.2\n",
            "Processing numba-0.56.2-py3.9-linux-x86_64.egg\n",
            "numba 0.56.2 is already the active version in easy-install.pth\n",
            "Installing numba script to /home/souraviai/miniconda3/envs/mayavi/bin\n",
            "Installing pycc script to /home/souraviai/miniconda3/envs/mayavi/bin\n",
            "\n",
            "Using /home/souraviai/miniconda3/envs/mayavi/lib/python3.9/site-packages/numba-0.56.2-py3.9-linux-x86_64.egg\n",
            "Searching for llvmlite==0.39.1\n",
            "Best match: llvmlite 0.39.1\n",
            "Processing llvmlite-0.39.1-py3.9-linux-x86_64.egg\n",
            "llvmlite 0.39.1 is already the active version in easy-install.pth\n",
            "\n",
            "Using /home/souraviai/miniconda3/envs/mayavi/lib/python3.9/site-packages/llvmlite-0.39.1-py3.9-linux-x86_64.egg\n",
            "Searching for numpy==1.23.1\n",
            "Best match: numpy 1.23.1\n",
            "Adding numpy 1.23.1 to easy-install.pth file\n",
            "Installing f2py script to /home/souraviai/miniconda3/envs/mayavi/bin\n",
            "Installing f2py3 script to /home/souraviai/miniconda3/envs/mayavi/bin\n",
            "Installing f2py3.9 script to /home/souraviai/miniconda3/envs/mayavi/bin\n",
            "\n",
            "Using /home/souraviai/miniconda3/envs/mayavi/lib/python3.9/site-packages\n",
            "Searching for packaging==21.3\n",
            "Best match: packaging 21.3\n",
            "Adding packaging 21.3 to easy-install.pth file\n",
            "\n",
            "Using /home/souraviai/miniconda3/envs/mayavi/lib/python3.9/site-packages\n",
            "Searching for PyWavelets==1.4.1\n",
            "Best match: PyWavelets 1.4.1\n",
            "Processing PyWavelets-1.4.1-py3.9-linux-x86_64.egg\n",
            "PyWavelets 1.4.1 is already the active version in easy-install.pth\n",
            "\n",
            "Using /home/souraviai/miniconda3/envs/mayavi/lib/python3.9/site-packages/PyWavelets-1.4.1-py3.9-linux-x86_64.egg\n",
            "Searching for tifffile==2022.8.12\n",
            "Best match: tifffile 2022.8.12\n",
            "Processing tifffile-2022.8.12-py3.9.egg\n",
            "tifffile 2022.8.12 is already the active version in easy-install.pth\n",
            "Installing lsm2bin script to /home/souraviai/miniconda3/envs/mayavi/bin\n",
            "Installing tiff2fsspec script to /home/souraviai/miniconda3/envs/mayavi/bin\n",
            "Installing tiffcomment script to /home/souraviai/miniconda3/envs/mayavi/bin\n",
            "Installing tifffile script to /home/souraviai/miniconda3/envs/mayavi/bin\n",
            "\n",
            "Using /home/souraviai/miniconda3/envs/mayavi/lib/python3.9/site-packages/tifffile-2022.8.12-py3.9.egg\n",
            "Searching for imageio==2.22.0\n",
            "Best match: imageio 2.22.0\n",
            "Processing imageio-2.22.0-py3.9.egg\n",
            "imageio 2.22.0 is already the active version in easy-install.pth\n",
            "Installing imageio_download_bin script to /home/souraviai/miniconda3/envs/mayavi/bin\n",
            "Installing imageio_remove_bin script to /home/souraviai/miniconda3/envs/mayavi/bin\n",
            "\n",
            "Using /home/souraviai/miniconda3/envs/mayavi/lib/python3.9/site-packages/imageio-2.22.0-py3.9.egg\n",
            "Searching for Pillow==9.2.0\n",
            "Best match: Pillow 9.2.0\n",
            "Adding Pillow 9.2.0 to easy-install.pth file\n",
            "\n",
            "Using /home/souraviai/miniconda3/envs/mayavi/lib/python3.9/site-packages\n",
            "Searching for networkx==2.8.6\n",
            "Best match: networkx 2.8.6\n",
            "Processing networkx-2.8.6-py3.9.egg\n",
            "networkx 2.8.6 is already the active version in easy-install.pth\n",
            "\n",
            "Using /home/souraviai/miniconda3/envs/mayavi/lib/python3.9/site-packages/networkx-2.8.6-py3.9.egg\n",
            "Searching for scipy==1.9.1\n",
            "Best match: scipy 1.9.1\n",
            "Processing scipy-1.9.1-py3.9-linux-x86_64.egg\n",
            "scipy 1.9.1 is already the active version in easy-install.pth\n",
            "\n",
            "Using /home/souraviai/miniconda3/envs/mayavi/lib/python3.9/site-packages/scipy-1.9.1-py3.9-linux-x86_64.egg\n",
            "Searching for protobuf==3.20.1\n",
            "Best match: protobuf 3.20.1\n",
            "Processing protobuf-3.20.1-py3.9.egg\n",
            "protobuf 3.20.1 is already the active version in easy-install.pth\n",
            "\n",
            "Using /home/souraviai/miniconda3/envs/mayavi/lib/python3.9/site-packages/protobuf-3.20.1-py3.9.egg\n",
            "Searching for setuptools==59.8.0\n",
            "Best match: setuptools 59.8.0\n",
            "Processing setuptools-59.8.0-py3.9.egg\n",
            "setuptools 59.8.0 is already the active version in easy-install.pth\n",
            "\n",
            "Using /home/souraviai/miniconda3/envs/mayavi/lib/python3.9/site-packages/setuptools-59.8.0-py3.9.egg\n",
            "Searching for pyparsing==3.0.9\n",
            "Best match: pyparsing 3.0.9\n",
            "Adding pyparsing 3.0.9 to easy-install.pth file\n",
            "\n",
            "Using /home/souraviai/miniconda3/envs/mayavi/lib/python3.9/site-packages\n",
            "Finished processing dependencies for pcdet==0.6.0+762e598\n",
            " "
          ]
        }
      ]
    },
    {
      "cell_type": "code",
      "source": [
        "!python demo.py --cfg_file cfgs/kitti_models/pv_rcnn.yaml --ckpt /DATA/souraviai/my_Kitti/pv_rcnn_8369.pth --data_path ../data/kitti/training/velodyne/000000.bin"
      ],
      "metadata": {
        "id": "DXTOnd4ItgH4",
        "outputId": "0889f038-25a7-4f15-ce15-6d576cd5a653",
        "colab": {
          "base_uri": "https://localhost:8080/",
          "height": 159
        }
      },
      "execution_count": null,
      "outputs": [
        {
          "output_type": "display_data",
          "data": {
            "text/plain": [
              "<IPython.core.display.HTML object>"
            ],
            "text/html": [
              "<style>pre{white-space: pre-wrap;}</style>"
            ]
          },
          "metadata": {}
        },
        {
          "output_type": "stream",
          "name": "stdout",
          "text": [
            "qt.qpa.xcb: could not connect to display localhost:10.0\r\n",
            "qt.qpa.plugin: Could not load the Qt platform plugin \"xcb\" in \"\" even though it was found.\r\n",
            "This application failed to start because no Qt platform plugin could be initialized. Reinstalling the application may fix this problem.\r\n",
            "\r\n",
            "Available platform plugins are: eglfs, linuxfb, minimal, minimalegl, offscreen, vnc, wayland-egl, wayland, wayland-xcomposite-egl, wayland-xcomposite-glx, webgl, xcb.\r\n",
            "\r\n"
          ]
        }
      ]
    },
    {
      "cell_type": "code",
      "source": [
        "%cat /home/souraviai/error.txt"
      ],
      "metadata": {
        "id": "Pf0bFawDzmTt"
      },
      "execution_count": null,
      "outputs": []
    },
    {
      "cell_type": "code",
      "source": [
        "%pip install open3d"
      ],
      "metadata": {
        "id": "KJZhbmko0s4n",
        "outputId": "00e22707-61f8-4cb2-b57e-34c04dd2abad",
        "colab": {
          "base_uri": "https://localhost:8080/",
          "height": 70
        }
      },
      "execution_count": null,
      "outputs": [
        {
          "output_type": "display_data",
          "data": {
            "text/plain": [
              "<IPython.core.display.HTML object>"
            ],
            "text/html": [
              "<style>pre{white-space: pre-wrap;}</style>"
            ]
          },
          "metadata": {}
        },
        {
          "output_type": "stream",
          "name": "stdout",
          "text": [
            "\u001b[31mERROR: Could not find a version that satisfies the requirement open3d (from versions: none)\u001b[0m\u001b[31m\r\n",
            "\u001b[0m\u001b[31mERROR: No matching distribution found for open3d\u001b[0m\u001b[31m\r\n",
            "\u001b[0mNote: you may need to restart the kernel to use updated packages.\n"
          ]
        }
      ]
    },
    {
      "cell_type": "code",
      "source": [
        "%run -m pcdet.datasets.kitti.kitti_dataset create_kitti_infos tools/cfgs/dataset_configs/kitti_dataset.yaml"
      ],
      "metadata": {
        "id": "Pj9LCQ0Yr9PK",
        "outputId": "e01d76dc-cacf-418a-bcc5-d0984ce489ff",
        "colab": {
          "base_uri": "https://localhost:8080/",
          "height": 1000
        }
      },
      "execution_count": null,
      "outputs": [
        {
          "output_type": "display_data",
          "data": {
            "text/plain": [
              "<IPython.core.display.HTML object>"
            ],
            "text/html": [
              "<style>pre{white-space: pre-wrap;}</style>"
            ]
          },
          "metadata": {}
        },
        {
          "output_type": "error",
          "ename": "ImportError",
          "evalue": "ignored",
          "traceback": [
            "\u001b[0;31m---------------------------------------------------------------------------\u001b[0m",
            "\u001b[0;31mImportError\u001b[0m                               Traceback (most recent call last)",
            "Cell \u001b[0;32mIn [30], line 1\u001b[0m\n\u001b[0;32m----> 1\u001b[0m get_ipython()\u001b[38;5;241m.\u001b[39mrun_line_magic(\u001b[38;5;124m'\u001b[39m\u001b[38;5;124mrun\u001b[39m\u001b[38;5;124m'\u001b[39m, \u001b[38;5;124m'\u001b[39m\u001b[38;5;124m-m pcdet.datasets.kitti.kitti_dataset create_kitti_infos tools/cfgs/dataset_configs/kitti_dataset.yaml\u001b[39m\u001b[38;5;124m'\u001b[39m)\n",
            "File \u001b[0;32m~/miniconda3/envs/OpenPCDet_102/lib/python3.9/site-packages/IPython/core/interactiveshell.py:2309\u001b[0m, in \u001b[0;36mInteractiveShell.run_line_magic\u001b[0;34m(self, magic_name, line, _stack_depth)\u001b[0m\n\u001b[1;32m   2307\u001b[0m     kwargs[\u001b[38;5;124m'\u001b[39m\u001b[38;5;124mlocal_ns\u001b[39m\u001b[38;5;124m'\u001b[39m] \u001b[38;5;241m=\u001b[39m \u001b[38;5;28mself\u001b[39m\u001b[38;5;241m.\u001b[39mget_local_scope(stack_depth)\n\u001b[1;32m   2308\u001b[0m \u001b[38;5;28;01mwith\u001b[39;00m \u001b[38;5;28mself\u001b[39m\u001b[38;5;241m.\u001b[39mbuiltin_trap:\n\u001b[0;32m-> 2309\u001b[0m     result \u001b[38;5;241m=\u001b[39m \u001b[43mfn\u001b[49m\u001b[43m(\u001b[49m\u001b[38;5;241;43m*\u001b[39;49m\u001b[43margs\u001b[49m\u001b[43m,\u001b[49m\u001b[43m \u001b[49m\u001b[38;5;241;43m*\u001b[39;49m\u001b[38;5;241;43m*\u001b[39;49m\u001b[43mkwargs\u001b[49m\u001b[43m)\u001b[49m\n\u001b[1;32m   2310\u001b[0m \u001b[38;5;28;01mreturn\u001b[39;00m result\n",
            "File \u001b[0;32m~/miniconda3/envs/OpenPCDet_102/lib/python3.9/site-packages/IPython/core/magics/execution.py:688\u001b[0m, in \u001b[0;36mExecutionMagics.run\u001b[0;34m(self, parameter_s, runner, file_finder)\u001b[0m\n\u001b[1;32m    686\u001b[0m \u001b[38;5;28;01mif\u001b[39;00m \u001b[38;5;124m\"\u001b[39m\u001b[38;5;124mm\u001b[39m\u001b[38;5;124m\"\u001b[39m \u001b[38;5;129;01min\u001b[39;00m opts:\n\u001b[1;32m    687\u001b[0m     modulename \u001b[38;5;241m=\u001b[39m opts[\u001b[38;5;124m\"\u001b[39m\u001b[38;5;124mm\u001b[39m\u001b[38;5;124m\"\u001b[39m][\u001b[38;5;241m0\u001b[39m]\n\u001b[0;32m--> 688\u001b[0m     modpath \u001b[38;5;241m=\u001b[39m \u001b[43mfind_mod\u001b[49m\u001b[43m(\u001b[49m\u001b[43mmodulename\u001b[49m\u001b[43m)\u001b[49m\n\u001b[1;32m    689\u001b[0m     \u001b[38;5;28;01mif\u001b[39;00m modpath \u001b[38;5;129;01mis\u001b[39;00m \u001b[38;5;28;01mNone\u001b[39;00m:\n\u001b[1;32m    690\u001b[0m         msg \u001b[38;5;241m=\u001b[39m \u001b[38;5;124m'\u001b[39m\u001b[38;5;132;01m%r\u001b[39;00m\u001b[38;5;124m is not a valid modulename on sys.path\u001b[39m\u001b[38;5;124m'\u001b[39m\u001b[38;5;241m%\u001b[39mmodulename\n",
            "File \u001b[0;32m~/miniconda3/envs/OpenPCDet_102/lib/python3.9/site-packages/IPython/utils/module_paths.py:60\u001b[0m, in \u001b[0;36mfind_mod\u001b[0;34m(module_name)\u001b[0m\n\u001b[1;32m     40\u001b[0m \u001b[38;5;28;01mdef\u001b[39;00m \u001b[38;5;21mfind_mod\u001b[39m(module_name):\n\u001b[1;32m     41\u001b[0m     \u001b[38;5;124;03m\"\"\"\u001b[39;00m\n\u001b[1;32m     42\u001b[0m \u001b[38;5;124;03m    Find module `module_name` on sys.path, and return the path to module `module_name`.\u001b[39;00m\n\u001b[1;32m     43\u001b[0m \n\u001b[0;32m   (...)\u001b[0m\n\u001b[1;32m     58\u001b[0m \u001b[38;5;124;03m        depending on above conditions.\u001b[39;00m\n\u001b[1;32m     59\u001b[0m \u001b[38;5;124;03m    \"\"\"\u001b[39;00m\n\u001b[0;32m---> 60\u001b[0m     spec \u001b[38;5;241m=\u001b[39m \u001b[43mimportlib\u001b[49m\u001b[38;5;241;43m.\u001b[39;49m\u001b[43mutil\u001b[49m\u001b[38;5;241;43m.\u001b[39;49m\u001b[43mfind_spec\u001b[49m\u001b[43m(\u001b[49m\u001b[43mmodule_name\u001b[49m\u001b[43m)\u001b[49m\n\u001b[1;32m     61\u001b[0m     module_path \u001b[38;5;241m=\u001b[39m spec\u001b[38;5;241m.\u001b[39morigin\n\u001b[1;32m     62\u001b[0m     \u001b[38;5;28;01mif\u001b[39;00m module_path \u001b[38;5;129;01mis\u001b[39;00m \u001b[38;5;28;01mNone\u001b[39;00m:\n",
            "File \u001b[0;32m~/miniconda3/envs/OpenPCDet_102/lib/python3.9/importlib/util.py:94\u001b[0m, in \u001b[0;36mfind_spec\u001b[0;34m(name, package)\u001b[0m\n\u001b[1;32m     92\u001b[0m parent_name \u001b[38;5;241m=\u001b[39m fullname\u001b[38;5;241m.\u001b[39mrpartition(\u001b[38;5;124m'\u001b[39m\u001b[38;5;124m.\u001b[39m\u001b[38;5;124m'\u001b[39m)[\u001b[38;5;241m0\u001b[39m]\n\u001b[1;32m     93\u001b[0m \u001b[38;5;28;01mif\u001b[39;00m parent_name:\n\u001b[0;32m---> 94\u001b[0m     parent \u001b[38;5;241m=\u001b[39m \u001b[38;5;28;43m__import__\u001b[39;49m\u001b[43m(\u001b[49m\u001b[43mparent_name\u001b[49m\u001b[43m,\u001b[49m\u001b[43m \u001b[49m\u001b[43mfromlist\u001b[49m\u001b[38;5;241;43m=\u001b[39;49m\u001b[43m[\u001b[49m\u001b[38;5;124;43m'\u001b[39;49m\u001b[38;5;124;43m__path__\u001b[39;49m\u001b[38;5;124;43m'\u001b[39;49m\u001b[43m]\u001b[49m\u001b[43m)\u001b[49m\n\u001b[1;32m     95\u001b[0m     \u001b[38;5;28;01mtry\u001b[39;00m:\n\u001b[1;32m     96\u001b[0m         parent_path \u001b[38;5;241m=\u001b[39m parent\u001b[38;5;241m.\u001b[39m__path__\n",
            "File \u001b[0;32m/DATA/souraviai/OpenPCDet/pcdet/datasets/__init__.py:8\u001b[0m\n\u001b[1;32m      4\u001b[0m \u001b[38;5;28;01mfrom\u001b[39;00m \u001b[38;5;21;01mtorch\u001b[39;00m\u001b[38;5;21;01m.\u001b[39;00m\u001b[38;5;21;01mutils\u001b[39;00m\u001b[38;5;21;01m.\u001b[39;00m\u001b[38;5;21;01mdata\u001b[39;00m \u001b[38;5;28;01mimport\u001b[39;00m DistributedSampler \u001b[38;5;28;01mas\u001b[39;00m _DistributedSampler\n\u001b[1;32m      6\u001b[0m \u001b[38;5;28;01mfrom\u001b[39;00m \u001b[38;5;21;01mpcdet\u001b[39;00m\u001b[38;5;21;01m.\u001b[39;00m\u001b[38;5;21;01mutils\u001b[39;00m \u001b[38;5;28;01mimport\u001b[39;00m common_utils\n\u001b[0;32m----> 8\u001b[0m \u001b[38;5;28;01mfrom\u001b[39;00m \u001b[38;5;21;01m.\u001b[39;00m\u001b[38;5;21;01mdataset\u001b[39;00m \u001b[38;5;28;01mimport\u001b[39;00m DatasetTemplate\n\u001b[1;32m      9\u001b[0m \u001b[38;5;28;01mfrom\u001b[39;00m \u001b[38;5;21;01m.\u001b[39;00m\u001b[38;5;21;01mkitti\u001b[39;00m\u001b[38;5;21;01m.\u001b[39;00m\u001b[38;5;21;01mkitti_dataset\u001b[39;00m \u001b[38;5;28;01mimport\u001b[39;00m KittiDataset\n\u001b[1;32m     10\u001b[0m \u001b[38;5;28;01mfrom\u001b[39;00m \u001b[38;5;21;01m.\u001b[39;00m\u001b[38;5;21;01mnuscenes\u001b[39;00m\u001b[38;5;21;01m.\u001b[39;00m\u001b[38;5;21;01mnuscenes_dataset\u001b[39;00m \u001b[38;5;28;01mimport\u001b[39;00m NuScenesDataset\n",
            "File \u001b[0;32m/DATA/souraviai/OpenPCDet/pcdet/datasets/dataset.py:9\u001b[0m\n\u001b[1;32m      7\u001b[0m \u001b[38;5;28;01mfrom\u001b[39;00m \u001b[38;5;21;01m.\u001b[39;00m\u001b[38;5;21;01m.\u001b[39;00m\u001b[38;5;21;01mutils\u001b[39;00m \u001b[38;5;28;01mimport\u001b[39;00m common_utils\n\u001b[1;32m      8\u001b[0m \u001b[38;5;28;01mfrom\u001b[39;00m \u001b[38;5;21;01m.\u001b[39;00m\u001b[38;5;21;01maugmentor\u001b[39;00m\u001b[38;5;21;01m.\u001b[39;00m\u001b[38;5;21;01mdata_augmentor\u001b[39;00m \u001b[38;5;28;01mimport\u001b[39;00m DataAugmentor\n\u001b[0;32m----> 9\u001b[0m \u001b[38;5;28;01mfrom\u001b[39;00m \u001b[38;5;21;01m.\u001b[39;00m\u001b[38;5;21;01mprocessor\u001b[39;00m\u001b[38;5;21;01m.\u001b[39;00m\u001b[38;5;21;01mdata_processor\u001b[39;00m \u001b[38;5;28;01mimport\u001b[39;00m DataProcessor\n\u001b[1;32m     10\u001b[0m \u001b[38;5;28;01mfrom\u001b[39;00m \u001b[38;5;21;01m.\u001b[39;00m\u001b[38;5;21;01mprocessor\u001b[39;00m\u001b[38;5;21;01m.\u001b[39;00m\u001b[38;5;21;01mpoint_feature_encoder\u001b[39;00m \u001b[38;5;28;01mimport\u001b[39;00m PointFeatureEncoder\n\u001b[1;32m     13\u001b[0m \u001b[38;5;28;01mclass\u001b[39;00m \u001b[38;5;21;01mDatasetTemplate\u001b[39;00m(torch_data\u001b[38;5;241m.\u001b[39mDataset):\n",
            "File \u001b[0;32m/DATA/souraviai/OpenPCDet/pcdet/datasets/processor/data_processor.py:4\u001b[0m\n\u001b[1;32m      1\u001b[0m \u001b[38;5;28;01mfrom\u001b[39;00m \u001b[38;5;21;01mfunctools\u001b[39;00m \u001b[38;5;28;01mimport\u001b[39;00m partial\n\u001b[1;32m      3\u001b[0m \u001b[38;5;28;01mimport\u001b[39;00m \u001b[38;5;21;01mnumpy\u001b[39;00m \u001b[38;5;28;01mas\u001b[39;00m \u001b[38;5;21;01mnp\u001b[39;00m\n\u001b[0;32m----> 4\u001b[0m \u001b[38;5;28;01mfrom\u001b[39;00m \u001b[38;5;21;01mskimage\u001b[39;00m \u001b[38;5;28;01mimport\u001b[39;00m transform\n\u001b[1;32m      6\u001b[0m \u001b[38;5;28;01mfrom\u001b[39;00m \u001b[38;5;21;01m.\u001b[39;00m\u001b[38;5;21;01m.\u001b[39;00m\u001b[38;5;21;01m.\u001b[39;00m\u001b[38;5;21;01mutils\u001b[39;00m \u001b[38;5;28;01mimport\u001b[39;00m box_utils, common_utils\n\u001b[1;32m      8\u001b[0m tv \u001b[38;5;241m=\u001b[39m \u001b[38;5;28;01mNone\u001b[39;00m\n",
            "File \u001b[0;32m~/miniconda3/envs/OpenPCDet_102/lib/python3.9/site-packages/scikit_image-0.19.3-py3.9-linux-x86_64.egg/skimage/_shared/lazy.py:62\u001b[0m, in \u001b[0;36mattach.<locals>.__getattr__\u001b[0;34m(name)\u001b[0m\n\u001b[1;32m     60\u001b[0m \u001b[38;5;28;01mdef\u001b[39;00m \u001b[38;5;21m__getattr__\u001b[39m(name):\n\u001b[1;32m     61\u001b[0m     \u001b[38;5;28;01mif\u001b[39;00m name \u001b[38;5;129;01min\u001b[39;00m submodules:\n\u001b[0;32m---> 62\u001b[0m         \u001b[38;5;28;01mreturn\u001b[39;00m \u001b[43mimportlib\u001b[49m\u001b[38;5;241;43m.\u001b[39;49m\u001b[43mimport_module\u001b[49m\u001b[43m(\u001b[49m\u001b[38;5;124;43mf\u001b[39;49m\u001b[38;5;124;43m'\u001b[39;49m\u001b[38;5;132;43;01m{\u001b[39;49;00m\u001b[43mpackage_name\u001b[49m\u001b[38;5;132;43;01m}\u001b[39;49;00m\u001b[38;5;124;43m.\u001b[39;49m\u001b[38;5;132;43;01m{\u001b[39;49;00m\u001b[43mname\u001b[49m\u001b[38;5;132;43;01m}\u001b[39;49;00m\u001b[38;5;124;43m'\u001b[39;49m\u001b[43m)\u001b[49m\n\u001b[1;32m     63\u001b[0m     \u001b[38;5;28;01melif\u001b[39;00m name \u001b[38;5;129;01min\u001b[39;00m attr_to_modules:\n\u001b[1;32m     64\u001b[0m         submod \u001b[38;5;241m=\u001b[39m importlib\u001b[38;5;241m.\u001b[39mimport_module(\n\u001b[1;32m     65\u001b[0m             \u001b[38;5;124mf\u001b[39m\u001b[38;5;124m'\u001b[39m\u001b[38;5;132;01m{\u001b[39;00mpackage_name\u001b[38;5;132;01m}\u001b[39;00m\u001b[38;5;124m.\u001b[39m\u001b[38;5;132;01m{\u001b[39;00mattr_to_modules[name]\u001b[38;5;132;01m}\u001b[39;00m\u001b[38;5;124m'\u001b[39m\n\u001b[1;32m     66\u001b[0m         )\n",
            "File \u001b[0;32m~/miniconda3/envs/OpenPCDet_102/lib/python3.9/importlib/__init__.py:127\u001b[0m, in \u001b[0;36mimport_module\u001b[0;34m(name, package)\u001b[0m\n\u001b[1;32m    125\u001b[0m             \u001b[38;5;28;01mbreak\u001b[39;00m\n\u001b[1;32m    126\u001b[0m         level \u001b[38;5;241m+\u001b[39m\u001b[38;5;241m=\u001b[39m \u001b[38;5;241m1\u001b[39m\n\u001b[0;32m--> 127\u001b[0m \u001b[38;5;28;01mreturn\u001b[39;00m \u001b[43m_bootstrap\u001b[49m\u001b[38;5;241;43m.\u001b[39;49m\u001b[43m_gcd_import\u001b[49m\u001b[43m(\u001b[49m\u001b[43mname\u001b[49m\u001b[43m[\u001b[49m\u001b[43mlevel\u001b[49m\u001b[43m:\u001b[49m\u001b[43m]\u001b[49m\u001b[43m,\u001b[49m\u001b[43m \u001b[49m\u001b[43mpackage\u001b[49m\u001b[43m,\u001b[49m\u001b[43m \u001b[49m\u001b[43mlevel\u001b[49m\u001b[43m)\u001b[49m\n",
            "File \u001b[0;32m~/miniconda3/envs/OpenPCDet_102/lib/python3.9/site-packages/scikit_image-0.19.3-py3.9-linux-x86_64.egg/skimage/transform/__init__.py:4\u001b[0m\n\u001b[1;32m      1\u001b[0m \u001b[38;5;28;01mfrom\u001b[39;00m \u001b[38;5;21;01m.\u001b[39;00m\u001b[38;5;21;01mhough_transform\u001b[39;00m \u001b[38;5;28;01mimport\u001b[39;00m (hough_line, hough_line_peaks,\n\u001b[1;32m      2\u001b[0m                               probabilistic_hough_line, hough_circle,\n\u001b[1;32m      3\u001b[0m                               hough_circle_peaks, hough_ellipse)\n\u001b[0;32m----> 4\u001b[0m \u001b[38;5;28;01mfrom\u001b[39;00m \u001b[38;5;21;01m.\u001b[39;00m\u001b[38;5;21;01mradon_transform\u001b[39;00m \u001b[38;5;28;01mimport\u001b[39;00m (radon, iradon, iradon_sart,\n\u001b[1;32m      5\u001b[0m                               order_angles_golden_ratio)\n\u001b[1;32m      6\u001b[0m \u001b[38;5;28;01mfrom\u001b[39;00m \u001b[38;5;21;01m.\u001b[39;00m\u001b[38;5;21;01mfinite_radon_transform\u001b[39;00m \u001b[38;5;28;01mimport\u001b[39;00m frt2, ifrt2\n\u001b[1;32m      7\u001b[0m \u001b[38;5;28;01mfrom\u001b[39;00m \u001b[38;5;21;01m.\u001b[39;00m\u001b[38;5;21;01mintegral\u001b[39;00m \u001b[38;5;28;01mimport\u001b[39;00m integral_image, integrate\n",
            "File \u001b[0;32m~/miniconda3/envs/OpenPCDet_102/lib/python3.9/site-packages/scikit_image-0.19.3-py3.9-linux-x86_64.egg/skimage/transform/radon_transform.py:5\u001b[0m\n\u001b[1;32m      3\u001b[0m \u001b[38;5;28;01mfrom\u001b[39;00m \u001b[38;5;21;01mscipy\u001b[39;00m\u001b[38;5;21;01m.\u001b[39;00m\u001b[38;5;21;01minterpolate\u001b[39;00m \u001b[38;5;28;01mimport\u001b[39;00m interp1d\n\u001b[1;32m      4\u001b[0m \u001b[38;5;28;01mfrom\u001b[39;00m \u001b[38;5;21;01mscipy\u001b[39;00m\u001b[38;5;21;01m.\u001b[39;00m\u001b[38;5;21;01mconstants\u001b[39;00m \u001b[38;5;28;01mimport\u001b[39;00m golden_ratio\n\u001b[0;32m----> 5\u001b[0m \u001b[38;5;28;01mfrom\u001b[39;00m \u001b[38;5;21;01mscipy\u001b[39;00m\u001b[38;5;21;01m.\u001b[39;00m\u001b[38;5;21;01mfft\u001b[39;00m \u001b[38;5;28;01mimport\u001b[39;00m fft, ifft, fftfreq, fftshift\n\u001b[1;32m      6\u001b[0m \u001b[38;5;28;01mfrom\u001b[39;00m \u001b[38;5;21;01m.\u001b[39;00m\u001b[38;5;21;01m_warps\u001b[39;00m \u001b[38;5;28;01mimport\u001b[39;00m warp\n\u001b[1;32m      7\u001b[0m \u001b[38;5;28;01mfrom\u001b[39;00m \u001b[38;5;21;01m.\u001b[39;00m\u001b[38;5;21;01m_radon_transform\u001b[39;00m \u001b[38;5;28;01mimport\u001b[39;00m sart_projection_update\n",
            "File \u001b[0;32m~/miniconda3/envs/OpenPCDet_102/lib/python3.9/site-packages/scipy/fft/__init__.py:91\u001b[0m\n\u001b[1;32m     89\u001b[0m \u001b[38;5;28;01mfrom\u001b[39;00m \u001b[38;5;21;01m.\u001b[39;00m\u001b[38;5;21;01m_realtransforms\u001b[39;00m \u001b[38;5;28;01mimport\u001b[39;00m dct, idct, dst, idst, dctn, idctn, dstn, idstn\n\u001b[1;32m     90\u001b[0m \u001b[38;5;28;01mfrom\u001b[39;00m \u001b[38;5;21;01m.\u001b[39;00m\u001b[38;5;21;01m_fftlog\u001b[39;00m \u001b[38;5;28;01mimport\u001b[39;00m fht, ifht, fhtoffset\n\u001b[0;32m---> 91\u001b[0m \u001b[38;5;28;01mfrom\u001b[39;00m \u001b[38;5;21;01m.\u001b[39;00m\u001b[38;5;21;01m_helper\u001b[39;00m \u001b[38;5;28;01mimport\u001b[39;00m next_fast_len\n\u001b[1;32m     92\u001b[0m \u001b[38;5;28;01mfrom\u001b[39;00m \u001b[38;5;21;01m.\u001b[39;00m\u001b[38;5;21;01m_backend\u001b[39;00m \u001b[38;5;28;01mimport\u001b[39;00m (set_backend, skip_backend, set_global_backend,\n\u001b[1;32m     93\u001b[0m                        register_backend)\n\u001b[1;32m     94\u001b[0m \u001b[38;5;28;01mfrom\u001b[39;00m \u001b[38;5;21;01mnumpy\u001b[39;00m\u001b[38;5;21;01m.\u001b[39;00m\u001b[38;5;21;01mfft\u001b[39;00m \u001b[38;5;28;01mimport\u001b[39;00m fftfreq, rfftfreq, fftshift, ifftshift\n",
            "File \u001b[0;32m~/miniconda3/envs/OpenPCDet_102/lib/python3.9/site-packages/scipy/fft/_helper.py:3\u001b[0m\n\u001b[1;32m      1\u001b[0m \u001b[38;5;28;01mfrom\u001b[39;00m \u001b[38;5;21;01mfunctools\u001b[39;00m \u001b[38;5;28;01mimport\u001b[39;00m update_wrapper, lru_cache\n\u001b[0;32m----> 3\u001b[0m \u001b[38;5;28;01mfrom\u001b[39;00m \u001b[38;5;21;01m.\u001b[39;00m\u001b[38;5;21;01m_pocketfft\u001b[39;00m \u001b[38;5;28;01mimport\u001b[39;00m helper \u001b[38;5;28;01mas\u001b[39;00m _helper\n\u001b[1;32m      6\u001b[0m \u001b[38;5;28;01mdef\u001b[39;00m \u001b[38;5;21mnext_fast_len\u001b[39m(target, real\u001b[38;5;241m=\u001b[39m\u001b[38;5;28;01mFalse\u001b[39;00m):\n\u001b[1;32m      7\u001b[0m     \u001b[38;5;124;03m\"\"\"Find the next fast size of input data to ``fft``, for zero-padding, etc.\u001b[39;00m\n\u001b[1;32m      8\u001b[0m \n\u001b[1;32m      9\u001b[0m \u001b[38;5;124;03m    SciPy's FFT algorithms gain their speed by a recursive divide and conquer\u001b[39;00m\n\u001b[0;32m   (...)\u001b[0m\n\u001b[1;32m     59\u001b[0m \n\u001b[1;32m     60\u001b[0m \u001b[38;5;124;03m    \"\"\"\u001b[39;00m\n",
            "File \u001b[0;32m~/miniconda3/envs/OpenPCDet_102/lib/python3.9/site-packages/scipy/fft/_pocketfft/__init__.py:3\u001b[0m\n\u001b[1;32m      1\u001b[0m \u001b[38;5;124;03m\"\"\" FFT backend using pypocketfft \"\"\"\u001b[39;00m\n\u001b[0;32m----> 3\u001b[0m \u001b[38;5;28;01mfrom\u001b[39;00m \u001b[38;5;21;01m.\u001b[39;00m\u001b[38;5;21;01mbasic\u001b[39;00m \u001b[38;5;28;01mimport\u001b[39;00m \u001b[38;5;241m*\u001b[39m\n\u001b[1;32m      4\u001b[0m \u001b[38;5;28;01mfrom\u001b[39;00m \u001b[38;5;21;01m.\u001b[39;00m\u001b[38;5;21;01mrealtransforms\u001b[39;00m \u001b[38;5;28;01mimport\u001b[39;00m \u001b[38;5;241m*\u001b[39m\n\u001b[1;32m      5\u001b[0m \u001b[38;5;28;01mfrom\u001b[39;00m \u001b[38;5;21;01m.\u001b[39;00m\u001b[38;5;21;01mhelper\u001b[39;00m \u001b[38;5;28;01mimport\u001b[39;00m \u001b[38;5;241m*\u001b[39m\n",
            "File \u001b[0;32m~/miniconda3/envs/OpenPCDet_102/lib/python3.9/site-packages/scipy/fft/_pocketfft/basic.py:6\u001b[0m\n\u001b[1;32m      4\u001b[0m \u001b[38;5;28;01mimport\u001b[39;00m \u001b[38;5;21;01mnumpy\u001b[39;00m \u001b[38;5;28;01mas\u001b[39;00m \u001b[38;5;21;01mnp\u001b[39;00m\n\u001b[1;32m      5\u001b[0m \u001b[38;5;28;01mimport\u001b[39;00m \u001b[38;5;21;01mfunctools\u001b[39;00m\n\u001b[0;32m----> 6\u001b[0m \u001b[38;5;28;01mfrom\u001b[39;00m \u001b[38;5;21;01m.\u001b[39;00m \u001b[38;5;28;01mimport\u001b[39;00m pypocketfft \u001b[38;5;28;01mas\u001b[39;00m pfft\n\u001b[1;32m      7\u001b[0m \u001b[38;5;28;01mfrom\u001b[39;00m \u001b[38;5;21;01m.\u001b[39;00m\u001b[38;5;21;01mhelper\u001b[39;00m \u001b[38;5;28;01mimport\u001b[39;00m (_asfarray, _init_nd_shape_and_axes, _datacopied,\n\u001b[1;32m      8\u001b[0m                      _fix_shape, _fix_shape_1d, _normalization,\n\u001b[1;32m      9\u001b[0m                      _workers)\n\u001b[1;32m     11\u001b[0m \u001b[38;5;28;01mdef\u001b[39;00m \u001b[38;5;21mc2c\u001b[39m(forward, x, n\u001b[38;5;241m=\u001b[39m\u001b[38;5;28;01mNone\u001b[39;00m, axis\u001b[38;5;241m=\u001b[39m\u001b[38;5;241m-\u001b[39m\u001b[38;5;241m1\u001b[39m, norm\u001b[38;5;241m=\u001b[39m\u001b[38;5;28;01mNone\u001b[39;00m, overwrite_x\u001b[38;5;241m=\u001b[39m\u001b[38;5;28;01mFalse\u001b[39;00m,\n\u001b[1;32m     12\u001b[0m         workers\u001b[38;5;241m=\u001b[39m\u001b[38;5;28;01mNone\u001b[39;00m, \u001b[38;5;241m*\u001b[39m, plan\u001b[38;5;241m=\u001b[39m\u001b[38;5;28;01mNone\u001b[39;00m):\n",
            "\u001b[0;31mImportError\u001b[0m: /home/souraviai/miniconda3/envs/OpenPCDet_102/lib/python3.9/site-packages/zmq/backend/cython/../../../../.././libstdc++.so.6: version `GLIBCXX_3.4.30' not found (required by /home/souraviai/miniconda3/envs/OpenPCDet_102/lib/python3.9/site-packages/scipy/fft/_pocketfft/pypocketfft.cpython-39-x86_64-linux-gnu.so)"
          ]
        }
      ]
    },
    {
      "cell_type": "code",
      "source": [
        "%pip install mayavi"
      ],
      "metadata": {
        "id": "mhGCaqOYwuPL"
      },
      "execution_count": null,
      "outputs": []
    },
    {
      "cell_type": "code",
      "source": [
        "%cd OpenPCDet/tools/"
      ],
      "metadata": {
        "id": "YsJeFvb3w7at"
      },
      "execution_count": null,
      "outputs": []
    },
    {
      "cell_type": "code",
      "source": [
        "%run -i demo.py --cfg_file cfgs/kitti_models/pv_rcnn.yaml --ckpt /DATA/souraviai/my_Kitti/pv_rcnn_8369.pth --data_path ../data/kitti/training/velodyne/000000.bin"
      ],
      "metadata": {
        "id": "xfB5lbt9xBrU"
      },
      "execution_count": null,
      "outputs": []
    },
    {
      "cell_type": "markdown",
      "source": [
        "### Download/Extract resources"
      ],
      "metadata": {
        "id": "-nyo3vM0mx85"
      }
    },
    {
      "cell_type": "code",
      "source": [
        "from torchvision.datasets import Kitti\n",
        "import os"
      ],
      "metadata": {
        "id": "q_mkHKOgyKm7"
      },
      "execution_count": null,
      "outputs": []
    },
    {
      "cell_type": "code",
      "source": [
        "class my_Kitti(Kitti):\n",
        "\n",
        "    resources = Kitti.resources + ['data_object_velodyne.zip', 'data_object_calib.zip']\n",
        "    laser_dir_name = 'velodyne'\n",
        "    calib_dir_name = 'calib'\n",
        "    \n",
        "    def _check_exists(self) -> bool:\n",
        "        if super()._check_exists():\n",
        "            folders = [self.laser_dir_name, self.calib_dir_name]\n",
        "            return all(os.path.isdir(os.path.join(self._raw_folder, self._location, fname)) for fname in folders)\n",
        "\n",
        "        else:\n",
        "            return False"
      ],
      "metadata": {
        "id": "ySKO4Ct6zQfi"
      },
      "execution_count": null,
      "outputs": []
    },
    {
      "cell_type": "code",
      "source": [
        "%ls data/kitti/*ing"
      ],
      "metadata": {
        "id": "bxmpHhjNykWU",
        "outputId": "e7e552a3-49f7-4c0d-fd58-36de8cd4e978",
        "colab": {
          "base_uri": "https://localhost:8080/",
          "height": 106
        }
      },
      "execution_count": null,
      "outputs": [
        {
          "output_type": "display_data",
          "data": {
            "text/plain": [
              "<IPython.core.display.HTML object>"
            ],
            "text/html": [
              "<style>pre{white-space: pre-wrap;}</style>"
            ]
          },
          "metadata": {}
        },
        {
          "output_type": "stream",
          "name": "stdout",
          "text": [
            "data/kitti/testing:\r\n",
            "\u001b[0m\u001b[01;34mcalib\u001b[0m/  \u001b[01;34mimage_2\u001b[0m/  \u001b[01;34mvelodyne\u001b[0m/\r\n",
            "\r\n",
            "data/kitti/training:\r\n",
            "\u001b[01;34mcalib\u001b[0m/  \u001b[01;34mimage_2\u001b[0m/  \u001b[01;34mlabel_2\u001b[0m/  \u001b[01;34mvelodyne\u001b[0m/\r\n"
          ]
        }
      ]
    },
    {
      "cell_type": "code",
      "source": [
        "#@title\n",
        "%ls ../*"
      ],
      "metadata": {
        "id": "ftRL8hWHsuvv",
        "outputId": "b81fa2da-8678-42a5-c609-45eae7558096",
        "colab": {
          "base_uri": "https://localhost:8080/",
          "height": 123
        },
        "cellView": "form"
      },
      "execution_count": null,
      "outputs": [
        {
          "output_type": "display_data",
          "data": {
            "text/plain": [
              "<IPython.core.display.HTML object>"
            ],
            "text/html": [
              "<style>pre{white-space: pre-wrap;}</style>"
            ]
          },
          "metadata": {}
        },
        {
          "output_type": "stream",
          "name": "stdout",
          "text": [
            "../my_Kitti:\r\n",
            "\u001b[0m\u001b[01;32mpv_rcnn_8369.pth\u001b[0m*  \u001b[30;42mraw\u001b[0m/\r\n",
            "\r\n",
            "../OpenPCDet:\r\n",
            "\u001b[01;34mbuild\u001b[0m/       \u001b[01;34mdata\u001b[0m/    \u001b[01;34mdocs\u001b[0m/    \u001b[01;34mpcdet\u001b[0m/           README.md         setup.py\r\n",
            "colab.ipynb  \u001b[01;34mdocker\u001b[0m/  LICENSE  \u001b[01;34mpcdet.egg-info\u001b[0m/  requirements.txt  \u001b[01;34mtools\u001b[0m/\r\n"
          ]
        }
      ]
    },
    {
      "cell_type": "code",
      "source": [
        "%ls ../my_Kitti/"
      ],
      "metadata": {
        "id": "BxfXTJMkzoOe",
        "outputId": "19f422d8-1266-4661-dabb-143e5f2db524",
        "colab": {
          "base_uri": "https://localhost:8080/",
          "height": 35
        }
      },
      "execution_count": null,
      "outputs": [
        {
          "output_type": "display_data",
          "data": {
            "text/plain": [
              "<IPython.core.display.HTML object>"
            ],
            "text/html": [
              "<style>pre{white-space: pre-wrap;}</style>"
            ]
          },
          "metadata": {}
        },
        {
          "output_type": "stream",
          "name": "stdout",
          "text": [
            "\u001b[0m\u001b[01;32mpv_rcnn_8369.pth\u001b[0m*  \u001b[30;42mraw\u001b[0m/\r\n"
          ]
        }
      ]
    },
    {
      "cell_type": "code",
      "source": [
        "_ = my_Kitti('./data/kitti', False, download=True)"
      ],
      "metadata": {
        "id": "evD481hu8PCQ"
      },
      "execution_count": null,
      "outputs": []
    },
    {
      "cell_type": "code",
      "source": [
        "rm -rf ../drive/MyDrive/ml/my_Kitti"
      ],
      "metadata": {
        "id": "rSaL25FASxGy"
      },
      "execution_count": null,
      "outputs": []
    }
  ]
}