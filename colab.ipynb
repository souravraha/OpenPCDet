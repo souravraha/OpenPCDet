{
  "nbformat": 4,
  "nbformat_minor": 0,
  "metadata": {
    "colab": {
      "name": "Git_repos.ipynb",
      "provenance": [],
      "include_colab_link": true
    },
    "kernelspec": {
      "display_name": "Python 3",
      "name": "python3"
    },
    "language_info": {
      "name": "python"
    },
    "gpuClass": "standard",
    "accelerator": "GPU"
  },
  "cells": [
    {
      "cell_type": "markdown",
      "metadata": {
        "id": "view-in-github",
        "colab_type": "text"
      },
      "source": [
        "<a href=\"https://colab.research.google.com/github/souravraha/OpenPCDet/blob/dry_run/colab.ipynb\" target=\"_parent\"><img src=\"https://colab.research.google.com/assets/colab-badge.svg\" alt=\"Open In Colab\"/></a>"
      ]
    },
    {
      "cell_type": "markdown",
      "source": [
        "### Display outputs"
      ],
      "metadata": {
        "id": "KfRekpVupdUr"
      }
    },
    {
      "cell_type": "code",
      "source": [
        "from IPython.display import HTML, display\n",
        "\n",
        "def set_css():\n",
        "    display(HTML('''<style>pre{white-space: pre-wrap;}</style>'''))\n",
        "    \n",
        "get_ipython().events.register('pre_run_cell', set_css)"
      ],
      "metadata": {
        "id": "3HUyWTgeMnw1"
      },
      "execution_count": 1,
      "outputs": []
    },
    {
      "cell_type": "markdown",
      "source": [
        "### Install packages"
      ],
      "metadata": {
        "id": "u8JcEg5Am56r"
      }
    },
    {
      "cell_type": "code",
      "source": [
        "!lspci | grep -i nvidia"
      ],
      "metadata": {
        "id": "KZz2cRfP6Dw7",
        "outputId": "a438d148-c03b-4518-a1dc-af64210451f2",
        "colab": {
          "base_uri": "https://localhost:8080/",
          "height": 88
        }
      },
      "execution_count": 2,
      "outputs": [
        {
          "output_type": "display_data",
          "data": {
            "text/plain": [
              "<IPython.core.display.HTML object>"
            ],
            "text/html": [
              "<style>pre{white-space: pre-wrap;}</style>"
            ]
          },
          "metadata": {}
        },
        {
          "output_type": "stream",
          "name": "stdout",
          "text": [
            "31:00.0 VGA compatible controller: NVIDIA Corporation Device 2231 (rev a1)\r\n",
            "31:00.1 Audio device: NVIDIA Corporation Device 1aef (rev a1)\r\n",
            "ca:00.0 VGA compatible controller: NVIDIA Corporation Device 2231 (rev a1)\r\n",
            "ca:00.1 Audio device: NVIDIA Corporation Device 1aef (rev a1)\r\n"
          ]
        }
      ]
    },
    {
      "cell_type": "code",
      "source": [
        "!uname -m && cat /etc/*release"
      ],
      "metadata": {
        "id": "njBLQDhW6JY4",
        "outputId": "36b4d38c-fa5d-4a5f-e90e-607897ae94ee",
        "colab": {
          "base_uri": "https://localhost:8080/",
          "height": 318
        }
      },
      "execution_count": 3,
      "outputs": [
        {
          "output_type": "display_data",
          "data": {
            "text/plain": [
              "<IPython.core.display.HTML object>"
            ],
            "text/html": [
              "<style>pre{white-space: pre-wrap;}</style>"
            ]
          },
          "metadata": {}
        },
        {
          "output_type": "stream",
          "name": "stdout",
          "text": [
            "x86_64\r\n",
            "DISTRIB_ID=Ubuntu\r\n",
            "DISTRIB_RELEASE=20.04\r\n",
            "DISTRIB_CODENAME=focal\r\n",
            "DISTRIB_DESCRIPTION=\"Ubuntu 20.04.1 LTS\"\r\n",
            "NAME=\"Ubuntu\"\r\n",
            "VERSION=\"20.04.1 LTS (Focal Fossa)\"\r\n",
            "ID=ubuntu\r\n",
            "ID_LIKE=debian\r\n",
            "PRETTY_NAME=\"Ubuntu 20.04.1 LTS\"\r\n",
            "VERSION_ID=\"20.04\"\r\n",
            "HOME_URL=\"https://www.ubuntu.com/\"\r\n",
            "SUPPORT_URL=\"https://help.ubuntu.com/\"\r\n",
            "BUG_REPORT_URL=\"https://bugs.launchpad.net/ubuntu/\"\r\n",
            "PRIVACY_POLICY_URL=\"https://www.ubuntu.com/legal/terms-and-policies/privacy-policy\"\r\n",
            "VERSION_CODENAME=focal\r\n",
            "UBUNTU_CODENAME=focal\r\n"
          ]
        }
      ]
    },
    {
      "cell_type": "code",
      "source": [
        "!uname -r"
      ],
      "metadata": {
        "id": "W6JRywoc6Sag",
        "outputId": "bcd04697-a5d8-4772-92f6-06357d1d60a8",
        "colab": {
          "base_uri": "https://localhost:8080/",
          "height": 35
        }
      },
      "execution_count": 4,
      "outputs": [
        {
          "output_type": "display_data",
          "data": {
            "text/plain": [
              "<IPython.core.display.HTML object>"
            ],
            "text/html": [
              "<style>pre{white-space: pre-wrap;}</style>"
            ]
          },
          "metadata": {}
        },
        {
          "output_type": "stream",
          "name": "stdout",
          "text": [
            "5.13.0-30-generic\r\n"
          ]
        }
      ]
    },
    {
      "cell_type": "code",
      "source": [
        "!nvidia-smi"
      ],
      "metadata": {
        "id": "KpkZhBd95t6C",
        "outputId": "b35c4fad-b183-43f5-93e9-6dae862072ca",
        "colab": {
          "base_uri": "https://localhost:8080/",
          "height": 637
        }
      },
      "execution_count": 5,
      "outputs": [
        {
          "output_type": "display_data",
          "data": {
            "text/plain": [
              "<IPython.core.display.HTML object>"
            ],
            "text/html": [
              "<style>pre{white-space: pre-wrap;}</style>"
            ]
          },
          "metadata": {}
        },
        {
          "output_type": "stream",
          "name": "stdout",
          "text": [
            "Tue Sep 27 15:14:00 2022       \r\n",
            "+-----------------------------------------------------------------------------+\r\n",
            "| NVIDIA-SMI 470.103.01   Driver Version: 470.103.01   CUDA Version: 11.4     |\r\n",
            "|-------------------------------+----------------------+----------------------+\r\n",
            "| GPU  Name        Persistence-M| Bus-Id        Disp.A | Volatile Uncorr. ECC |\r\n",
            "| Fan  Temp  Perf  Pwr:Usage/Cap|         Memory-Usage | GPU-Util  Compute M. |\r\n",
            "|                               |                      |               MIG M. |\r\n",
            "|===============================+======================+======================|\n",
            "|   0  NVIDIA RTX A5000    Off  | 00000000:31:00.0 Off |                  Off |\n",
            "| 49%   73C    P2   201W / 230W |  17245MiB / 24256MiB |     98%      Default |\n",
            "|                               |                      |                  N/A |\n",
            "+-------------------------------+----------------------+----------------------+\n",
            "|   1  NVIDIA RTX A5000    Off  | 00000000:CA:00.0 Off |                  Off |\n",
            "| 47%   75C    P2   212W / 230W |  19067MiB / 24256MiB |     99%      Default |\n",
            "|                               |                      |                  N/A |\n",
            "+-------------------------------+----------------------+----------------------+\n",
            "                                                                               \n",
            "+-----------------------------------------------------------------------------+\n",
            "| Processes:                                                                  |\n",
            "|  GPU   GI   CI        PID   Type   Process name                  GPU Memory |\n",
            "|        ID   ID                                                   Usage      |\n",
            "|=============================================================================|\n",
            "|    0   N/A  N/A      1407      G   /usr/lib/xorg/Xorg                  4MiB |\n",
            "|    0   N/A  N/A      5443      G   /usr/lib/xorg/Xorg                  4MiB |\n",
            "|    0   N/A  N/A   1125642      G   /usr/lib/xorg/Xorg                  4MiB |\n",
            "|    0   N/A  N/A   1131928      C   python                            199MiB |\n",
            "|    0   N/A  N/A   1132663      C   python                            199MiB |\n",
            "|    0   N/A  N/A   1134161      C   python                           8613MiB |\n",
            "|    0   N/A  N/A   1205607      C   python                           8157MiB |\n",
            "|    1   N/A  N/A      1407      G   /usr/lib/xorg/Xorg                  4MiB |\n",
            "|    1   N/A  N/A      5443      G   /usr/lib/xorg/Xorg                  4MiB |\n",
            "|    1   N/A  N/A   1125642      G   /usr/lib/xorg/Xorg                  4MiB |\n",
            "|    1   N/A  N/A   1131928      C   python                           8613MiB |\n",
            "|    1   N/A  N/A   1132663      C   python                          10437MiB |\n",
            "+-----------------------------------------------------------------------------+\n"
          ]
        }
      ]
    },
    {
      "cell_type": "code",
      "source": [
        "!nvcc --version"
      ],
      "metadata": {
        "id": "7peNMIJFegts",
        "outputId": "6902509d-b7a2-40b7-8683-562deb51b8dc",
        "colab": {
          "base_uri": "https://localhost:8080/",
          "height": 88
        }
      },
      "execution_count": 6,
      "outputs": [
        {
          "output_type": "display_data",
          "data": {
            "text/plain": [
              "<IPython.core.display.HTML object>"
            ],
            "text/html": [
              "<style>pre{white-space: pre-wrap;}</style>"
            ]
          },
          "metadata": {}
        },
        {
          "output_type": "stream",
          "name": "stdout",
          "text": [
            "nvcc: NVIDIA (R) Cuda compiler driver\r\n",
            "Copyright (c) 2005-2019 NVIDIA Corporation\r\n",
            "Built on Sun_Jul_28_19:07:16_PDT_2019\r\n",
            "Cuda compilation tools, release 10.1, V10.1.243\r\n"
          ]
        }
      ]
    },
    {
      "cell_type": "code",
      "source": [
        "!g++ --version"
      ],
      "metadata": {
        "id": "-mvzFEfy6i5N",
        "outputId": "210c5681-611c-423b-c92a-c59492f93f99",
        "colab": {
          "base_uri": "https://localhost:8080/",
          "height": 106
        }
      },
      "execution_count": 7,
      "outputs": [
        {
          "output_type": "display_data",
          "data": {
            "text/plain": [
              "<IPython.core.display.HTML object>"
            ],
            "text/html": [
              "<style>pre{white-space: pre-wrap;}</style>"
            ]
          },
          "metadata": {}
        },
        {
          "output_type": "stream",
          "name": "stdout",
          "text": [
            "g++ (Ubuntu 9.4.0-1ubuntu1~20.04.1) 9.4.0\r\n",
            "Copyright (C) 2019 Free Software Foundation, Inc.\r\n",
            "This is free software; see the source for copying conditions.  There is NO\r\n",
            "warranty; not even for MERCHANTABILITY or FITNESS FOR A PARTICULAR PURPOSE.\r\n",
            "\r\n"
          ]
        }
      ]
    },
    {
      "cell_type": "code",
      "source": [
        "!gcc --version"
      ],
      "metadata": {
        "id": "561h43S86nWV",
        "outputId": "f2550edf-8988-4fc1-ab09-3d08017d14ad",
        "colab": {
          "base_uri": "https://localhost:8080/",
          "height": 106
        }
      },
      "execution_count": 8,
      "outputs": [
        {
          "output_type": "display_data",
          "data": {
            "text/plain": [
              "<IPython.core.display.HTML object>"
            ],
            "text/html": [
              "<style>pre{white-space: pre-wrap;}</style>"
            ]
          },
          "metadata": {}
        },
        {
          "output_type": "stream",
          "name": "stdout",
          "text": [
            "gcc (Ubuntu 9.4.0-1ubuntu1~20.04.1) 9.4.0\r\n",
            "Copyright (C) 2019 Free Software Foundation, Inc.\r\n",
            "This is free software; see the source for copying conditions.  There is NO\r\n",
            "warranty; not even for MERCHANTABILITY or FITNESS FOR A PARTICULAR PURPOSE.\r\n",
            "\r\n"
          ]
        }
      ]
    },
    {
      "cell_type": "code",
      "source": [
        "!cmake --version"
      ],
      "metadata": {
        "id": "2Welt1Ss6yuy",
        "outputId": "e0625c46-5ca7-42a6-c5b8-a50f1ec2d901",
        "colab": {
          "base_uri": "https://localhost:8080/",
          "height": 70
        }
      },
      "execution_count": 9,
      "outputs": [
        {
          "output_type": "display_data",
          "data": {
            "text/plain": [
              "<IPython.core.display.HTML object>"
            ],
            "text/html": [
              "<style>pre{white-space: pre-wrap;}</style>"
            ]
          },
          "metadata": {}
        },
        {
          "output_type": "stream",
          "name": "stdout",
          "text": [
            "cmake version 3.22.1\r\n",
            "\r\n",
            "CMake suite maintained and supported by Kitware (kitware.com/cmake).\r\n"
          ]
        }
      ]
    },
    {
      "cell_type": "code",
      "source": [
        "!nvidia-smi topo --matrix"
      ],
      "metadata": {
        "id": "ElHi0H79VUu1",
        "outputId": "28f53afa-b39e-4e1e-c050-8d1969f93216",
        "colab": {
          "base_uri": "https://localhost:8080/",
          "height": 247
        }
      },
      "execution_count": 10,
      "outputs": [
        {
          "output_type": "display_data",
          "data": {
            "text/plain": [
              "<IPython.core.display.HTML object>"
            ],
            "text/html": [
              "<style>pre{white-space: pre-wrap;}</style>"
            ]
          },
          "metadata": {}
        },
        {
          "output_type": "stream",
          "name": "stdout",
          "text": [
            "\t\u001b[4mGPU0\tGPU1\tCPU Affinity\tNUMA Affinity\u001b[0m\n",
            "GPU0\t X \tSYS\t0-11,24-35\t0\n",
            "GPU1\tSYS\t X \t12-23,36-47\t1\n",
            "\n",
            "Legend:\n",
            "\n",
            "  X    = Self\n",
            "  SYS  = Connection traversing PCIe as well as the SMP interconnect between NUMA nodes (e.g., QPI/UPI)\n",
            "  NODE = Connection traversing PCIe as well as the interconnect between PCIe Host Bridges within a NUMA node\n",
            "  PHB  = Connection traversing PCIe as well as a PCIe Host Bridge (typically the CPU)\n",
            "  PXB  = Connection traversing multiple PCIe bridges (without traversing the PCIe Host Bridge)\n",
            "  PIX  = Connection traversing at most a single PCIe bridge\n",
            "  NV#  = Connection traversing a bonded set of # NVLinks\n"
          ]
        }
      ]
    },
    {
      "cell_type": "code",
      "source": [
        "# This is CUDA_HOME\n",
        "%ls /usr/"
      ],
      "metadata": {
        "id": "L3R8nCLCqPm0",
        "outputId": "191f3263-7e5d-4653-e8ae-10495a13468f",
        "colab": {
          "base_uri": "https://localhost:8080/",
          "height": 52
        }
      },
      "execution_count": null,
      "outputs": [
        {
          "output_type": "display_data",
          "data": {
            "text/plain": [
              "<IPython.core.display.HTML object>"
            ],
            "text/html": [
              "<style>pre{white-space: pre-wrap;}</style>"
            ]
          },
          "metadata": {}
        },
        {
          "output_type": "stream",
          "name": "stdout",
          "text": [
            "\u001b[0m\u001b[01;34mbin\u001b[0m/    \u001b[01;34minclude\u001b[0m/  \u001b[01;34mlib32\u001b[0m/  \u001b[01;34mlibexec\u001b[0m/  \u001b[01;34mlocal\u001b[0m/  \u001b[01;34mshare\u001b[0m/\r\n",
            "\u001b[01;34mgames\u001b[0m/  \u001b[01;34mlib\u001b[0m/      \u001b[01;34mlib64\u001b[0m/  \u001b[01;34mlibx32\u001b[0m/   \u001b[01;34msbin\u001b[0m/   \u001b[01;34msrc\u001b[0m/\r\n"
          ]
        }
      ]
    },
    {
      "cell_type": "code",
      "source": [
        "import torch\n",
        "print(torch.cuda.is_available())\n",
        "print(torch.cuda.get_arch_list())"
      ],
      "metadata": {
        "id": "h9Pe1rPb7gqZ",
        "outputId": "9cff67d8-898f-4a42-b5cd-aed955cf6efd",
        "colab": {
          "base_uri": "https://localhost:8080/",
          "height": 123
        }
      },
      "execution_count": null,
      "outputs": [
        {
          "output_type": "display_data",
          "data": {
            "text/plain": [
              "<IPython.core.display.HTML object>"
            ],
            "text/html": [
              "<style>pre{white-space: pre-wrap;}</style>"
            ]
          },
          "metadata": {}
        },
        {
          "output_type": "stream",
          "name": "stderr",
          "text": [
            "/home/souraviai/miniconda3/envs/OpenPCDet_102/lib/python3.10/site-packages/tqdm-4.64.1-py3.10.egg/tqdm/auto.py:22: TqdmWarning: IProgress not found. Please update jupyter and ipywidgets. See https://ipywidgets.readthedocs.io/en/stable/user_install.html\n",
            "  from .autonotebook import tqdm as notebook_tqdm\n"
          ]
        },
        {
          "output_type": "stream",
          "name": "stdout",
          "text": [
            "True\n",
            "['sm_35', 'sm_50', 'sm_60', 'sm_61', 'sm_70', 'sm_75', 'compute_75']\n"
          ]
        }
      ]
    },
    {
      "cell_type": "code",
      "source": [
        "%conda list"
      ],
      "metadata": {
        "id": "LZlhhnKarxa8",
        "outputId": "06b79fcc-a41d-4868-fe7e-074f41613aaf",
        "colab": {
          "base_uri": "https://localhost:8080/",
          "height": 1000
        }
      },
      "execution_count": null,
      "outputs": [
        {
          "output_type": "display_data",
          "data": {
            "text/plain": [
              "<IPython.core.display.HTML object>"
            ],
            "text/html": [
              "<style>pre{white-space: pre-wrap;}</style>"
            ]
          },
          "metadata": {}
        },
        {
          "output_type": "stream",
          "name": "stdout",
          "text": [
            "# packages in environment at /home/souraviai/miniconda3/envs/OpenPCDet_102:\r\n",
            "#\r\n",
            "# Name                    Version                   Build  Channel\r\n",
            "_libgcc_mutex             0.1                 conda_forge    conda-forge\r\n",
            "_openmp_mutex             4.5                  2_kmp_llvm    conda-forge\r\n",
            "aiohttp                   3.8.3                    pypi_0    pypi\r\n",
            "aiosignal                 1.2.0                    pypi_0    pypi\r\n",
            "anyio                     3.5.0           py310h06a4308_0  \r\n",
            "aom                       3.4.0                h27087fc_1    conda-forge\r\n",
            "apptools                  5.2.0                    pypi_0    pypi\r\n",
            "argon2-cffi               20.1.0          py310h7f8727e_1  \r\n",
            "asttokens                 2.0.5              pyhd3eb1b0_0  \r\n",
            "astunparse                1.6.3                      py_0  \r\n",
            "async-timeout             4.0.2                    pypi_0    pypi\r\n",
            "attrs                     22.1.0                   pypi_0    pypi\r\n",
            "babel                     2.9.1              pyhd3eb1b0_0  \r\n",
            "backcall                  0.2.0              pyhd3eb1b0_0  \r\n",
            "beautifulsoup4            4.11.1          py310h06a4308_0  \r\n",
            "bleach                    4.1.0              pyhd3eb1b0_0  \r\n",
            "brotlipy                  0.7.0           py310h5764c6d_1004    conda-forge\r\n",
            "bzip2                     1.0.8                h7f98852_4    conda-forge\r\n",
            "c-ares                    1.18.1               h7f8727e_0  \r\n",
            "ca-certificates           2022.07.19           h06a4308_0  \r\n",
            "ccimport                  0.3.7                    pypi_0    pypi\r\n",
            "certifi                   2022.9.14       py310h06a4308_0  \r\n",
            "cffi                      1.15.1          py310h255011f_0    conda-forge\r\n",
            "charset-normalizer        2.1.1              pyhd8ed1ab_0    conda-forge\r\n",
            "cmake                     3.22.1               h1fce559_0  \r\n",
            "configobj                 5.0.6                    pypi_0    pypi\r\n",
            "contourpy                 1.0.5                    pypi_0    pypi\r\n",
            "cryptography              37.0.4          py310h597c629_0    conda-forge\r\n",
            "cudatoolkit               10.2.89             h713d32c_10    conda-forge\r\n",
            "cudnn                     7.6.5.32             h01f27c4_1    conda-forge\r\n",
            "cumm-cu102                0.2.8                    pypi_0    pypi\r\n",
            "cycler                    0.11.0                   pypi_0    pypi\r\n",
            "dataclasses               0.8                pyh6d0b6a4_7  \r\n",
            "debugpy                   1.5.1           py310h295c915_0  \r\n",
            "decorator                 5.1.1              pyhd3eb1b0_0  \r\n",
            "defusedxml                0.7.1              pyhd3eb1b0_0  \r\n",
            "easydict                  1.9                      pypi_0    pypi\r\n",
            "entrypoints               0.4             py310h06a4308_0  \r\n",
            "envisage                  6.1.0                    pypi_0    pypi\r\n",
            "executing                 0.8.3              pyhd3eb1b0_0  \r\n",
            "expat                     2.4.9                h27087fc_0    conda-forge\r\n",
            "ffmpeg                    5.1.1           gpl_hfe78399_101    conda-forge\r\n",
            "filelock                  3.8.0                    pypi_0    pypi\r\n",
            "fire                      0.4.0                    pypi_0    pypi\r\n",
            "font-ttf-dejavu-sans-mono 2.37                 hab24e00_0    conda-forge\r\n",
            "font-ttf-inconsolata      3.000                h77eed37_0    conda-forge\r\n",
            "font-ttf-source-code-pro  2.038                h77eed37_0    conda-forge\r\n",
            "font-ttf-ubuntu           0.83                 hab24e00_0    conda-forge\r\n",
            "fontconfig                2.14.0               hc2a2eb6_1    conda-forge\r\n",
            "fonts-conda-ecosystem     1                             0    conda-forge\r\n",
            "fonts-conda-forge         1                             0    conda-forge\r\n",
            "fonttools                 4.37.3                   pypi_0    pypi\r\n",
            "freetype                  2.12.1               hca18f0e_0    conda-forge\r\n",
            "frozenlist                1.3.1                    pypi_0    pypi\r\n",
            "future                    0.18.2          py310h06a4308_1  \r\n",
            "gdown                     4.5.1                    pypi_0    pypi\r\n",
            "gettext                   0.19.8.1          h73d1719_1008    conda-forge\r\n",
            "gmp                       6.2.1                h58526e2_0    conda-forge\r\n",
            "gnutls                    3.7.7                hf3e180e_0    conda-forge\r\n",
            "icu                       70.1                 h27087fc_0    conda-forge\r\n",
            "idna                      3.4                pyhd8ed1ab_0    conda-forge\r\n",
            "imageio                   2.22.0                   pypi_0    pypi\r\n",
            "ipykernel                 6.15.2          py310h06a4308_0  \r\n",
            "ipython                   8.4.0           py310h06a4308_0  \r\n",
            "ipython_genutils          0.2.0              pyhd3eb1b0_1  \r\n",
            "jedi                      0.18.1          py310h06a4308_1  \r\n",
            "jinja2                    3.0.3              pyhd3eb1b0_0  \r\n",
            "jpeg                      9e                   h166bdaf_2    conda-forge\r\n",
            "json5                     0.9.6              pyhd3eb1b0_0  \r\n",
            "jsonschema                4.4.0           py310h06a4308_0  \r\n",
            "jupyter-http-over-ws      0.0.8                    pypi_0    pypi\r\n",
            "jupyter_client            7.3.5           py310h06a4308_0  \r\n",
            "jupyter_core              4.10.0          py310h06a4308_0  \r\n",
            "jupyter_server            1.18.1          py310h06a4308_0  \r\n",
            "jupyterlab                3.4.4           py310h06a4308_0  \r\n",
            "jupyterlab_pygments       0.1.2                      py_0  \r\n",
            "jupyterlab_server         2.12.0          py310h06a4308_0  \r\n",
            "kiwisolver                1.4.4                    pypi_0    pypi\r\n",
            "krb5                      1.19.2               hac12032_0  \r\n",
            "lame                      3.100             h7f98852_1001    conda-forge\r\n",
            "lark                      1.1.2                    pypi_0    pypi\r\n",
            "lcms2                     2.12                 hddcbb42_0    conda-forge\r\n",
            "ld_impl_linux-64          2.36.1               hea4e1c9_2    conda-forge\r\n",
            "lerc                      4.0.0                h27087fc_0    conda-forge\r\n",
            "libblas                   3.9.0           16_linux64_openblas    conda-forge\r\n",
            "libcblas                  3.9.0           16_linux64_openblas    conda-forge\r\n",
            "libcurl                   7.84.0               h91b91d3_0  \r\n",
            "libdeflate                1.14                 h166bdaf_0    conda-forge\r\n",
            "libdrm                    2.4.113              h166bdaf_0    conda-forge\r\n",
            "libedit                   3.1.20210910         h7f8727e_0  \r\n",
            "libev                     4.33                 h7f8727e_1  \r\n",
            "libffi                    3.4.2                h7f98852_5    conda-forge\r\n",
            "libgcc-ng                 12.1.0              h8d9b700_16    conda-forge\r\n",
            "libgfortran-ng            12.1.0              h69a702a_16    conda-forge\r\n",
            "libgfortran5              12.1.0              hdcd56e2_16    conda-forge\r\n",
            "libhwloc                  2.8.0                h32351e8_1    conda-forge\r\n",
            "libiconv                  1.16                 h516909a_0    conda-forge\r\n",
            "libidn2                   2.3.3                h166bdaf_0    conda-forge\r\n",
            "liblapack                 3.9.0           16_linux64_openblas    conda-forge\r\n",
            "libnghttp2                1.46.0               hce63b2e_0  \r\n",
            "libnsl                    2.0.0                h7f98852_0    conda-forge\r\n",
            "libopenblas               0.3.21          pthreads_h78a6416_3    conda-forge\r\n",
            "libpciaccess              0.16                 h516909a_0    conda-forge\r\n",
            "libpng                    1.6.38               h753d276_0    conda-forge\r\n",
            "libprotobuf               3.20.1               h6239696_4    conda-forge\r\n",
            "libsodium                 1.0.18               h7b6447c_0  \r\n",
            "libsqlite                 3.39.3               h753d276_0    conda-forge\r\n",
            "libssh2                   1.10.0               h8f2d780_0  \r\n",
            "libstdcxx-ng              12.1.0              ha89aaad_16    conda-forge\r\n",
            "libtasn1                  4.19.0               h166bdaf_0    conda-forge\r\n",
            "libtiff                   4.4.0                h55922b4_4    conda-forge\r\n",
            "libunistring              0.9.10               h7f98852_0    conda-forge\r\n",
            "libuuid                   2.32.1            h7f98852_1000    conda-forge\r\n",
            "libuv                     1.40.0               h7b6447c_0  \r\n",
            "libva                     2.15.0               h166bdaf_0    conda-forge\r\n",
            "libvpx                    1.11.0               h9c3ff4c_3    conda-forge\r\n",
            "libwebp-base              1.2.4                h166bdaf_0    conda-forge\r\n",
            "libxcb                    1.13              h7f98852_1004    conda-forge\r\n",
            "libxml2                   2.9.14               h22db469_4    conda-forge\r\n",
            "libzlib                   1.2.12               h166bdaf_3    conda-forge\r\n",
            "llvm-openmp               14.0.4               he0ac6c6_0    conda-forge\r\n",
            "llvmlite                  0.39.1                   pypi_0    pypi\r\n",
            "magma                     2.5.4                h5da55e3_2    conda-forge\r\n",
            "markupsafe                2.1.1           py310h7f8727e_0  \r\n",
            "matplotlib                3.6.0                    pypi_0    pypi\r\n",
            "matplotlib-inline         0.1.6           py310h06a4308_0  \r\n",
            "mayavi                    4.8.0                    pypi_0    pypi\r\n",
            "mistune                   0.8.4           py310h7f8727e_1000  \r\n",
            "mkl                       2022.1.0           h84fe81f_915    conda-forge\r\n",
            "mkl-include               2022.1.0           h06a4308_224  \r\n",
            "multidict                 6.0.2                    pypi_0    pypi\r\n",
            "nbclassic                 0.3.5              pyhd3eb1b0_0  \r\n",
            "nbclient                  0.5.13          py310h06a4308_0  \r\n",
            "nbconvert                 6.4.4           py310h06a4308_0  \r\n",
            "nbformat                  5.5.0           py310h06a4308_0  \r\n",
            "nccl                      2.14.3.1             h1a5f58c_0    conda-forge\r\n",
            "ncurses                   6.3                  h27087fc_1    conda-forge\r\n",
            "nest-asyncio              1.5.5           py310h06a4308_0  \r\n",
            "nettle                    3.8.1                hc379101_1    conda-forge\r\n",
            "networkx                  2.8.6                    pypi_0    pypi\r\n",
            "ninja                     1.10.2.3                 pypi_0    pypi\r\n",
            "notebook                  6.4.12          py310h06a4308_0  \r\n",
            "numba                     0.56.2                   pypi_0    pypi\r\n",
            "numpy                     1.23.3          py310h53a5b5f_0    conda-forge\r\n",
            "openh264                  2.3.0                h27087fc_0    conda-forge\r\n",
            "openjpeg                  2.5.0                h7d73246_1    conda-forge\r\n",
            "openssl                   1.1.1q               h7f8727e_0  \r\n",
            "p11-kit                   0.24.1               hc5aa10d_0    conda-forge\r\n",
            "packaging                 21.3               pyhd3eb1b0_0  \r\n",
            "pandocfilters             1.5.0              pyhd3eb1b0_0  \r\n",
            "parso                     0.8.3              pyhd3eb1b0_0  \r\n",
            "pccm                      0.3.4                    pypi_0    pypi\r\n",
            "pcdet                     0.6.0+852cb91             dev_0    <develop>\r\n",
            "pexpect                   4.8.0              pyhd3eb1b0_3  \r\n",
            "pickleshare               0.7.5           pyhd3eb1b0_1003  \r\n",
            "pillow                    9.2.0           py310hbd86126_2    conda-forge\r\n",
            "pip                       22.2.2             pyhd8ed1ab_0    conda-forge\r\n",
            "portalocker               2.5.1                    pypi_0    pypi\r\n",
            "prometheus_client         0.14.1          py310h06a4308_0  \r\n",
            "prompt-toolkit            3.0.20             pyhd3eb1b0_0  \r\n",
            "protobuf                  3.20.1                   pypi_0    pypi\r\n",
            "psutil                    5.9.0           py310h5eee18b_0  \r\n",
            "pthread-stubs             0.4               h36c2ea0_1001    conda-forge\r\n",
            "ptyprocess                0.7.0              pyhd3eb1b0_2  \r\n",
            "pure_eval                 0.2.2              pyhd3eb1b0_0  \r\n",
            "pybind11                  2.10.0                   pypi_0    pypi\r\n",
            "pycparser                 2.21               pyhd8ed1ab_0    conda-forge\r\n",
            "pyface                    7.4.2                    pypi_0    pypi\r\n",
            "pygments                  2.13.0                   pypi_0    pypi\r\n",
            "pyopenssl                 22.0.0             pyhd8ed1ab_0    conda-forge\r\n",
            "pyparsing                 3.0.9           py310h06a4308_0  \r\n",
            "pyqt5                     5.15.7                   pypi_0    pypi\r\n",
            "pyqt5-qt5                 5.15.2                   pypi_0    pypi\r\n",
            "pyqt5-sip                 12.11.0                  pypi_0    pypi\r\n",
            "pyrsistent                0.18.0          py310h7f8727e_0  \r\n",
            "pysocks                   1.7.1              pyha2e5f31_6    conda-forge\r\n",
            "python                    3.10.6          h582c2e5_0_cpython    conda-forge\r\n",
            "python-dateutil           2.8.2              pyhd3eb1b0_0  \r\n",
            "python-fastjsonschema     2.16.2          py310h06a4308_0  \r\n",
            "python_abi                3.10                    2_cp310    conda-forge\r\n",
            "pytorch                   1.12.1          cuda102py310hdf4a2db_200    conda-forge\r\n",
            "pytorch-gpu               1.12.1          cuda102py310hc605b4a_200    conda-forge\r\n",
            "pytorch-mutex             1.0                        cuda    pytorch\r\n",
            "pytz                      2022.1          py310h06a4308_0  \r\n",
            "pywavelets                1.4.1                    pypi_0    pypi\r\n",
            "pyyaml                    6.0                      pypi_0    pypi\r\n",
            "pyzmq                     23.2.0          py310h6a678d5_0  \r\n",
            "readline                  8.1.2                h0f457ee_0    conda-forge\r\n",
            "requests                  2.28.1             pyhd8ed1ab_1    conda-forge\r\n",
            "rhash                     1.4.1                h3c74f83_1  \r\n",
            "scikit-image              0.19.3                   pypi_0    pypi\r\n",
            "scipy                     1.9.1                    pypi_0    pypi\r\n",
            "send2trash                1.8.0              pyhd3eb1b0_1  \r\n",
            "setuptools                59.8.0                   pypi_0    pypi\r\n",
            "sharedarray               3.2.1                    pypi_0    pypi\r\n",
            "six                       1.16.0             pyhd3eb1b0_1  \r\n",
            "sleef                     3.5.1                h9b69904_2    conda-forge\r\n",
            "sniffio                   1.2.0           py310h06a4308_1  \r\n",
            "soupsieve                 2.3.2.post1              pypi_0    pypi\r\n",
            "spconv-cu102              2.1.21                   pypi_0    pypi\r\n",
            "stack_data                0.2.0              pyhd3eb1b0_0  \r\n",
            "svt-av1                   1.2.1                h27087fc_0    conda-forge\r\n",
            "tbb                       2021.5.0             h924138e_3    conda-forge\r\n",
            "tensorboardx              2.5.1                    pypi_0    pypi\r\n",
            "termcolor                 2.0.1                    pypi_0    pypi\r\n",
            "terminado                 0.13.1          py310h06a4308_0  \r\n",
            "testpath                  0.6.0           py310h06a4308_0  \r\n",
            "tifffile                  2022.8.12                pypi_0    pypi\r\n",
            "tk                        8.6.12               h27826a3_0    conda-forge\r\n",
            "torchaudio                0.12.1              py310_cu102    pytorch\r\n",
            "torchvision               0.13.1              py310_cu102    pytorch\r\n",
            "tornado                   6.2             py310h5eee18b_0  \r\n",
            "tqdm                      4.64.1                   pypi_0    pypi\r\n",
            "traitlets                 5.1.1              pyhd3eb1b0_0  \r\n",
            "traits                    6.4.1                    pypi_0    pypi\r\n",
            "traitsui                  7.4.0                    pypi_0    pypi\r\n",
            "typing_extensions         4.3.0              pyha770c72_0    conda-forge\r\n",
            "tzdata                    2022c                h191b570_0    conda-forge\r\n",
            "urllib3                   1.26.11            pyhd8ed1ab_0    conda-forge\r\n",
            "vtk                       9.2.0rc2                 pypi_0    pypi\r\n",
            "wcwidth                   0.2.5              pyhd3eb1b0_0  \r\n",
            "webencodings              0.5.1           py310h06a4308_1  \r\n",
            "websocket-client          0.58.0          py310h06a4308_4  \r\n",
            "wheel                     0.37.1             pyhd8ed1ab_0    conda-forge\r\n",
            "wslink                    1.8.2                    pypi_0    pypi\r\n",
            "x264                      1!164.3095           h166bdaf_2    conda-forge\r\n",
            "x265                      3.5                  h924138e_3    conda-forge\r\n",
            "xorg-fixesproto           5.0               h7f98852_1002    conda-forge\r\n",
            "xorg-kbproto              1.0.7             h7f98852_1002    conda-forge\r\n",
            "xorg-libx11               1.7.2                h7f98852_0    conda-forge\r\n",
            "xorg-libxau               1.0.9                h7f98852_0    conda-forge\r\n",
            "xorg-libxdmcp             1.1.3                h7f98852_0    conda-forge\r\n",
            "xorg-libxext              1.3.4                h7f98852_1    conda-forge\r\n",
            "xorg-libxfixes            5.0.3             h7f98852_1004    conda-forge\r\n",
            "xorg-xextproto            7.3.0             h7f98852_1002    conda-forge\r\n",
            "xorg-xproto               7.0.31            h7f98852_1007    conda-forge\r\n",
            "xz                        5.2.6                h166bdaf_0    conda-forge\r\n",
            "yaml                      0.2.5                h7b6447c_0  \r\n",
            "yarl                      1.8.1                    pypi_0    pypi\r\n",
            "zeromq                    4.3.4                h2531618_0  \r\n",
            "zlib                      1.2.12               h5eee18b_3  \r\n",
            "zstd                      1.5.2                h6239696_4    conda-forge\r\n",
            "\n",
            "Note: you may need to restart the kernel to use updated packages.\n"
          ]
        }
      ]
    },
    {
      "cell_type": "code",
      "source": [
        "%ls /DATA/souraviai/my_Kitti/\n",
        "%ls data/kitti/*ing/"
      ],
      "metadata": {
        "id": "ftRL8hWHsuvv",
        "outputId": "f29d094a-3ebe-4828-f340-9bb010839019",
        "colab": {
          "base_uri": "https://localhost:8080/",
          "height": 123
        }
      },
      "execution_count": null,
      "outputs": [
        {
          "output_type": "display_data",
          "data": {
            "text/plain": [
              "<IPython.core.display.HTML object>"
            ],
            "text/html": [
              "<style>pre{white-space: pre-wrap;}</style>"
            ]
          },
          "metadata": {}
        },
        {
          "output_type": "display_data",
          "data": {
            "text/plain": [
              "<IPython.core.display.HTML object>"
            ],
            "text/html": [
              "<style>pre{white-space: pre-wrap;}</style>"
            ]
          },
          "metadata": {}
        },
        {
          "output_type": "stream",
          "name": "stdout",
          "text": [
            "pv_rcnn_8369.pth  \u001b[0m\u001b[01;34mraw\u001b[0m/\n",
            "data/kitti/testing/:\n",
            "\u001b[0m\u001b[01;34mcalib\u001b[0m/  \u001b[01;34mimage_2\u001b[0m/  \u001b[01;34mvelodyne\u001b[0m/\n",
            "\n",
            "data/kitti/training/:\n",
            "\u001b[01;34mcalib\u001b[0m/  \u001b[01;34mimage_2\u001b[0m/  \u001b[01;34mlabel_2\u001b[0m/  \u001b[01;34mvelodyne\u001b[0m/\n"
          ]
        }
      ]
    },
    {
      "cell_type": "code",
      "source": [
        "!python demo.py --cfg_file cfgs/kitti_models/pv_rcnn.yaml --ckpt /DATA/souraviai/my_Kitti/pv_rcnn_8369.pth --data_path ../data/kitti/training/velodyne/000000.bin"
      ],
      "metadata": {
        "id": "DXTOnd4ItgH4",
        "outputId": "0889f038-25a7-4f15-ce15-6d576cd5a653",
        "colab": {
          "base_uri": "https://localhost:8080/",
          "height": 159
        }
      },
      "execution_count": null,
      "outputs": [
        {
          "output_type": "display_data",
          "data": {
            "text/plain": [
              "<IPython.core.display.HTML object>"
            ],
            "text/html": [
              "<style>pre{white-space: pre-wrap;}</style>"
            ]
          },
          "metadata": {}
        },
        {
          "output_type": "stream",
          "name": "stdout",
          "text": [
            "qt.qpa.xcb: could not connect to display localhost:10.0\r\n",
            "qt.qpa.plugin: Could not load the Qt platform plugin \"xcb\" in \"\" even though it was found.\r\n",
            "This application failed to start because no Qt platform plugin could be initialized. Reinstalling the application may fix this problem.\r\n",
            "\r\n",
            "Available platform plugins are: eglfs, linuxfb, minimal, minimalegl, offscreen, vnc, wayland-egl, wayland, wayland-xcomposite-egl, wayland-xcomposite-glx, webgl, xcb.\r\n",
            "\r\n"
          ]
        }
      ]
    },
    {
      "cell_type": "code",
      "source": [
        "%cat /home/souraviai/error.txt"
      ],
      "metadata": {
        "id": "Pf0bFawDzmTt",
        "outputId": "304cf7e6-ee08-402b-e396-fa8cbf83cbaa",
        "colab": {
          "base_uri": "https://localhost:8080/",
          "height": 1000
        }
      },
      "execution_count": null,
      "outputs": [
        {
          "output_type": "display_data",
          "data": {
            "text/plain": [
              "<IPython.core.display.HTML object>"
            ],
            "text/html": [
              "<style>pre{white-space: pre-wrap;}</style>"
            ]
          },
          "metadata": {}
        },
        {
          "output_type": "stream",
          "name": "stdout",
          "text": [
            "QFactoryLoader::QFactoryLoader() checking directory path \"/home/souraviai/miniconda3/envs/OpenPCDet_102/lib/python3.10/site-packages/PyQt5/Qt5/plugins/platforms\" ...\r\n",
            "QFactoryLoader::QFactoryLoader() looking at \"/home/souraviai/miniconda3/envs/OpenPCDet_102/lib/python3.10/site-packages/PyQt5/Qt5/plugins/platforms/libqeglfs.so\"\r\n",
            "Found metadata in lib /home/souraviai/miniconda3/envs/OpenPCDet_102/lib/python3.10/site-packages/PyQt5/Qt5/plugins/platforms/libqeglfs.so, metadata=\r\n",
            "{\r\n",
            "    \"IID\": \"org.qt-project.Qt.QPA.QPlatformIntegrationFactoryInterface.5.3\",\r\n",
            "    \"MetaData\": {\r\n",
            "        \"Keys\": [\r\n",
            "            \"eglfs\"\r\n",
            "        ]\r\n",
            "    },\r\n",
            "    \"archreq\": 0,\r\n",
            "    \"className\": \"QEglFSIntegrationPlugin\",\r\n",
            "    \"debug\": false,\r\n",
            "    \"version\": 331520\r\n",
            "}\r\n",
            "\r\n",
            "\r\n",
            "Got keys from plugin meta data (\"eglfs\")\r\n",
            "QFactoryLoader::QFactoryLoader() looking at \"/home/souraviai/miniconda3/envs/OpenPCDet_102/lib/python3.10/site-packages/PyQt5/Qt5/plugins/platforms/libqlinuxfb.so\"\r\n",
            "Found metadata in lib /home/souraviai/miniconda3/envs/OpenPCDet_102/lib/python3.10/site-packages/PyQt5/Qt5/plugins/platforms/libqlinuxfb.so, metadata=\r\n",
            "{\r\n",
            "    \"IID\": \"org.qt-project.Qt.QPA.QPlatformIntegrationFactoryInterface.5.3\",\r\n",
            "    \"MetaData\": {\r\n",
            "        \"Keys\": [\r\n",
            "            \"linuxfb\"\r\n",
            "        ]\r\n",
            "    },\r\n",
            "    \"archreq\": 0,\r\n",
            "    \"className\": \"QLinuxFbIntegrationPlugin\",\r\n",
            "    \"debug\": false,\r\n",
            "    \"version\": 331520\r\n",
            "}\r\n",
            "\r\n",
            "\r\n",
            "Got keys from plugin meta data (\"linuxfb\")\r\n",
            "QFactoryLoader::QFactoryLoader() looking at \"/home/souraviai/miniconda3/envs/OpenPCDet_102/lib/python3.10/site-packages/PyQt5/Qt5/plugins/platforms/libqminimal.so\"\r\n",
            "Found metadata in lib /home/souraviai/miniconda3/envs/OpenPCDet_102/lib/python3.10/site-packages/PyQt5/Qt5/plugins/platforms/libqminimal.so, metadata=\r\n",
            "{\r\n",
            "    \"IID\": \"org.qt-project.Qt.QPA.QPlatformIntegrationFactoryInterface.5.3\",\r\n",
            "    \"MetaData\": {\r\n",
            "        \"Keys\": [\r\n",
            "            \"minimal\"\r\n",
            "        ]\r\n",
            "    },\r\n",
            "    \"archreq\": 0,\r\n",
            "    \"className\": \"QMinimalIntegrationPlugin\",\r\n",
            "    \"debug\": false,\r\n",
            "    \"version\": 331520\r\n",
            "}\r\n",
            "\r\n",
            "\r\n",
            "Got keys from plugin meta data (\"minimal\")\r\n",
            "QFactoryLoader::QFactoryLoader() looking at \"/home/souraviai/miniconda3/envs/OpenPCDet_102/lib/python3.10/site-packages/PyQt5/Qt5/plugins/platforms/libqminimalegl.so\"\r\n",
            "Found metadata in lib /home/souraviai/miniconda3/envs/OpenPCDet_102/lib/python3.10/site-packages/PyQt5/Qt5/plugins/platforms/libqminimalegl.so, metadata=\r\n",
            "{\r\n",
            "    \"IID\": \"org.qt-project.Qt.QPA.QPlatformIntegrationFactoryInterface.5.3\",\r\n",
            "    \"MetaData\": {\r\n",
            "        \"Keys\": [\r\n",
            "            \"minimalegl\"\r\n",
            "        ]\r\n",
            "    },\r\n",
            "    \"archreq\": 0,\r\n",
            "    \"className\": \"QMinimalEglIntegrationPlugin\",\r\n",
            "    \"debug\": false,\r\n",
            "    \"version\": 331520\r\n",
            "}\r\n",
            "\r\n",
            "\r\n",
            "Got keys from plugin meta data (\"minimalegl\")\r\n",
            "QFactoryLoader::QFactoryLoader() looking at \"/home/souraviai/miniconda3/envs/OpenPCDet_102/lib/python3.10/site-packages/PyQt5/Qt5/plugins/platforms/libqoffscreen.so\"\r\n",
            "Found metadata in lib /home/souraviai/miniconda3/envs/OpenPCDet_102/lib/python3.10/site-packages/PyQt5/Qt5/plugins/platforms/libqoffscreen.so, metadata=\r\n",
            "{\r\n",
            "    \"IID\": \"org.qt-project.Qt.QPA.QPlatformIntegrationFactoryInterface.5.3\",\r\n",
            "    \"MetaData\": {\r\n",
            "        \"Keys\": [\r\n",
            "            \"offscreen\"\r\n",
            "        ]\r\n",
            "    },\r\n",
            "    \"archreq\": 0,\r\n",
            "    \"className\": \"QOffscreenIntegrationPlugin\",\r\n",
            "    \"debug\": false,\r\n",
            "    \"version\": 331520\r\n",
            "}\r\n",
            "\r\n",
            "\r\n",
            "Got keys from plugin meta data (\"offscreen\")\r\n",
            "QFactoryLoader::QFactoryLoader() looking at \"/home/souraviai/miniconda3/envs/OpenPCDet_102/lib/python3.10/site-packages/PyQt5/Qt5/plugins/platforms/libqvnc.so\"\r\n",
            "Found metadata in lib /home/souraviai/miniconda3/envs/OpenPCDet_102/lib/python3.10/site-packages/PyQt5/Qt5/plugins/platforms/libqvnc.so, metadata=\r\n",
            "{\r\n",
            "    \"IID\": \"org.qt-project.Qt.QPA.QPlatformIntegrationFactoryInterface.5.3\",\r\n",
            "    \"MetaData\": {\r\n",
            "        \"Keys\": [\r\n",
            "            \"vnc\"\r\n",
            "        ]\r\n",
            "    },\r\n",
            "    \"archreq\": 0,\r\n",
            "    \"className\": \"QVncIntegrationPlugin\",\r\n",
            "    \"debug\": false,\r\n",
            "    \"version\": 331520\r\n",
            "}\r\n",
            "\r\n",
            "\r\n",
            "Got keys from plugin meta data (\"vnc\")\r\n",
            "QFactoryLoader::QFactoryLoader() looking at \"/home/souraviai/miniconda3/envs/OpenPCDet_102/lib/python3.10/site-packages/PyQt5/Qt5/plugins/platforms/libqwayland-egl.so\"\r\n",
            "Found metadata in lib /home/souraviai/miniconda3/envs/OpenPCDet_102/lib/python3.10/site-packages/PyQt5/Qt5/plugins/platforms/libqwayland-egl.so, metadata=\r\n",
            "{\r\n",
            "    \"IID\": \"org.qt-project.Qt.QPA.QPlatformIntegrationFactoryInterface.5.3\",\r\n",
            "    \"MetaData\": {\r\n",
            "        \"Keys\": [\r\n",
            "            \"wayland-egl\"\r\n",
            "        ]\r\n",
            "    },\r\n",
            "    \"archreq\": 0,\r\n",
            "    \"className\": \"QWaylandEglPlatformIntegrationPlugin\",\r\n",
            "    \"debug\": false,\r\n",
            "    \"version\": 331520\r\n",
            "}\r\n",
            "\r\n",
            "\r\n",
            "Got keys from plugin meta data (\"wayland-egl\")\r\n",
            "QFactoryLoader::QFactoryLoader() looking at \"/home/souraviai/miniconda3/envs/OpenPCDet_102/lib/python3.10/site-packages/PyQt5/Qt5/plugins/platforms/libqwayland-generic.so\"\r\n",
            "Found metadata in lib /home/souraviai/miniconda3/envs/OpenPCDet_102/lib/python3.10/site-packages/PyQt5/Qt5/plugins/platforms/libqwayland-generic.so, metadata=\r\n",
            "{\r\n",
            "    \"IID\": \"org.qt-project.Qt.QPA.QPlatformIntegrationFactoryInterface.5.3\",\r\n",
            "    \"MetaData\": {\r\n",
            "        \"Keys\": [\r\n",
            "            \"wayland\"\r\n",
            "        ]\r\n",
            "    },\r\n",
            "    \"archreq\": 0,\r\n",
            "    \"className\": \"QWaylandIntegrationPlugin\",\r\n",
            "    \"debug\": false,\r\n",
            "    \"version\": 331520\r\n",
            "}\r\n",
            "\r\n",
            "\r\n",
            "Got keys from plugin meta data (\"wayland\")\r\n",
            "QFactoryLoader::QFactoryLoader() looking at \"/home/souraviai/miniconda3/envs/OpenPCDet_102/lib/python3.10/site-packages/PyQt5/Qt5/plugins/platforms/libqwayland-xcomposite-egl.so\"\r\n",
            "Found metadata in lib /home/souraviai/miniconda3/envs/OpenPCDet_102/lib/python3.10/site-packages/PyQt5/Qt5/plugins/platforms/libqwayland-xcomposite-egl.so, metadata=\r\n",
            "{\r\n",
            "    \"IID\": \"org.qt-project.Qt.QPA.QPlatformIntegrationFactoryInterface.5.3\",\r\n",
            "    \"MetaData\": {\r\n",
            "        \"Keys\": [\r\n",
            "            \"wayland-xcomposite-egl\"\r\n",
            "        ]\r\n",
            "    },\r\n",
            "    \"archreq\": 0,\r\n",
            "    \"className\": \"QWaylandXCompositeEglPlatformIntegrationPlugin\",\r\n",
            "    \"debug\": false,\r\n",
            "    \"version\": 331520\r\n",
            "}\r\n",
            "\r\n",
            "\r\n",
            "Got keys from plugin meta data (\"wayland-xcomposite-egl\")\r\n",
            "QFactoryLoader::QFactoryLoader() looking at \"/home/souraviai/miniconda3/envs/OpenPCDet_102/lib/python3.10/site-packages/PyQt5/Qt5/plugins/platforms/libqwayland-xcomposite-glx.so\"\r\n",
            "Found metadata in lib /home/souraviai/miniconda3/envs/OpenPCDet_102/lib/python3.10/site-packages/PyQt5/Qt5/plugins/platforms/libqwayland-xcomposite-glx.so, metadata=\r\n",
            "{\r\n",
            "    \"IID\": \"org.qt-project.Qt.QPA.QPlatformIntegrationFactoryInterface.5.3\",\r\n",
            "    \"MetaData\": {\r\n",
            "        \"Keys\": [\r\n",
            "            \"wayland-xcomposite-glx\"\r\n",
            "        ]\r\n",
            "    },\r\n",
            "    \"archreq\": 0,\r\n",
            "    \"className\": \"QWaylandXCompositeGlxPlatformIntegrationPlugin\",\r\n",
            "    \"debug\": false,\r\n",
            "    \"version\": 331520\r\n",
            "}\r\n",
            "\r\n",
            "\r\n",
            "Got keys from plugin meta data (\"wayland-xcomposite-glx\")\r\n",
            "QFactoryLoader::QFactoryLoader() looking at \"/home/souraviai/miniconda3/envs/OpenPCDet_102/lib/python3.10/site-packages/PyQt5/Qt5/plugins/platforms/libqwebgl.so\"\r\n",
            "Found metadata in lib /home/souraviai/miniconda3/envs/OpenPCDet_102/lib/python3.10/site-packages/PyQt5/Qt5/plugins/platforms/libqwebgl.so, metadata=\r\n",
            "{\r\n",
            "    \"IID\": \"org.qt-project.Qt.QPA.QPlatformIntegrationFactoryInterface.5.3\",\r\n",
            "    \"MetaData\": {\r\n",
            "        \"Keys\": [\r\n",
            "            \"webgl\"\r\n",
            "        ]\r\n",
            "    },\r\n",
            "    \"archreq\": 0,\r\n",
            "    \"className\": \"QWebGLIntegrationPlugin\",\r\n",
            "    \"debug\": false,\r\n",
            "    \"version\": 331520\r\n",
            "}\r\n",
            "\r\n",
            "\r\n",
            "Got keys from plugin meta data (\"webgl\")\r\n",
            "QFactoryLoader::QFactoryLoader() looking at \"/home/souraviai/miniconda3/envs/OpenPCDet_102/lib/python3.10/site-packages/PyQt5/Qt5/plugins/platforms/libqxcb.so\"\r\n",
            "Found metadata in lib /home/souraviai/miniconda3/envs/OpenPCDet_102/lib/python3.10/site-packages/PyQt5/Qt5/plugins/platforms/libqxcb.so, metadata=\r\n",
            "{\r\n",
            "    \"IID\": \"org.qt-project.Qt.QPA.QPlatformIntegrationFactoryInterface.5.3\",\r\n",
            "    \"MetaData\": {\r\n",
            "        \"Keys\": [\r\n",
            "            \"xcb\"\r\n",
            "        ]\r\n",
            "    },\r\n",
            "    \"archreq\": 0,\r\n",
            "    \"className\": \"QXcbIntegrationPlugin\",\r\n",
            "    \"debug\": false,\r\n",
            "    \"version\": 331520\r\n",
            "}\r\n",
            "\r\n",
            "\r\n",
            "Got keys from plugin meta data (\"xcb\")\r\n",
            "QFactoryLoader::QFactoryLoader() checking directory path \"/home/souraviai/miniconda3/envs/OpenPCDet_102/bin/platforms\" ...\r\n",
            "loaded library \"/home/souraviai/miniconda3/envs/OpenPCDet_102/lib/python3.10/site-packages/PyQt5/Qt5/plugins/platforms/libqxcb.so\"\r\n",
            "qt.qpa.xcb: X server does not support XInput 2\r\n",
            "failed to get the current screen resources\r\n",
            "loaded library \"Xcursor\"\r\n",
            "QFactoryLoader::QFactoryLoader() checking directory path \"/home/souraviai/miniconda3/envs/OpenPCDet_102/lib/python3.10/site-packages/PyQt5/Qt5/plugins/platformthemes\" ...\r\n",
            "QFactoryLoader::QFactoryLoader() looking at \"/home/souraviai/miniconda3/envs/OpenPCDet_102/lib/python3.10/site-packages/PyQt5/Qt5/plugins/platformthemes/libqgtk3.so\"\r\n",
            "Found metadata in lib /home/souraviai/miniconda3/envs/OpenPCDet_102/lib/python3.10/site-packages/PyQt5/Qt5/plugins/platformthemes/libqgtk3.so, metadata=\r\n",
            "{\r\n",
            "    \"IID\": \"org.qt-project.Qt.QPA.QPlatformThemeFactoryInterface.5.1\",\r\n",
            "    \"MetaData\": {\r\n",
            "        \"Keys\": [\r\n",
            "            \"gtk3\"\r\n",
            "        ]\r\n",
            "    },\r\n",
            "    \"archreq\": 0,\r\n",
            "    \"className\": \"QGtk3ThemePlugin\",\r\n",
            "    \"debug\": false,\r\n",
            "    \"version\": 331520\r\n",
            "}\r\n",
            "\r\n",
            "\r\n",
            "Got keys from plugin meta data (\"gtk3\")\r\n",
            "QFactoryLoader::QFactoryLoader() looking at \"/home/souraviai/miniconda3/envs/OpenPCDet_102/lib/python3.10/site-packages/PyQt5/Qt5/plugins/platformthemes/libqxdgdesktopportal.so\"\r\n",
            "Found metadata in lib /home/souraviai/miniconda3/envs/OpenPCDet_102/lib/python3.10/site-packages/PyQt5/Qt5/plugins/platformthemes/libqxdgdesktopportal.so, metadata=\r\n",
            "{\r\n",
            "    \"IID\": \"org.qt-project.Qt.QPA.QPlatformThemeFactoryInterface.5.1\",\r\n",
            "    \"MetaData\": {\r\n",
            "        \"Keys\": [\r\n",
            "            \"xdgdesktopportal\",\r\n",
            "            \"flatpak\",\r\n",
            "            \"snap\"\r\n",
            "        ]\r\n",
            "    },\r\n",
            "    \"archreq\": 0,\r\n",
            "    \"className\": \"QXdgDesktopPortalThemePlugin\",\r\n",
            "    \"debug\": false,\r\n",
            "    \"version\": 331520\r\n",
            "}\r\n",
            "\r\n",
            "\r\n",
            "Got keys from plugin meta data (\"xdgdesktopportal\", \"flatpak\", \"snap\")\r\n",
            "QFactoryLoader::QFactoryLoader() checking directory path \"/home/souraviai/miniconda3/envs/OpenPCDet_102/bin/platformthemes\" ...\r\n",
            "QFactoryLoader::QFactoryLoader() checking directory path \"/home/souraviai/miniconda3/envs/OpenPCDet_102/lib/python3.10/site-packages/PyQt5/Qt5/plugins/platforminputcontexts\" ...\r\n",
            "QFactoryLoader::QFactoryLoader() looking at \"/home/souraviai/miniconda3/envs/OpenPCDet_102/lib/python3.10/site-packages/PyQt5/Qt5/plugins/platforminputcontexts/libcomposeplatforminputcontextplugin.so\"\r\n",
            "Found metadata in lib /home/souraviai/miniconda3/envs/OpenPCDet_102/lib/python3.10/site-packages/PyQt5/Qt5/plugins/platforminputcontexts/libcomposeplatforminputcontextplugin.so, metadata=\r\n",
            "{\r\n",
            "    \"IID\": \"org.qt-project.Qt.QPlatformInputContextFactoryInterface.5.1\",\r\n",
            "    \"MetaData\": {\r\n",
            "        \"Keys\": [\r\n",
            "            \"compose\",\r\n",
            "            \"xim\"\r\n",
            "        ]\r\n",
            "    },\r\n",
            "    \"archreq\": 0,\r\n",
            "    \"className\": \"QComposePlatformInputContextPlugin\",\r\n",
            "    \"debug\": false,\r\n",
            "    \"version\": 331520\r\n",
            "}\r\n",
            "\r\n",
            "\r\n",
            "Got keys from plugin meta data (\"compose\", \"xim\")\r\n",
            "QFactoryLoader::QFactoryLoader() looking at \"/home/souraviai/miniconda3/envs/OpenPCDet_102/lib/python3.10/site-packages/PyQt5/Qt5/plugins/platforminputcontexts/libibusplatforminputcontextplugin.so\"\r\n",
            "Found metadata in lib /home/souraviai/miniconda3/envs/OpenPCDet_102/lib/python3.10/site-packages/PyQt5/Qt5/plugins/platforminputcontexts/libibusplatforminputcontextplugin.so, metadata=\r\n",
            "{\r\n",
            "    \"IID\": \"org.qt-project.Qt.QPlatformInputContextFactoryInterface.5.1\",\r\n",
            "    \"MetaData\": {\r\n",
            "        \"Keys\": [\r\n",
            "            \"ibus\"\r\n",
            "        ]\r\n",
            "    },\r\n",
            "    \"archreq\": 0,\r\n",
            "    \"className\": \"QIbusPlatformInputContextPlugin\",\r\n",
            "    \"debug\": false,\r\n",
            "    \"version\": 331520\r\n",
            "}\r\n",
            "\r\n",
            "\r\n",
            "Got keys from plugin meta data (\"ibus\")\r\n",
            "QFactoryLoader::QFactoryLoader() checking directory path \"/home/souraviai/miniconda3/envs/OpenPCDet_102/bin/platforminputcontexts\" ...\r\n",
            "loaded library \"/home/souraviai/miniconda3/envs/OpenPCDet_102/lib/python3.10/site-packages/PyQt5/Qt5/plugins/platforminputcontexts/libcomposeplatforminputcontextplugin.so\"\r\n",
            "QFactoryLoader::QFactoryLoader() checking directory path \"/home/souraviai/miniconda3/envs/OpenPCDet_102/lib/python3.10/site-packages/PyQt5/Qt5/plugins/styles\" ...\r\n",
            "QFactoryLoader::QFactoryLoader() checking directory path \"/home/souraviai/miniconda3/envs/OpenPCDet_102/bin/styles\" ...\r\n",
            "Traceback (most recent call last):\r\n",
            "  File \"/home/souraviai/OpenPCDet/tools/demo.py\", line 6, in <module>\r\n",
            "    import open3d\r\n",
            "ModuleNotFoundError: No module named 'open3d'\r\n",
            "\r\n",
            "During handling of the above exception, another exception occurred:\r\n",
            "\r\n",
            "Traceback (most recent call last):\r\n",
            "  File \"/home/souraviai/OpenPCDet/tools/demo.py\", line 11, in <module>\r\n",
            "    from visual_utils import visualize_utils as V\r\n",
            "  File \"/home/souraviai/OpenPCDet/tools/visual_utils/visualize_utils.py\", line 3, in <module>\r\n",
            "    import torch\r\n",
            "  File \"/home/souraviai/miniconda3/envs/OpenPCDet_102/lib/python3.10/site-packages/torch/__init__.py\", line 202, in <module>\r\n",
            "    from torch._C import *  # noqa: F403\r\n",
            "ImportError: /lib/x86_64-linux-gnu/libstdc++.so.6: version `GLIBCXX_3.4.30' not found (required by /home/souraviai/miniconda3/envs/OpenPCDet_102/lib/python3.10/site-packages/torch/lib/libtorch_python.so)\r\n",
            "QLibraryPrivate::unload succeeded on \"/home/souraviai/miniconda3/envs/OpenPCDet_102/lib/python3.10/site-packages/PyQt5/Qt5/plugins/platforminputcontexts/libcomposeplatforminputcontextplugin.so\" \r\n",
            "QLibraryPrivate::unload succeeded on \"/home/souraviai/miniconda3/envs/OpenPCDet_102/lib/python3.10/site-packages/PyQt5/Qt5/plugins/platforms/libqxcb.so\" \r\n",
            "QLibraryPrivate::unload succeeded on \"Xcursor\" (faked)\r\n"
          ]
        }
      ]
    },
    {
      "cell_type": "code",
      "source": [
        "%pip install open3d"
      ],
      "metadata": {
        "id": "KJZhbmko0s4n",
        "outputId": "00e22707-61f8-4cb2-b57e-34c04dd2abad",
        "colab": {
          "base_uri": "https://localhost:8080/",
          "height": 70
        }
      },
      "execution_count": null,
      "outputs": [
        {
          "output_type": "display_data",
          "data": {
            "text/plain": [
              "<IPython.core.display.HTML object>"
            ],
            "text/html": [
              "<style>pre{white-space: pre-wrap;}</style>"
            ]
          },
          "metadata": {}
        },
        {
          "output_type": "stream",
          "name": "stdout",
          "text": [
            "\u001b[31mERROR: Could not find a version that satisfies the requirement open3d (from versions: none)\u001b[0m\u001b[31m\r\n",
            "\u001b[0m\u001b[31mERROR: No matching distribution found for open3d\u001b[0m\u001b[31m\r\n",
            "\u001b[0mNote: you may need to restart the kernel to use updated packages.\n"
          ]
        }
      ]
    },
    {
      "cell_type": "markdown",
      "source": [
        "### Git import"
      ],
      "metadata": {
        "id": "nKcDSfjznKID"
      }
    },
    {
      "cell_type": "code",
      "metadata": {
        "id": "CilkAW8b_Ywb",
        "collapsed": true
      },
      "source": [
        "# !rm -rf ../OpenPCDet/\n",
        "!git config --global user.email \"souravraha@ufl.edu\"\n",
        "!git config --global user.name \"Sourav Raha\"\n",
        "# !git clone https://github.com/souravraha/OpenPCDet.git\n",
        "# %cd OpenPCDet/"
      ],
      "execution_count": null,
      "outputs": []
    },
    {
      "cell_type": "code",
      "source": [
        "# !git remote add origin https://github.com/souravraha/OpenPCDet.git\n",
        "# !git remote add upstream https://github.com/open-mmlab/OpenPCDet.git\n",
        "!git remote -v"
      ],
      "metadata": {
        "id": "71DEk6u32b5u",
        "collapsed": true
      },
      "execution_count": null,
      "outputs": []
    },
    {
      "cell_type": "code",
      "source": [
        "# !git pull upstream master\n",
        "# !git checkout -b dry_run\n",
        "!git branch"
      ],
      "metadata": {
        "id": "Iu7KcF9S2-Qj",
        "collapsed": true
      },
      "execution_count": null,
      "outputs": []
    },
    {
      "cell_type": "markdown",
      "source": [
        "### Installation"
      ],
      "metadata": {
        "id": "dDhofOvrNZal"
      }
    },
    {
      "cell_type": "code",
      "source": [
        "%conda env list"
      ],
      "metadata": {
        "id": "QkNt4sFrPtsf"
      },
      "execution_count": null,
      "outputs": []
    },
    {
      "cell_type": "code",
      "source": [
        "%conda install pytorch torchvision torchaudio cudatoolkit=10.2 -c pytorch"
      ],
      "metadata": {
        "id": "VqKdLPNRODw1"
      },
      "execution_count": null,
      "outputs": []
    },
    {
      "cell_type": "code",
      "source": [
        "import torch\n",
        "print(torch.cuda.is_available())\n",
        "print(torch.cuda.get_arch_list())"
      ],
      "metadata": {
        "id": "x-zH3WsJSkJQ"
      },
      "execution_count": null,
      "outputs": []
    },
    {
      "cell_type": "code",
      "source": [
        "%run -p setup.py develop"
      ],
      "metadata": {
        "id": "1bCNdpX_9mNU",
        "collapsed": true
      },
      "execution_count": null,
      "outputs": []
    },
    {
      "cell_type": "code",
      "source": [
        "%run -m pcdet.datasets.kitti.kitti_dataset create_kitti_infos tools/cfgs/dataset_configs/kitti_dataset.yaml"
      ],
      "metadata": {
        "id": "Pj9LCQ0Yr9PK"
      },
      "execution_count": null,
      "outputs": []
    },
    {
      "cell_type": "code",
      "source": [
        "%pip install mayavi"
      ],
      "metadata": {
        "id": "mhGCaqOYwuPL"
      },
      "execution_count": null,
      "outputs": []
    },
    {
      "cell_type": "code",
      "source": [
        "%cd OpenPCDet/tools/"
      ],
      "metadata": {
        "id": "YsJeFvb3w7at"
      },
      "execution_count": null,
      "outputs": []
    },
    {
      "cell_type": "code",
      "source": [
        "%run -i demo.py --cfg_file cfgs/kitti_models/pv_rcnn.yaml --ckpt /DATA/souraviai/my_Kitti/pv_rcnn_8369.pth --data_path ../data/kitti/training/velodyne/000000.bin"
      ],
      "metadata": {
        "id": "xfB5lbt9xBrU"
      },
      "execution_count": null,
      "outputs": []
    },
    {
      "cell_type": "markdown",
      "source": [
        "### Download/Extract resources"
      ],
      "metadata": {
        "id": "-nyo3vM0mx85"
      }
    },
    {
      "cell_type": "code",
      "source": [
        "from torchvision.datasets import Kitti\n",
        "import os\n",
        "# from torchvision.datasets.utils import download_and_extract_archive, download_url, extract_archive"
      ],
      "metadata": {
        "id": "q_mkHKOgyKm7"
      },
      "execution_count": null,
      "outputs": []
    },
    {
      "cell_type": "code",
      "source": [
        "class my_Kitti(Kitti):\n",
        "\n",
        "    resources = Kitti.resources + ['data_object_velodyne.zip', 'data_object_calib.zip']\n",
        "    laser_dir_name = 'velodyne'\n",
        "    calib_dir_name = 'calib'\n",
        "    \n",
        "    def _check_exists(self) -> bool:\n",
        "        if super()._check_exists():\n",
        "            folders = [self.laser_dir_name, self.calib_dir_name]\n",
        "            return all(os.path.isdir(os.path.join(self._raw_folder, self._location, fname)) for fname in folders)\n",
        "\n",
        "        else:\n",
        "            return False\n",
        "\n",
        "    # def download(self) -> None:\n",
        "    #     \"\"\"Download the KITTI data if it doesn't exist already.\"\"\"\n",
        "\n",
        "    #     if self._check_exists():\n",
        "    #         return\n",
        "\n",
        "    #     os.makedirs(self._raw_folder, exist_ok=True)\n",
        "\n",
        "    #     # download files\n",
        "    #     # https://github.com/pytorch/vision/blob/main/torchvision/datasets/utils.py\n",
        "    #     for fname in self.resources:\n",
        "    #         # download_url(f\"{self.data_url}{fname}\", \n",
        "    #         #              '/content/drive/MyDrive/ml',\n",
        "    #         #              fname)\n",
        "    #         # extract_root = self._raw_folder\n",
        "    #         # archive = os.path.join('/content/drive/MyDrive/ml', fname)\n",
        "    #         # print(f\"Extracting {archive} to {extract_root}\")\n",
        "    #         # try:\n",
        "    #         #     extract_archive(archive, extract_root, True)\n",
        "    #         # except Exception as f:\n",
        "    #         #     print(f)\n",
        "\n",
        "    #         download_and_extract_archive(\n",
        "    #             url=f\"{self.data_url}{fname}\",\n",
        "    #             # This downloads the zip files\n",
        "    #             # download_root='/content/drive/MyDrive/ml',\n",
        "    #             download_root=self._raw_folder,\n",
        "    #             # This extracts to the desired location\n",
        "    #             # extract_root=self._raw_folder,\n",
        "    #             filename=fname,\n",
        "    #             # This deletes the downloaded zip files\n",
        "    #             # Can't download and extract in the same session\n",
        "    #             remove_finished=True,\n",
        "    #         )     "
      ],
      "metadata": {
        "id": "ySKO4Ct6zQfi"
      },
      "execution_count": null,
      "outputs": []
    },
    {
      "cell_type": "code",
      "source": [
        "_ = my_Kitti('./data/kitti', False, download=True)"
      ],
      "metadata": {
        "id": "evD481hu8PCQ"
      },
      "execution_count": null,
      "outputs": []
    },
    {
      "cell_type": "code",
      "source": [
        "rm -rf ../drive/MyDrive/ml/my_Kitti"
      ],
      "metadata": {
        "id": "rSaL25FASxGy"
      },
      "execution_count": null,
      "outputs": []
    },
    {
      "cell_type": "code",
      "source": [
        "!git add -A\n",
        "!git config --global user.name \"souravraha\"\n",
        "!git commit -m \"could not run final demo\"\n",
        "!git push origin dry_run"
      ],
      "metadata": {
        "id": "bidV56YHwS9u",
        "collapsed": true
      },
      "execution_count": null,
      "outputs": []
    }
  ]
}